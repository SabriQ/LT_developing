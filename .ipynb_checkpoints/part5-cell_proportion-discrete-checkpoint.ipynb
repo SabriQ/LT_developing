{
 "cells": [
  {
   "cell_type": "code",
   "execution_count": 1,
   "metadata": {},
   "outputs": [],
   "source": [
    "import glob,sys,os,re\n",
    "import numpy as np\n",
    "import pandas as pd\n",
    "from mylab.Functions import *\n",
    "from core.Cdatabase import *\n",
    "import matplotlib.pyplot as plt\n",
    "from matplotlib_venn import venn3,venn2\n",
    "db = DataBase()"
   ]
  },
  {
   "cell_type": "code",
   "execution_count": 2,
   "metadata": {
    "scrolled": true
   },
   "outputs": [
    {
     "data": {
      "text/plain": [
       "['\\\\\\\\10.10.47.163\\\\qiushou\\\\LinearTrack\\\\results\\\\celltypes\\\\celltype_2020061_part5_day20200810_aim_test.pkl',\n",
       " '\\\\\\\\10.10.47.163\\\\qiushou\\\\LinearTrack\\\\results\\\\celltypes\\\\celltype_2020061_part5_day20200811_aim_train.pkl',\n",
       " '\\\\\\\\10.10.47.163\\\\qiushou\\\\LinearTrack\\\\results\\\\celltypes\\\\celltype_2020061_part5_day20200812_aim_train.pkl',\n",
       " '\\\\\\\\10.10.47.163\\\\qiushou\\\\LinearTrack\\\\results\\\\celltypes\\\\celltype_2020061_part5_day20200814_aim_train.pkl',\n",
       " '\\\\\\\\10.10.47.163\\\\qiushou\\\\LinearTrack\\\\results\\\\celltypes\\\\celltype_2020061_part5_day20200816_aim_test.pkl',\n",
       " '\\\\\\\\10.10.47.163\\\\qiushou\\\\LinearTrack\\\\results\\\\celltypes\\\\celltype_2020061_part5_day20200818_aim_test.pkl',\n",
       " '\\\\\\\\10.10.47.163\\\\qiushou\\\\LinearTrack\\\\results\\\\celltypes\\\\celltype_2020061_part5_day20200819_aim_test.pkl',\n",
       " '\\\\\\\\10.10.47.163\\\\qiushou\\\\LinearTrack\\\\results\\\\celltypes\\\\celltype_2020061_part5_day20200820_aim_test.pkl',\n",
       " '\\\\\\\\10.10.47.163\\\\qiushou\\\\LinearTrack\\\\results\\\\celltypes\\\\celltype_2020061_part5_day20200821_aim_test.pkl',\n",
       " '\\\\\\\\10.10.47.163\\\\qiushou\\\\LinearTrack\\\\results\\\\celltypes\\\\celltype_2020061_part5_day20200823_aim_test.pkl',\n",
       " '\\\\\\\\10.10.47.163\\\\qiushou\\\\LinearTrack\\\\results\\\\celltypes\\\\celltype_2020061_part5_day20200824_aim_test.pkl',\n",
       " '\\\\\\\\10.10.47.163\\\\qiushou\\\\LinearTrack\\\\results\\\\celltypes\\\\celltype_2020061_part5_day20200825_aim_test.pkl',\n",
       " '\\\\\\\\10.10.47.163\\\\qiushou\\\\LinearTrack\\\\results\\\\celltypes\\\\celltype_2020061_part5_day20200826_aim_test.pkl',\n",
       " '\\\\\\\\10.10.47.163\\\\qiushou\\\\LinearTrack\\\\results\\\\celltypes\\\\celltype_2020061_part5_day20200828_aim_test.pkl',\n",
       " '\\\\\\\\10.10.47.163\\\\qiushou\\\\LinearTrack\\\\results\\\\celltypes\\\\celltype_206534_part5_day20200810_aim_test.pkl',\n",
       " '\\\\\\\\10.10.47.163\\\\qiushou\\\\LinearTrack\\\\results\\\\celltypes\\\\celltype_206534_part5_day20200812_aim_train.pkl',\n",
       " '\\\\\\\\10.10.47.163\\\\qiushou\\\\LinearTrack\\\\results\\\\celltypes\\\\celltype_206534_part5_day20200814_aim_train.pkl',\n",
       " '\\\\\\\\10.10.47.163\\\\qiushou\\\\LinearTrack\\\\results\\\\celltypes\\\\celltype_206534_part5_day20200818_aim_train.pkl',\n",
       " '\\\\\\\\10.10.47.163\\\\qiushou\\\\LinearTrack\\\\results\\\\celltypes\\\\celltype_206534_part5_day20200821_aim_test.pkl',\n",
       " '\\\\\\\\10.10.47.163\\\\qiushou\\\\LinearTrack\\\\results\\\\celltypes\\\\celltype_206534_part5_day20200824_aim_test.pkl',\n",
       " '\\\\\\\\10.10.47.163\\\\qiushou\\\\LinearTrack\\\\results\\\\celltypes\\\\celltype_206548_part5_day20200810_aim_test.pkl',\n",
       " '\\\\\\\\10.10.47.163\\\\qiushou\\\\LinearTrack\\\\results\\\\celltypes\\\\celltype_206548_part5_day20200811_aim_train.pkl',\n",
       " '\\\\\\\\10.10.47.163\\\\qiushou\\\\LinearTrack\\\\results\\\\celltypes\\\\celltype_206548_part5_day20200812_aim_train.pkl',\n",
       " '\\\\\\\\10.10.47.163\\\\qiushou\\\\LinearTrack\\\\results\\\\celltypes\\\\celltype_206548_part5_day20200814_aim_train.pkl',\n",
       " '\\\\\\\\10.10.47.163\\\\qiushou\\\\LinearTrack\\\\results\\\\celltypes\\\\celltype_206548_part5_day20200816_aim_test.pkl',\n",
       " '\\\\\\\\10.10.47.163\\\\qiushou\\\\LinearTrack\\\\results\\\\celltypes\\\\celltype_206548_part5_day20200818_aim_test.pkl',\n",
       " '\\\\\\\\10.10.47.163\\\\qiushou\\\\LinearTrack\\\\results\\\\celltypes\\\\celltype_206548_part5_day20200819_aim_test.pkl',\n",
       " '\\\\\\\\10.10.47.163\\\\qiushou\\\\LinearTrack\\\\results\\\\celltypes\\\\celltype_206548_part5_day20200821_aim_test.pkl',\n",
       " '\\\\\\\\10.10.47.163\\\\qiushou\\\\LinearTrack\\\\results\\\\celltypes\\\\celltype_206548_part5_day20200823_aim_test.pkl',\n",
       " '\\\\\\\\10.10.47.163\\\\qiushou\\\\LinearTrack\\\\results\\\\celltypes\\\\celltype_206548_part5_day20200824_aim_test.pkl',\n",
       " '\\\\\\\\10.10.47.163\\\\qiushou\\\\LinearTrack\\\\results\\\\celltypes\\\\celltype_206548_part5_day20200825_aim_test.pkl',\n",
       " '\\\\\\\\10.10.47.163\\\\qiushou\\\\LinearTrack\\\\results\\\\celltypes\\\\celltype_206548_part5_day20200826_aim_test.pkl',\n",
       " '\\\\\\\\10.10.47.163\\\\qiushou\\\\LinearTrack\\\\results\\\\celltypes\\\\celltype_206548_part5_day20200828_aim_test.pkl',\n",
       " '\\\\\\\\10.10.47.163\\\\qiushou\\\\LinearTrack\\\\results\\\\celltypes\\\\celltype_206550_part5_day20200810_aim_test.pkl',\n",
       " '\\\\\\\\10.10.47.163\\\\qiushou\\\\LinearTrack\\\\results\\\\celltypes\\\\celltype_206550_part5_day20200811_aim_train.pkl',\n",
       " '\\\\\\\\10.10.47.163\\\\qiushou\\\\LinearTrack\\\\results\\\\celltypes\\\\celltype_206550_part5_day20200812_aim_train.pkl',\n",
       " '\\\\\\\\10.10.47.163\\\\qiushou\\\\LinearTrack\\\\results\\\\celltypes\\\\celltype_206550_part5_day20200813_aim_train.pkl',\n",
       " '\\\\\\\\10.10.47.163\\\\qiushou\\\\LinearTrack\\\\results\\\\celltypes\\\\celltype_206550_part5_day20200816_aim_test.pkl',\n",
       " '\\\\\\\\10.10.47.163\\\\qiushou\\\\LinearTrack\\\\results\\\\celltypes\\\\celltype_206550_part5_day20200819_aim_test.pkl',\n",
       " '\\\\\\\\10.10.47.163\\\\qiushou\\\\LinearTrack\\\\results\\\\celltypes\\\\celltype_206550_part5_day20200820_aim_test.pkl',\n",
       " '\\\\\\\\10.10.47.163\\\\qiushou\\\\LinearTrack\\\\results\\\\celltypes\\\\celltype_206550_part5_day20200821_aim_test.pkl',\n",
       " '\\\\\\\\10.10.47.163\\\\qiushou\\\\LinearTrack\\\\results\\\\celltypes\\\\celltype_206550_part5_day20200823_aim_test.pkl',\n",
       " '\\\\\\\\10.10.47.163\\\\qiushou\\\\LinearTrack\\\\results\\\\celltypes\\\\celltype_206550_part5_day20200824_aim_test.pkl',\n",
       " '\\\\\\\\10.10.47.163\\\\qiushou\\\\LinearTrack\\\\results\\\\celltypes\\\\celltype_206550_part5_day20200825_aim_test.pkl',\n",
       " '\\\\\\\\10.10.47.163\\\\qiushou\\\\LinearTrack\\\\results\\\\celltypes\\\\celltype_206550_part5_day20200826_aim_test.pkl',\n",
       " '\\\\\\\\10.10.47.163\\\\qiushou\\\\LinearTrack\\\\results\\\\celltypes\\\\celltype_206550_part5_day20200828_aim_test.pkl',\n",
       " '\\\\\\\\10.10.47.163\\\\qiushou\\\\LinearTrack\\\\results\\\\celltypes\\\\celltype_206551_part5_day20200810_aim_test.pkl',\n",
       " '\\\\\\\\10.10.47.163\\\\qiushou\\\\LinearTrack\\\\results\\\\celltypes\\\\celltype_206551_part5_day20200812_aim_train.pkl',\n",
       " '\\\\\\\\10.10.47.163\\\\qiushou\\\\LinearTrack\\\\results\\\\celltypes\\\\celltype_206551_part5_day20200814_aim_test.pkl',\n",
       " '\\\\\\\\10.10.47.163\\\\qiushou\\\\LinearTrack\\\\results\\\\celltypes\\\\celltype_206551_part5_day20200818_aim_train.pkl',\n",
       " '\\\\\\\\10.10.47.163\\\\qiushou\\\\LinearTrack\\\\results\\\\celltypes\\\\celltype_206551_part5_day20200821_aim_test.pkl',\n",
       " '\\\\\\\\10.10.47.163\\\\qiushou\\\\LinearTrack\\\\results\\\\celltypes\\\\celltype_206551_part5_day20200824_aim_test.pkl',\n",
       " '\\\\\\\\10.10.47.163\\\\qiushou\\\\LinearTrack\\\\results\\\\celltypes\\\\celltype_206551_part5_day20200825_aim_test.pkl',\n",
       " '\\\\\\\\10.10.47.163\\\\qiushou\\\\LinearTrack\\\\results\\\\celltypes\\\\celltype_206551_part5_day20200831_aim_test.pkl',\n",
       " '\\\\\\\\10.10.47.163\\\\qiushou\\\\LinearTrack\\\\results\\\\celltypes\\\\celltype_206551_part6_day20200901_aim_test.pkl',\n",
       " '\\\\\\\\10.10.47.163\\\\qiushou\\\\LinearTrack\\\\results\\\\celltypes\\\\celltype_206551_part6_day20200902_aim_test.pkl',\n",
       " '\\\\\\\\10.10.47.163\\\\qiushou\\\\LinearTrack\\\\results\\\\celltypes\\\\celltype_206551_part6_day20200904_aim_test.pkl',\n",
       " '\\\\\\\\10.10.47.163\\\\qiushou\\\\LinearTrack\\\\results\\\\celltypes\\\\celltype_206551_part6_day20200905_aim_test.pkl',\n",
       " '\\\\\\\\10.10.47.163\\\\qiushou\\\\LinearTrack\\\\results\\\\celltypes\\\\celltype_206551_part6_day20200906_aim_test.pkl',\n",
       " '\\\\\\\\10.10.47.163\\\\qiushou\\\\LinearTrack\\\\results\\\\celltypes\\\\celltype_206551_part6_day20200908_aim_test.pkl',\n",
       " '\\\\\\\\10.10.47.163\\\\qiushou\\\\LinearTrack\\\\results\\\\celltypes\\\\celltype_206552_part5_day20200810_aim_test.pkl',\n",
       " '\\\\\\\\10.10.47.163\\\\qiushou\\\\LinearTrack\\\\results\\\\celltypes\\\\celltype_206552_part5_day20200811_aim_train.pkl',\n",
       " '\\\\\\\\10.10.47.163\\\\qiushou\\\\LinearTrack\\\\results\\\\celltypes\\\\celltype_206552_part5_day20200812_aim_train.pkl',\n",
       " '\\\\\\\\10.10.47.163\\\\qiushou\\\\LinearTrack\\\\results\\\\celltypes\\\\celltype_206552_part5_day20200814_aim_train.pkl',\n",
       " '\\\\\\\\10.10.47.163\\\\qiushou\\\\LinearTrack\\\\results\\\\celltypes\\\\celltype_206552_part5_day20200816_aim_train.pkl',\n",
       " '\\\\\\\\10.10.47.163\\\\qiushou\\\\LinearTrack\\\\results\\\\celltypes\\\\celltype_206552_part5_day20200818_aim_test.pkl',\n",
       " '\\\\\\\\10.10.47.163\\\\qiushou\\\\LinearTrack\\\\results\\\\celltypes\\\\celltype_206552_part5_day20200819_aim_test.pkl',\n",
       " '\\\\\\\\10.10.47.163\\\\qiushou\\\\LinearTrack\\\\results\\\\celltypes\\\\celltype_206552_part5_day20200820_aim_test.pkl',\n",
       " '\\\\\\\\10.10.47.163\\\\qiushou\\\\LinearTrack\\\\results\\\\celltypes\\\\celltype_206552_part5_day20200821_aim_test.pkl',\n",
       " '\\\\\\\\10.10.47.163\\\\qiushou\\\\LinearTrack\\\\results\\\\celltypes\\\\celltype_206552_part5_day20200823_aim_test.pkl',\n",
       " '\\\\\\\\10.10.47.163\\\\qiushou\\\\LinearTrack\\\\results\\\\celltypes\\\\celltype_206552_part5_day20200824_aim_test.pkl',\n",
       " '\\\\\\\\10.10.47.163\\\\qiushou\\\\LinearTrack\\\\results\\\\celltypes\\\\celltype_206552_part5_day20200825_aim_test.pkl',\n",
       " '\\\\\\\\10.10.47.163\\\\qiushou\\\\LinearTrack\\\\results\\\\celltypes\\\\celltype_206552_part5_day20200826_aim_test.pkl',\n",
       " '\\\\\\\\10.10.47.163\\\\qiushou\\\\LinearTrack\\\\results\\\\celltypes\\\\celltype_206552_part5_day20200828_aim_test.pkl',\n",
       " '\\\\\\\\10.10.47.163\\\\qiushou\\\\LinearTrack\\\\results\\\\celltypes\\\\celltype_206552_part5_day20200831_aim_test.pkl',\n",
       " '\\\\\\\\10.10.47.163\\\\qiushou\\\\LinearTrack\\\\results\\\\celltypes\\\\celltype_206552_part6_day20200901_aim_test.pkl',\n",
       " '\\\\\\\\10.10.47.163\\\\qiushou\\\\LinearTrack\\\\results\\\\celltypes\\\\celltype_206552_part6_day20200902_aim_test.pkl',\n",
       " '\\\\\\\\10.10.47.163\\\\qiushou\\\\LinearTrack\\\\results\\\\celltypes\\\\celltype_206552_part6_day20200904_aim_test.pkl',\n",
       " '\\\\\\\\10.10.47.163\\\\qiushou\\\\LinearTrack\\\\results\\\\celltypes\\\\celltype_206552_part6_day20200905_aim_test.pkl',\n",
       " '\\\\\\\\10.10.47.163\\\\qiushou\\\\LinearTrack\\\\results\\\\celltypes\\\\celltype_206552_part6_day20200906_aim_test.pkl',\n",
       " '\\\\\\\\10.10.47.163\\\\qiushou\\\\LinearTrack\\\\results\\\\celltypes\\\\celltype_206552_part6_day20200908_aim_test.pkl',\n",
       " '\\\\\\\\10.10.47.163\\\\qiushou\\\\LinearTrack\\\\results\\\\celltypes\\\\celltype_206553_part5_day20200812_aim_train.pkl',\n",
       " '\\\\\\\\10.10.47.163\\\\qiushou\\\\LinearTrack\\\\results\\\\celltypes\\\\celltype_206553_part5_day20200814_aim_test.pkl',\n",
       " '\\\\\\\\10.10.47.163\\\\qiushou\\\\LinearTrack\\\\results\\\\celltypes\\\\celltype_206553_part5_day20200816_aim_test.pkl',\n",
       " '\\\\\\\\10.10.47.163\\\\qiushou\\\\LinearTrack\\\\results\\\\celltypes\\\\celltype_206553_part5_day20200818_aim_test.pkl',\n",
       " '\\\\\\\\10.10.47.163\\\\qiushou\\\\LinearTrack\\\\results\\\\celltypes\\\\celltype_206553_part5_day20200819_aim_test.pkl',\n",
       " '\\\\\\\\10.10.47.163\\\\qiushou\\\\LinearTrack\\\\results\\\\celltypes\\\\celltype_206553_part5_day20200820_aim_test.pkl',\n",
       " '\\\\\\\\10.10.47.163\\\\qiushou\\\\LinearTrack\\\\results\\\\celltypes\\\\celltype_206553_part5_day20200823_aim_test.pkl',\n",
       " '\\\\\\\\10.10.47.163\\\\qiushou\\\\LinearTrack\\\\results\\\\celltypes\\\\celltype_206553_part5_day20200824_aim_test.pkl',\n",
       " '\\\\\\\\10.10.47.163\\\\qiushou\\\\LinearTrack\\\\results\\\\celltypes\\\\celltype_206553_part5_day20200825_aim_test.pkl',\n",
       " '\\\\\\\\10.10.47.163\\\\qiushou\\\\LinearTrack\\\\results\\\\celltypes\\\\celltype_206553_part5_day20200826_aim_test.pkl',\n",
       " '\\\\\\\\10.10.47.163\\\\qiushou\\\\LinearTrack\\\\results\\\\celltypes\\\\celltype_206553_part5_day20200828_aim_test.pkl',\n",
       " '\\\\\\\\10.10.47.163\\\\qiushou\\\\LinearTrack\\\\results\\\\celltypes\\\\celltype_206553_part5_day20200831_aim_test.pkl',\n",
       " '\\\\\\\\10.10.47.163\\\\qiushou\\\\LinearTrack\\\\results\\\\celltypes\\\\celltype_206553_part6_day20200901_aim_test.pkl',\n",
       " '\\\\\\\\10.10.47.163\\\\qiushou\\\\LinearTrack\\\\results\\\\celltypes\\\\celltype_206553_part6_day20200902_aim_test.pkl',\n",
       " '\\\\\\\\10.10.47.163\\\\qiushou\\\\LinearTrack\\\\results\\\\celltypes\\\\celltype_206553_part6_day20200904_aim_test.pkl',\n",
       " '\\\\\\\\10.10.47.163\\\\qiushou\\\\LinearTrack\\\\results\\\\celltypes\\\\celltype_206553_part6_day20200905_aim_test.pkl',\n",
       " '\\\\\\\\10.10.47.163\\\\qiushou\\\\LinearTrack\\\\results\\\\celltypes\\\\celltype_206553_part6_day20200906_aim_test.pkl',\n",
       " '\\\\\\\\10.10.47.163\\\\qiushou\\\\LinearTrack\\\\results\\\\celltypes\\\\celltype_206553_part6_day20200908_aim_test.pkl',\n",
       " '\\\\\\\\10.10.47.163\\\\qiushou\\\\LinearTrack\\\\results\\\\celltypes\\\\celltype_206553_part6_day20200909_aim_test.pkl']"
      ]
     },
     "execution_count": 2,
     "metadata": {},
     "output_type": "execute_result"
    }
   ],
   "source": [
    "celltypes = db.index_celltypes()\n",
    "celltypes = [i for i in celltypes if \"aim_test\"  in i or \"aim_train\" in i ]\n",
    "celltypes = [i for i in celltypes if \"20103\" not in i]\n",
    "# celltypes_2020061 = [i for i in celltypes if \"20200805\" in i or \"20200806\" in i or \"20200807\" in i];\n",
    "celltypes"
   ]
  },
  {
   "cell_type": "code",
   "execution_count": 3,
   "metadata": {},
   "outputs": [],
   "source": [
    "# mouseids = [\"206550\",\"206551\",\"206552\",\"206553\"]\n",
    "mouseids = [\"2020061\",\"206534\",\"206548\",\"206550\",\"206551\",\"206552\",\"206553\"]"
   ]
  },
  {
   "cell_type": "markdown",
   "metadata": {},
   "source": [
    "## index celltype files and categorize\n",
    "### according to aim,Total_Accuracy,Trial_Num"
   ]
  },
  {
   "cell_type": "markdown",
   "metadata": {},
   "source": [
    "#### Celltypes continuous"
   ]
  },
  {
   "cell_type": "code",
   "execution_count": 4,
   "metadata": {},
   "outputs": [],
   "source": [
    "def func(celltypefile):\n",
    "    stat_info = load_pkl(celltypefile)[\"stat_info\"]\n",
    "    return stat_info[\"Total_Accuracy\"],stat_info[\"aim\"],stat_info['Trial_Num']\n",
    "\n",
    "\n",
    "\n",
    "Celltypes = {}\n",
    "for mouseid in mouseids:\n",
    "    celltypefiles = [i for i in celltypes if mouseid in i]\n",
    "    Celltypes[mouseid]={}\n",
    "    Celltypes[mouseid][\"train\"]=[]\n",
    "    Celltypes[mouseid][\"40\"]=[]\n",
    "    Celltypes[mouseid][\"60\"]=[]\n",
    "    Celltypes[mouseid][\"50-60\"]=[]\n",
    "    Celltypes[mouseid][\"60-70\"]=[]\n",
    "    Celltypes[mouseid][\"70-80\"]=[]\n",
    "    Celltypes[mouseid][\"80\"] = []\n",
    "    for celltypefile in celltypefiles:\n",
    "        TA,aim,TN = func(celltypefile)\n",
    "        if TN>30:        \n",
    "            if aim==\"test\":            \n",
    "                if TA>=0.4 and TA<0.6:\n",
    "                    Celltypes[mouseid][\"60\"].append(celltypefile)\n",
    "                elif TA <0.4:\n",
    "                    Celltypes[mouseid][\"40\"].append(celltypefile)\n",
    "                elif TA<0.7 and TA>=0.6:\n",
    "                    Celltypes[mouseid][\"60-70\"].append(celltypefile)\n",
    "                elif TA<0.8 and TA>=0.7:\n",
    "                    Celltypes[mouseid][\"70-80\"].append(celltypefile)\n",
    "                else:\n",
    "                    Celltypes[mouseid][\"80\"].append(celltypefile)\n",
    "            else:\n",
    "                Celltypes[mouseid][\"train\"].append(celltypefile)"
   ]
  },
  {
   "cell_type": "code",
   "execution_count": 5,
   "metadata": {},
   "outputs": [
    {
     "data": {
      "text/plain": [
       "{'train': ['\\\\\\\\10.10.47.163\\\\qiushou\\\\LinearTrack\\\\results\\\\celltypes\\\\celltype_2020061_part5_day20200811_aim_train.pkl',\n",
       "  '\\\\\\\\10.10.47.163\\\\qiushou\\\\LinearTrack\\\\results\\\\celltypes\\\\celltype_2020061_part5_day20200812_aim_train.pkl',\n",
       "  '\\\\\\\\10.10.47.163\\\\qiushou\\\\LinearTrack\\\\results\\\\celltypes\\\\celltype_2020061_part5_day20200814_aim_train.pkl'],\n",
       " '40': ['\\\\\\\\10.10.47.163\\\\qiushou\\\\LinearTrack\\\\results\\\\celltypes\\\\celltype_2020061_part5_day20200818_aim_test.pkl'],\n",
       " '60': ['\\\\\\\\10.10.47.163\\\\qiushou\\\\LinearTrack\\\\results\\\\celltypes\\\\celltype_2020061_part5_day20200810_aim_test.pkl',\n",
       "  '\\\\\\\\10.10.47.163\\\\qiushou\\\\LinearTrack\\\\results\\\\celltypes\\\\celltype_2020061_part5_day20200816_aim_test.pkl',\n",
       "  '\\\\\\\\10.10.47.163\\\\qiushou\\\\LinearTrack\\\\results\\\\celltypes\\\\celltype_2020061_part5_day20200819_aim_test.pkl',\n",
       "  '\\\\\\\\10.10.47.163\\\\qiushou\\\\LinearTrack\\\\results\\\\celltypes\\\\celltype_2020061_part5_day20200820_aim_test.pkl',\n",
       "  '\\\\\\\\10.10.47.163\\\\qiushou\\\\LinearTrack\\\\results\\\\celltypes\\\\celltype_2020061_part5_day20200821_aim_test.pkl',\n",
       "  '\\\\\\\\10.10.47.163\\\\qiushou\\\\LinearTrack\\\\results\\\\celltypes\\\\celltype_2020061_part5_day20200823_aim_test.pkl',\n",
       "  '\\\\\\\\10.10.47.163\\\\qiushou\\\\LinearTrack\\\\results\\\\celltypes\\\\celltype_2020061_part5_day20200824_aim_test.pkl',\n",
       "  '\\\\\\\\10.10.47.163\\\\qiushou\\\\LinearTrack\\\\results\\\\celltypes\\\\celltype_2020061_part5_day20200825_aim_test.pkl',\n",
       "  '\\\\\\\\10.10.47.163\\\\qiushou\\\\LinearTrack\\\\results\\\\celltypes\\\\celltype_2020061_part5_day20200826_aim_test.pkl',\n",
       "  '\\\\\\\\10.10.47.163\\\\qiushou\\\\LinearTrack\\\\results\\\\celltypes\\\\celltype_2020061_part5_day20200828_aim_test.pkl'],\n",
       " '50-60': [],\n",
       " '60-70': [],\n",
       " '70-80': [],\n",
       " '80': []}"
      ]
     },
     "execution_count": 5,
     "metadata": {},
     "output_type": "execute_result"
    }
   ],
   "source": [
    "Celltypes[\"2020061\"]"
   ]
  },
  {
   "cell_type": "markdown",
   "metadata": {},
   "source": []
  },
  {
   "cell_type": "markdown",
   "metadata": {},
   "source": [
    "#### Celltypes_discrete"
   ]
  },
  {
   "cell_type": "code",
   "execution_count": 6,
   "metadata": {},
   "outputs": [],
   "source": [
    "Celltypes_discrete = {}\n",
    "for mouseid in mouseids:\n",
    "    celltypefiles = [i for i in celltypes if mouseid in i]\n",
    "    Celltypes_discrete[mouseid]={}\n",
    "    Celltypes_discrete[mouseid][\"Training\"]=[]\n",
    "    Celltypes_discrete[mouseid][\"WellTrain\"]=[]\n",
    "    Celltypes_discrete[mouseid][\"others\"]=[]\n",
    "    for celltypefile in celltypefiles:\n",
    "        TA,aim,TN = func(celltypefile)\n",
    "        if TN>30:                    \n",
    "            if TA>=0.4 and TA<0.6:\n",
    "                Celltypes_discrete[mouseid][\"Training\"].append(celltypefile)\n",
    "            elif TA>=0.6:\n",
    "                Celltypes_discrete[mouseid][\"WellTrain\"].append(celltypefile)\n",
    "            else:\n",
    "                Celltypes_discrete[mouseid][\"others\"].append(celltypefile)\n"
   ]
  },
  {
   "cell_type": "code",
   "execution_count": 7,
   "metadata": {},
   "outputs": [
    {
     "data": {
      "text/plain": [
       "{'Training': ['\\\\\\\\10.10.47.163\\\\qiushou\\\\LinearTrack\\\\results\\\\celltypes\\\\celltype_2020061_part5_day20200810_aim_test.pkl',\n",
       "  '\\\\\\\\10.10.47.163\\\\qiushou\\\\LinearTrack\\\\results\\\\celltypes\\\\celltype_2020061_part5_day20200812_aim_train.pkl',\n",
       "  '\\\\\\\\10.10.47.163\\\\qiushou\\\\LinearTrack\\\\results\\\\celltypes\\\\celltype_2020061_part5_day20200814_aim_train.pkl',\n",
       "  '\\\\\\\\10.10.47.163\\\\qiushou\\\\LinearTrack\\\\results\\\\celltypes\\\\celltype_2020061_part5_day20200816_aim_test.pkl',\n",
       "  '\\\\\\\\10.10.47.163\\\\qiushou\\\\LinearTrack\\\\results\\\\celltypes\\\\celltype_2020061_part5_day20200819_aim_test.pkl',\n",
       "  '\\\\\\\\10.10.47.163\\\\qiushou\\\\LinearTrack\\\\results\\\\celltypes\\\\celltype_2020061_part5_day20200820_aim_test.pkl',\n",
       "  '\\\\\\\\10.10.47.163\\\\qiushou\\\\LinearTrack\\\\results\\\\celltypes\\\\celltype_2020061_part5_day20200821_aim_test.pkl',\n",
       "  '\\\\\\\\10.10.47.163\\\\qiushou\\\\LinearTrack\\\\results\\\\celltypes\\\\celltype_2020061_part5_day20200823_aim_test.pkl',\n",
       "  '\\\\\\\\10.10.47.163\\\\qiushou\\\\LinearTrack\\\\results\\\\celltypes\\\\celltype_2020061_part5_day20200824_aim_test.pkl',\n",
       "  '\\\\\\\\10.10.47.163\\\\qiushou\\\\LinearTrack\\\\results\\\\celltypes\\\\celltype_2020061_part5_day20200825_aim_test.pkl',\n",
       "  '\\\\\\\\10.10.47.163\\\\qiushou\\\\LinearTrack\\\\results\\\\celltypes\\\\celltype_2020061_part5_day20200826_aim_test.pkl',\n",
       "  '\\\\\\\\10.10.47.163\\\\qiushou\\\\LinearTrack\\\\results\\\\celltypes\\\\celltype_2020061_part5_day20200828_aim_test.pkl'],\n",
       " 'WellTrain': [],\n",
       " 'others': ['\\\\\\\\10.10.47.163\\\\qiushou\\\\LinearTrack\\\\results\\\\celltypes\\\\celltype_2020061_part5_day20200811_aim_train.pkl',\n",
       "  '\\\\\\\\10.10.47.163\\\\qiushou\\\\LinearTrack\\\\results\\\\celltypes\\\\celltype_2020061_part5_day20200818_aim_test.pkl']}"
      ]
     },
     "execution_count": 7,
     "metadata": {},
     "output_type": "execute_result"
    }
   ],
   "source": [
    "Celltypes_discrete[\"2020061\"]"
   ]
  },
  {
   "cell_type": "markdown",
   "metadata": {},
   "source": [
    "## calculate the mean cell prop.\n",
    "### for each mice, there are fixed several stage\n",
    "if some mice have no data in some stage, we use np.nan\n",
    "if in one stage, one mouse get several sessions, we get the average"
   ]
  },
  {
   "cell_type": "markdown",
   "metadata": {},
   "source": [
    "#### Celltypes_prop continuous"
   ]
  },
  {
   "cell_type": "code",
   "execution_count": 23,
   "metadata": {
    "scrolled": true
   },
   "outputs": [
    {
     "name": "stdout",
     "output_type": "stream",
     "text": [
      "train\n",
      "40\n",
      "60\n",
      "50-60\n",
      "60-70\n",
      "70-80\n",
      "80\n",
      "train\n",
      "40\n",
      "60\n",
      "50-60\n",
      "60-70\n",
      "70-80\n",
      "80\n",
      "train\n",
      "40\n",
      "60\n",
      "50-60\n",
      "60-70\n",
      "70-80\n",
      "80\n",
      "train\n",
      "40\n",
      "60\n",
      "50-60\n",
      "60-70\n",
      "70-80\n",
      "80\n",
      "train\n",
      "40\n",
      "60\n",
      "50-60\n",
      "60-70\n",
      "70-80\n",
      "80\n",
      "train\n",
      "40\n",
      "60\n",
      "50-60\n",
      "60-70\n",
      "70-80\n",
      "80\n",
      "train\n",
      "40\n",
      "60\n",
      "50-60\n",
      "60-70\n",
      "70-80\n",
      "80\n"
     ]
    }
   ],
   "source": [
    "Celltypes_prop = {}\n",
    "for mouseid in Celltypes.keys():\n",
    "    Celltypes_prop[mouseid]={}\n",
    "    for stage in Celltypes[mouseid].keys():\n",
    "        print(stage)\n",
    "        Celltypes_prop[mouseid][stage]=[]\n",
    "        if len(Celltypes[mouseid][stage])>0:\n",
    "            celltype_files = Celltypes[mouseid][stage]\n",
    "            wenn_lists=[]\n",
    "            for celltype_file in celltype_files:\n",
    "                ct = CellType(celltype_file)\n",
    "                contextcell_ids=[]\n",
    "                rdcell_ids=[]\n",
    "                pccell_ids=[]\n",
    "                \n",
    "                contextcell_id, rdcell_id,pccell_id,total_cell_num = ct.specific_ids(contexts=[0,1])\n",
    "                \n",
    "                contextcell_ids=contextcell_ids+contextcell_id[\"ctx0cells\"]+contextcell_id[\"ctx1cells\"]\n",
    "                rdcell_ids = rdcell_ids + rdcell_id[\"context0_leftcells\"]+ rdcell_id[\"context0_rightcells\"]+ rdcell_id[\"context1_leftcells\"]+ rdcell_id[\"context1_rightcells\"]\n",
    "                pccell_ids = pccell_ids + pccell_id[\"context0_pccells\"] + pccell_id[\"context1_pccells\"]\n",
    "                \n",
    "                ctx_cellids = list(set(spread(contextcell_ids)))\n",
    "                rd_cellids = list(set(spread(rdcell_ids)))\n",
    "                ctx_rd_cellids = [i for i in ctx_cellids if i in rd_cellids]                \n",
    "                pc_cellids = list(set(spread(pccell_ids)))                \n",
    "                ctx_pc_cellids = [i for i in ctx_cellids if i in pc_cellids]\n",
    "                rd_pc_cellids = [i for i in rd_cellids if i in pc_cellids]\n",
    "                ctx_rd_pc_cellids = [i for i in ctx_rd_cellids if i in pc_cellids]\n",
    "                only_ctx_cellids = [i for i in ctx_cellids if not i in rd_cellids and not i in pc_cellids]\n",
    "                only_rd_cellids = [i for i in rd_cellids if not i in ctx_cellids and not i in pc_cellids]\n",
    "                only_pc_cellids = [i for i in pc_cellids if not i in rd_cellids and not i in ctx_cellids ]\n",
    "                wenn_list = [            \n",
    "                    len(ctx_cellids)/total_cell_num\n",
    "                    ,len(rd_cellids)/total_cell_num\n",
    "                    ,len(pc_cellids)/total_cell_num\n",
    "                    ,len(ctx_rd_cellids)/total_cell_num\n",
    "                    ,len(ctx_pc_cellids)/total_cell_num\n",
    "                    ,len(rd_pc_cellids)/total_cell_num\n",
    "                    ,len(ctx_rd_pc_cellids)/total_cell_num\n",
    "                    ,len(only_ctx_cellids)/total_cell_num\n",
    "                    ,len(only_rd_cellids)/total_cell_num\n",
    "                    ,len(only_pc_cellids)/total_cell_num]\n",
    "                wenn_lists.append(wenn_list)\n",
    "#             print(np.mean(wenn_lists,axis=0))\n",
    "            Celltypes_prop[mouseid][stage].append([i for i in np.mean(wenn_lists,axis=0)])\n",
    "        else:\n",
    "            Celltypes_prop[mouseid][stage].append([np.nan,np.nan,np.nan,np.nan,np.nan,np.nan,np.nan,np.nan,np.nan,np.nan])"
   ]
  },
  {
   "cell_type": "markdown",
   "metadata": {},
   "source": [
    "#### Celltypes_prop_discrete"
   ]
  },
  {
   "cell_type": "code",
   "execution_count": 24,
   "metadata": {
    "scrolled": true
   },
   "outputs": [
    {
     "name": "stdout",
     "output_type": "stream",
     "text": [
      "Training\n",
      "WellTrain\n",
      "others\n",
      "Training\n",
      "WellTrain\n",
      "others\n",
      "Training\n",
      "WellTrain\n",
      "others\n",
      "Training\n",
      "WellTrain\n",
      "others\n",
      "Training\n",
      "WellTrain\n",
      "others\n",
      "Training\n",
      "WellTrain\n",
      "others\n",
      "Training\n",
      "WellTrain\n",
      "others\n"
     ]
    }
   ],
   "source": [
    "Celltypes_prop_discrete = {}\n",
    "for mouseid in Celltypes_discrete.keys():\n",
    "    Celltypes_prop_discrete[mouseid]={}\n",
    "    for stage in Celltypes_discrete[mouseid].keys():\n",
    "        print(stage)\n",
    "        Celltypes_prop_discrete[mouseid][stage]=[]\n",
    "        if len(Celltypes_discrete[mouseid][stage])>0:\n",
    "            celltype_files = Celltypes_discrete[mouseid][stage]\n",
    "            wenn_lists=[]\n",
    "            for celltype_file in celltype_files:\n",
    "                ct = CellType(celltype_file)\n",
    "                contextcell_ids=[]\n",
    "                rdcell_ids=[]\n",
    "                pccell_ids=[]\n",
    "                \n",
    "                contextcell_id, rdcell_id,pccell_id,total_cell_num = ct.specific_ids(contexts=[0,1])\n",
    "                \n",
    "                contextcell_ids=contextcell_ids+contextcell_id[\"ctx0cells\"]+contextcell_id[\"ctx1cells\"]\n",
    "                rdcell_ids = rdcell_ids + rdcell_id[\"context0_leftcells\"]+ rdcell_id[\"context0_rightcells\"]+ rdcell_id[\"context1_leftcells\"]+ rdcell_id[\"context1_rightcells\"]\n",
    "                pccell_ids = pccell_ids + pccell_id[\"context0_pccells\"] + pccell_id[\"context1_pccells\"]\n",
    "                                \n",
    "                ctx_cellids = list(set(spread(contextcell_ids)))\n",
    "                rd_cellids = list(set(spread(rdcell_ids)))\n",
    "                ctx_rd_cellids = [i for i in ctx_cellids if i in rd_cellids]                \n",
    "                pc_cellids = list(set(spread(pccell_ids)))                \n",
    "                ctx_pc_cellids = [i for i in ctx_cellids if i in pc_cellids]\n",
    "                rd_pc_cellids = [i for i in rd_cellids if i in pc_cellids]\n",
    "                ctx_rd_pc_cellids = [i for i in ctx_rd_cellids if i in pc_cellids]\n",
    "                only_ctx_cellids = [i for i in ctx_cellids if not i in rd_cellids and not i in pc_cellids]\n",
    "                only_rd_cellids = [i for i in rd_cellids if not i in ctx_cellids and not i in pc_cellids]\n",
    "                only_pc_cellids = [i for i in pc_cellids if not i in rd_cellids and not i in ctx_cellids ]\n",
    "                wenn_list = [            \n",
    "                    len(ctx_cellids)/total_cell_num\n",
    "                    ,len(rd_cellids)/total_cell_num\n",
    "                    ,len(pc_cellids)/total_cell_num\n",
    "                    ,len(ctx_rd_cellids)/total_cell_num\n",
    "                    ,len(ctx_pc_cellids)/total_cell_num\n",
    "                    ,len(rd_pc_cellids)/total_cell_num\n",
    "                    ,len(ctx_rd_pc_cellids)/total_cell_num\n",
    "                    ,len(only_ctx_cellids)/total_cell_num\n",
    "                    ,len(only_rd_cellids)/total_cell_num\n",
    "                    ,len(only_pc_cellids)/total_cell_num]\n",
    "                wenn_lists.append(wenn_list)\n",
    "#             print(np.mean(wenn_lists,axis=0))\n",
    "            Celltypes_prop_discrete[mouseid][stage].append([i for i in np.mean(wenn_lists,axis=0)])\n",
    "        else:\n",
    "            Celltypes_prop_discrete[mouseid][stage].append([np.nan,np.nan,np.nan,np.nan,np.nan,np.nan,np.nan,np.nan,np.nan,np.nan])"
   ]
  },
  {
   "cell_type": "code",
   "execution_count": null,
   "metadata": {},
   "outputs": [],
   "source": []
  },
  {
   "cell_type": "markdown",
   "metadata": {},
   "source": [
    "### organize matrix: stages x celltypes.\n",
    "here 7 stages and 7 celltypes"
   ]
  },
  {
   "cell_type": "markdown",
   "metadata": {},
   "source": [
    "#### organized as discrete"
   ]
  },
  {
   "cell_type": "code",
   "execution_count": 11,
   "metadata": {},
   "outputs": [
    {
     "data": {
      "text/plain": [
       "{'2020061': {'Training': [[0.5584623107815879,\n",
       "    0.6084375965400062,\n",
       "    0.2826884460920605,\n",
       "    0.38824451652764896,\n",
       "    0.15510117392647513,\n",
       "    0.1608016682113068,\n",
       "    0.10043558850787765,\n",
       "    0.11555220883534138,\n",
       "    0.15982700030892802,\n",
       "    0.06722119246215631]],\n",
       "  'WellTrain': [[nan, nan, nan, nan, nan, nan, nan]],\n",
       "  'others': [[0.3861538461538462,\n",
       "    0.5184615384615384,\n",
       "    0.25384615384615383,\n",
       "    0.24153846153846154,\n",
       "    0.10153846153846154,\n",
       "    0.11384615384615385,\n",
       "    0.05384615384615385,\n",
       "    0.09692307692307692,\n",
       "    0.21692307692307694,\n",
       "    0.0923076923076923]]},\n",
       " '206534': {'Training': [[0.43047337278106507,\n",
       "    0.37278106508875736,\n",
       "    0.2751479289940828,\n",
       "    0.18786982248520712,\n",
       "    0.11390532544378698,\n",
       "    0.09467455621301776,\n",
       "    0.04437869822485207,\n",
       "    0.17307692307692307,\n",
       "    0.1346153846153846,\n",
       "    0.11094674556213018]],\n",
       "  'WellTrain': [[0.48520710059171596,\n",
       "    0.5976331360946746,\n",
       "    0.23668639053254437,\n",
       "    0.33136094674556216,\n",
       "    0.07100591715976332,\n",
       "    0.13609467455621302,\n",
       "    0.05325443786982249,\n",
       "    0.13609467455621302,\n",
       "    0.1834319526627219,\n",
       "    0.08284023668639054]],\n",
       "  'others': [[0.5029585798816568,\n",
       "    0.34911242603550297,\n",
       "    0.28402366863905326,\n",
       "    0.21893491124260356,\n",
       "    0.1242603550295858,\n",
       "    0.10059171597633136,\n",
       "    0.0650887573964497,\n",
       "    0.22485207100591717,\n",
       "    0.09467455621301775,\n",
       "    0.1242603550295858]]},\n",
       " '206548': {'Training': [[0.5558945938138595,\n",
       "    0.5867974793242535,\n",
       "    0.3342880374891673,\n",
       "    0.36614420062695924,\n",
       "    0.18617158997293162,\n",
       "    0.18933848310098753,\n",
       "    0.1172873848524078,\n",
       "    0.12086618806637638,\n",
       "    0.1486021804487145,\n",
       "    0.07606534926765597]],\n",
       "  'WellTrain': [[nan, nan, nan, nan, nan, nan, nan]],\n",
       "  'others': [[0.27381428739555136,\n",
       "    0.3668824290926209,\n",
       "    0.21280451924208543,\n",
       "    0.13521831234553372,\n",
       "    0.05144168530069436,\n",
       "    0.05835589031422855,\n",
       "    0.015428974932329058,\n",
       "    0.10258326468165234,\n",
       "    0.18873720136518773,\n",
       "    0.11843591855949158]]},\n",
       " '206550': {'Training': [[0.49583777400120976,\n",
       "    0.5114529225195469,\n",
       "    0.3386557338223668,\n",
       "    0.31348234774510086,\n",
       "    0.1684477345392747,\n",
       "    0.15721884571439543,\n",
       "    0.0999830374488323,\n",
       "    0.11389072916566653,\n",
       "    0.14073476650888295,\n",
       "    0.11297219101752903]],\n",
       "  'WellTrain': [[0.4892703862660944,\n",
       "    0.6394849785407726,\n",
       "    0.27467811158798283,\n",
       "    0.33047210300429186,\n",
       "    0.12875536480686695,\n",
       "    0.17167381974248927,\n",
       "    0.09012875536480687,\n",
       "    0.12017167381974249,\n",
       "    0.22746781115879827,\n",
       "    0.06437768240343347]],\n",
       "  'others': [[0.37221918176493746,\n",
       "    0.5060489097560273,\n",
       "    0.3453159355167017,\n",
       "    0.23729008842929977,\n",
       "    0.13971541319814498,\n",
       "    0.17405017714664286,\n",
       "    0.09166978713598524,\n",
       "    0.08688346727347794,\n",
       "    0.18637843131606993,\n",
       "    0.12322013230789912]]},\n",
       " '206551': {'Training': [[0.26354679802955666,\n",
       "    0.28981937602627256,\n",
       "    0.15845648604269294,\n",
       "    0.09441707717569786,\n",
       "    0.03201970443349754,\n",
       "    0.034482758620689655,\n",
       "    0.008210180623973726,\n",
       "    0.14532019704433496,\n",
       "    0.1691297208538588,\n",
       "    0.10016420361247946]],\n",
       "  'WellTrain': [[0.5181665264928512,\n",
       "    0.527616244142737,\n",
       "    0.3303676558933077,\n",
       "    0.3159858224198005,\n",
       "    0.17103808722816294,\n",
       "    0.17414393848371984,\n",
       "    0.1042412591613601,\n",
       "    0.13538387600624774,\n",
       "    0.1417277424005767,\n",
       "    0.08942688934278506]],\n",
       "  'others': [[0.5541871921182266,\n",
       "    0.4014778325123153,\n",
       "    0.2561576354679803,\n",
       "    0.22413793103448276,\n",
       "    0.15024630541871922,\n",
       "    0.09852216748768473,\n",
       "    0.06403940886699508,\n",
       "    0.2438423645320197,\n",
       "    0.14285714285714285,\n",
       "    0.07142857142857142]]},\n",
       " '206552': {'Training': [[0.4022865392834433,\n",
       "    0.3992035942500339,\n",
       "    0.24273175511565603,\n",
       "    0.20191335439013458,\n",
       "    0.09032012592384109,\n",
       "    0.0736779560308972,\n",
       "    0.03401924299757118,\n",
       "    0.1440723019670388,\n",
       "    0.15763152682657325,\n",
       "    0.11275291615848888]],\n",
       "  'WellTrain': [[0.5889956843981612,\n",
       "    0.6632029230945639,\n",
       "    0.2935508093557629,\n",
       "    0.44492812542348154,\n",
       "    0.16868977542352157,\n",
       "    0.18138588793387553,\n",
       "    0.12090515378441075,\n",
       "    0.09628293733556892,\n",
       "    0.15779406352161773,\n",
       "    0.06438029978277657]],\n",
       "  'others': [[0.31956301925342173,\n",
       "    0.4482596866497796,\n",
       "    0.27553658358611915,\n",
       "    0.14537010976639458,\n",
       "    0.08037026612878005,\n",
       "    0.10490873648768384,\n",
       "    0.02670669543734559,\n",
       "    0.12052933879559265,\n",
       "    0.22468753583304668,\n",
       "    0.11696427640700087]]},\n",
       " '206553': {'Training': [[0.6680824218282659,\n",
       "    0.6462214609187704,\n",
       "    0.3609938923824198,\n",
       "    0.4798252090902535,\n",
       "    0.23205607606007767,\n",
       "    0.21331353480657791,\n",
       "    0.15691917786286833,\n",
       "    0.11312031454080311,\n",
       "    0.11000189488480736,\n",
       "    0.07254345937863263]],\n",
       "  'WellTrain': [[0.7548496239959148,\n",
       "    0.8329747303201697,\n",
       "    0.4192864358054355,\n",
       "    0.6530066302260276,\n",
       "    0.31201953499486385,\n",
       "    0.33574271618062423,\n",
       "    0.2616859917205034,\n",
       "    0.051509450495526854,\n",
       "    0.10591137563402131,\n",
       "    0.03321017635045081]],\n",
       "  'others': [[0.48315529991783074,\n",
       "    0.4075595727198028,\n",
       "    0.35168447000821695,\n",
       "    0.2465078060805259,\n",
       "    0.17009038619556285,\n",
       "    0.114215283483977,\n",
       "    0.07066557107641742,\n",
       "    0.1372226787181594,\n",
       "    0.11750205423171733,\n",
       "    0.13804437140509448]]}}"
      ]
     },
     "execution_count": 11,
     "metadata": {},
     "output_type": "execute_result"
    }
   ],
   "source": [
    "Celltypes_prop_discrete"
   ]
  },
  {
   "cell_type": "code",
   "execution_count": 51,
   "metadata": {},
   "outputs": [],
   "source": [
    "Stages_discrete_prop={}\n",
    "for stage in [\"Training\"]:\n",
    "    Stages_discrete_prop[\"Training\"]=[]\n",
    "    for mouseid in mouseids:\n",
    "        Stages_discrete_prop[\"Training\"].append(Celltypes_prop_discrete[mouseid][stage][0])\n",
    "for stage in [\"WellTrain\"]:\n",
    "    Stages_discrete_prop[\"WellTrain\"]=[]\n",
    "    for mouseid in mouseids:\n",
    "        Stages_discrete_prop[\"WellTrain\"].append(Celltypes_prop_discrete[mouseid][stage][0])"
   ]
  },
  {
   "cell_type": "code",
   "execution_count": 52,
   "metadata": {},
   "outputs": [],
   "source": [
    "aves = []\n",
    "stds = []\n",
    "sems=[]\n",
    "for stage in Stages_discrete_prop.keys():\n",
    "    ave = [i for i in np.nanmean(Stages_discrete_prop[stage],axis=0)]\n",
    "    std = [i for i in np.nanstd(Stages_discrete_prop[stage],axis=0,ddof=1)]\n",
    "    n = len(np.array(Stages_discrete_prop[stage])[:,0]) - np.isnan(Stages_discrete_prop[stage])[:,0].sum()\n",
    "    sem = std/np.sqrt(n)\n",
    "#     venn3(ave)\n",
    "    aves.append(ave)\n",
    "    stds.append(std)\n",
    "    sems.append(sem)\n",
    "#     plt.show()\n",
    "aves = np.array(aves)\n",
    "stds = np.array(stds)\n",
    "sems = np.array(sems)"
   ]
  },
  {
   "cell_type": "code",
   "execution_count": 53,
   "metadata": {},
   "outputs": [
    {
     "data": {
      "text/plain": [
       "(2, 7, 10)"
      ]
     },
     "execution_count": 53,
     "metadata": {},
     "output_type": "execute_result"
    }
   ],
   "source": [
    "Stages_discrete_prop_arrs = []\n",
    "for stage in Stages_discrete_prop.keys():\n",
    "    Stages_discrete_prop_arrs.append(Stages_discrete_prop[stage])\n",
    "Stages_discrete_prop_arrs = np.array(Stages_discrete_prop_arrs)\n",
    "np.shape(Stages_discrete_prop_arrs) # stage mouse types"
   ]
  },
  {
   "cell_type": "code",
   "execution_count": 54,
   "metadata": {},
   "outputs": [],
   "source": [
    "from mylab.ana.Mstat import *"
   ]
  },
  {
   "cell_type": "code",
   "execution_count": 55,
   "metadata": {},
   "outputs": [
    {
     "name": "stdout",
     "output_type": "stream",
     "text": [
      "--------------------------\n",
      "0 0.11022304635486535\n",
      "--------------------------\n",
      "1 0.018086461315687384\n",
      "--------------------------\n",
      "2 0.33790401910300505\n",
      "--------------------------\n",
      "3 0.06391934147515746\n",
      "--------------------------\n",
      "4 0.17971249487899976\n",
      "--------------------------\n",
      "5 0.06391934147515746\n",
      "--------------------------\n",
      "6 0.08453346925711071\n",
      "--------------------------\n",
      "7 0.949059680885933\n",
      "--------------------------\n",
      "8 0.14171996321059\n",
      "--------------------------\n",
      "9 0.5652987983097892\n"
     ]
    }
   ],
   "source": [
    "for i in range(10): # 7 celltypes\n",
    "    print(\"--------------------------\")\n",
    "    cell_types = Stages_discrete_prop_arrs[:,:,i]    \n",
    "    print(i,Wilcoxon_ranksumstest(cell_types[0,:],cell_types[1,:])[1])"
   ]
  },
  {
   "cell_type": "code",
   "execution_count": 60,
   "metadata": {},
   "outputs": [
    {
     "data": {
      "text/plain": [
       "Text(0.5, 1.05, 'Part5-Cell proporotion along performance')"
      ]
     },
     "execution_count": 60,
     "metadata": {},
     "output_type": "execute_result"
    },
    {
     "data": {
      "image/png": "[encoded data removed]",
      "text/plain": [
       "<Figure size 936x288 with 1 Axes>"
      ]
     },
     "metadata": {
      "needs_background": "light"
     },
     "output_type": "display_data"
    }
   ],
   "source": [
    "%matplotlib inline\n",
    "colors = [\"red\",\"green\",\"blue\",\"orange\",\"pink\",\"cyan\",\"black\",\"tomato\",\"lime\",\"cornflowerblue\"]\n",
    "plt.figure(figsize=(13,4))\n",
    "handles=[]\n",
    "for i in range(10): # different celltypes\n",
    "    x = np.array([1,2])+2*i\n",
    "    y = aves[:,i]\n",
    "#     sns.regplot(x,y,color=colors[i])\n",
    "    y_err = stds[:,i]\n",
    "    h=plt.scatter(x,y,color=colors[i])    \n",
    "    plt.errorbar(x,y,yerr=y_err,color=colors[i],linestyle=\"-\")\n",
    "    handles.append(h)\n",
    "#     if i == 3:\n",
    "#         plt.plot(x,aves[2:,0]*aves[2:,1],\"--\",color=colors[i])\n",
    "#     if i == 4:\n",
    "#         plt.plot(x,aves[2:,0]*aves[2:,2],\"--\",color=colors[i])\n",
    "#     if i == 5:\n",
    "#         plt.plot(x,aves[2:,1]*aves[2:,2],\"--\",color=colors[i])\n",
    "#     if i == 6:\n",
    "#         plt.plot(x,aves[2:,0]*aves[2:,1]*aves[2:,2],\"--\",color=colors[i])\n",
    "plt.legend(handles=handles,labels=[\"CTX\",\"RD*\",\"PC\",\"CTX&RD\",\"CTX&PC\",\"RD&PC\",\"CTX&RD&PC\",\"CTX-O\",\"RD-O\",\"PC-O\"],bbox_to_anchor=(1.05, 0), loc=3, borderaxespad=0)\n",
    "for i in range(10):\n",
    "    x = np.array([1,2])+2*i\n",
    "    for y1,y2 in zip(Stages_discrete_prop_arrs[0,:,i],Stages_discrete_prop_arrs[1,:,i]):\n",
    "        plt.plot(x,(y1,y2),color=\"grey\",alpha=0.5)\n",
    "plt.xticks(ticks=np.arange(1,21),labels=['Training', 'WellTrain']*10,rotation=90)\n",
    "plt.xlabel(\"Performance\")\n",
    "plt.ylabel(\"proportion(0-1)\")\n",
    "plt.ylim(0,1)\n",
    "plt.title(\"Part5-Cell proporotion along performance\",y=1.05)"
   ]
  },
  {
   "cell_type": "markdown",
   "metadata": {},
   "source": [
    "#### organized as continuous performance"
   ]
  },
  {
   "cell_type": "code",
   "execution_count": 62,
   "metadata": {},
   "outputs": [],
   "source": [
    "Stages_prop={}\n",
    "stages = ['train', '40', '60', '60-70', '70-80', '80']\n",
    "for stage in stages:\n",
    "    Stages_prop[stage]=[]\n",
    "    for mouseid in  mouseids:\n",
    "        Stages_prop[stage].append(Celltypes_prop[mouseid][stage][0])\n",
    "\n",
    "aves = []\n",
    "stds = []\n",
    "sems = []\n",
    "for stage in Stages_prop.keys():\n",
    "    ave = [i for i in np.nanmean(Stages_prop[stage],axis=0)]\n",
    "    std = [i for i in np.nanstd(Stages_prop[stage],axis=0,ddof=1)]\n",
    "    n = len(np.array(Stages_prop[stage])[:,0]) - np.isnan(Stages_prop[stage])[:,0].sum()\n",
    "    sem = std/np.sqrt(n)\n",
    "#     venn3(ave)\n",
    "    aves.append(ave)\n",
    "    stds.append(std)\n",
    "    sems.append(sem)\n",
    "#     plt.show()\n",
    "aves = np.array(aves)\n",
    "stds = np.array(stds)\n",
    "sems = np.array(sems)"
   ]
  },
  {
   "cell_type": "code",
   "execution_count": 63,
   "metadata": {},
   "outputs": [],
   "source": [
    "Stages_prop_arrs = []\n",
    "for stage in stages:\n",
    "    Stages_prop_arrs.append(Stages_prop[stage])\n",
    "\n",
    "Stages_prop_arrs = np.array(Stages_prop_arrs) # stages mice celltypes"
   ]
  },
  {
   "cell_type": "code",
   "execution_count": 64,
   "metadata": {},
   "outputs": [
    {
     "data": {
      "text/plain": [
       "(6, 7, 10)"
      ]
     },
     "execution_count": 64,
     "metadata": {},
     "output_type": "execute_result"
    }
   ],
   "source": [
    "np.shape(Stages_prop_arrs)"
   ]
  },
  {
   "cell_type": "code",
   "execution_count": 65,
   "metadata": {
    "scrolled": true
   },
   "outputs": [
    {
     "data": {
      "text/plain": [
       "Text(0.5, 1.05, 'Part5-Cell proporotion along performance')"
      ]
     },
     "execution_count": 65,
     "metadata": {},
     "output_type": "execute_result"
    },
    {
     "data": {
      "image/png": "[encoded data removed]",
      "text/plain": [
       "<Figure size 936x288 with 1 Axes>"
      ]
     },
     "metadata": {
      "needs_background": "light"
     },
     "output_type": "display_data"
    }
   ],
   "source": [
    "colors = [\"red\",\"green\",\"blue\",\"orange\",\"pink\",\"cyan\",\"black\",\"tomato\",\"lime\",\"cornflowerblue\"]\n",
    "plt.figure(figsize=(13,4))\n",
    "handles=[]\n",
    "for i in range(10): # different celltypes\n",
    "    x = np.array([1,2,3,4])+4*i\n",
    "    y = aves[2:,i]\n",
    "    scatters = Stages_prop_arrs[1:,:,i]\n",
    "#     sns.regplot(x,y,color=colors[i])\n",
    "    y_err = sems[2:,i]\n",
    "#     h=plt.scatter(x,y,color=colors[i])  \n",
    "    \n",
    "\n",
    "    for n in range(7): # four mice\n",
    "        ys =scatters[1:,n]\n",
    "        plt.plot(x,ys,color=\"gray\",alpha=0.5)\n",
    "        \n",
    "    h=plt.errorbar(x,y,yerr=y_err,color=colors[i],linestyle=\"-\",marker=\"o\")\n",
    "    handles.append(h)\n",
    "    if i == 3:\n",
    "        plt.plot(x,aves[2:,0]*aves[2:,1],\"--\",color=colors[i])\n",
    "    if i == 4:\n",
    "        plt.plot(x,aves[2:,0]*aves[2:,2],\"--\",color=colors[i])\n",
    "    if i == 5:\n",
    "        plt.plot(x,aves[2:,1]*aves[2:,2],\"--\",color=colors[i])\n",
    "    if i == 6:\n",
    "        plt.plot(x,aves[2:,0]*aves[2:,1]*aves[2:,2],\"--\",color=colors[i])\n",
    "plt.legend(handles=handles,labels=[\"CTX\",\"RD\",\"PC\",\"CTX&RD\",\"CTX&PC\",\"RD&PC\",\"CTX&RD&PC\",\"CTX-O\",\"RD-O\",\"PC-O\"],bbox_to_anchor=(1.05, 0), loc=3, borderaxespad=0)\n",
    "plt.xticks(ticks=np.arange(1,41),labels=['<60%', '60-70%', '70-80%', '>80%']*10,rotation=45)\n",
    "plt.xlabel(\"Performance\")\n",
    "plt.ylabel(\"proportion(0-1)\")\n",
    "plt.ylim(0,1)\n",
    "plt.title(\"Part5-Cell proporotion along performance\",y=1.05)\n"
   ]
  },
  {
   "cell_type": "code",
   "execution_count": 66,
   "metadata": {},
   "outputs": [
    {
     "name": "stdout",
     "output_type": "stream",
     "text": [
      "-------------0-------------\n",
      "0 1 0.001745118699528905\n",
      "0 2 0.11022304635486535\n",
      "0 3 0.004040984683985582\n",
      "1 2 0.00880861651937405\n",
      "1 3 0.48220269762779056\n",
      "2 3 0.0350056820770933\n",
      "-------------1-------------\n",
      "0 1 0.001745118699528905\n",
      "0 2 0.22479909925003916\n",
      "0 3 0.001745118699528905\n",
      "1 2 0.002675786206591521\n",
      "1 3 0.406233805110795\n",
      "2 3 0.00880861651937405\n",
      "-------------2-------------\n",
      "0 1 0.012716250355070739\n",
      "0 2 0.17971249487899976\n",
      "0 3 0.012716250355070739\n",
      "1 2 0.018086461315687384\n",
      "1 3 0.406233805110795\n",
      "2 3 0.04764542558436181\n",
      "-------------3-------------\n",
      "0 1 0.001745118699528905\n",
      "0 2 0.14171996321059\n",
      "0 3 0.001745118699528905\n",
      "1 2 0.0060112108889040635\n",
      "1 3 0.48220269762779056\n",
      "2 3 0.025347318677468252\n",
      "-------------4-------------\n",
      "0 1 0.002675786206591521\n",
      "0 2 0.14171996321059\n",
      "0 3 0.004040984683985582\n",
      "1 2 0.00880861651937405\n",
      "1 3 0.48220269762779056\n",
      "2 3 0.0350056820770933\n",
      "-------------5-------------\n",
      "0 1 0.001745118699528905\n",
      "0 2 0.27743910513984715\n",
      "0 3 0.002675786206591521\n",
      "1 2 0.00880861651937405\n",
      "1 3 0.406233805110795\n",
      "2 3 0.025347318677468252\n",
      "-------------6-------------\n",
      "0 1 0.001745118699528905\n",
      "0 2 0.17971249487899976\n",
      "0 3 0.002675786206591521\n",
      "1 2 0.00880861651937405\n",
      "1 3 0.406233805110795\n",
      "2 3 0.0350056820770933\n",
      "-------------7-------------\n",
      "0 1 0.08453346925711071\n",
      "0 2 0.6547208460185769\n",
      "0 3 0.48220269762779056\n",
      "1 2 0.11022304635486535\n",
      "1 3 0.48220269762779056\n",
      "2 3 0.33790401910300505\n",
      "-------------8-------------\n",
      "0 1 0.025347318677468252\n",
      "0 2 0.27743910513984715\n",
      "0 3 0.018086461315687384\n",
      "1 2 0.025347318677468252\n",
      "1 3 0.406233805110795\n",
      "2 3 0.018086461315687384\n",
      "-------------9-------------\n",
      "0 1 0.11022304635486535\n",
      "0 2 0.33790401910300505\n",
      "0 3 0.5652987983097892\n",
      "1 2 0.08453346925711071\n",
      "1 3 0.48220269762779056\n",
      "2 3 0.406233805110795\n"
     ]
    }
   ],
   "source": [
    "from mylab.ana.Mstat import *\n",
    "for i in range(10):\n",
    "    print(\"-------------%s-------------\"%i)\n",
    "    cell_types = Stages_prop_arrs[:,:,i]\n",
    "    for a,b in itertools.combinations([0,1,2,3],2):\n",
    "        print(a,b,Wilcoxon_ranksumstest(cell_types[a],cell_types[b])[1])\n"
   ]
  },
  {
   "cell_type": "code",
   "execution_count": null,
   "metadata": {},
   "outputs": [],
   "source": []
  }
 ],
 "metadata": {
  "kernelspec": {
   "display_name": "Python 3",
   "language": "python",
   "name": "python3"
  },
  "language_info": {
   "codemirror_mode": {
    "name": "ipython",
    "version": 3
   },
   "file_extension": ".py",
   "mimetype": "text/x-python",
   "name": "python",
   "nbconvert_exporter": "python",
   "pygments_lexer": "ipython3",
   "version": "3.7.5"
  },
  "toc": {
   "base_numbering": 1,
   "nav_menu": {},
   "number_sections": true,
   "sideBar": true,
   "skip_h1_title": false,
   "title_cell": "Table of Contents",
   "title_sidebar": "Contents",
   "toc_cell": false,
   "toc_position": {},
   "toc_section_display": true,
   "toc_window_display": true
  }
 },
 "nbformat": 4,
 "nbformat_minor": 4
}
