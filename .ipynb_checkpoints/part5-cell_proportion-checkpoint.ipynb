{
 "cells": [
  {
   "cell_type": "code",
   "execution_count": 445,
   "metadata": {},
   "outputs": [],
   "source": [
    "import glob,sys,os,re\n",
    "import numpy as np\n",
    "import pandas as pd\n",
    "from mylab.Functions import *\n",
    "from core.context_exposure import *\n",
    "import matplotlib.pyplot as plt\n",
    "from matplotlib_venn import venn3,venn2"
   ]
  },
  {
   "cell_type": "code",
   "execution_count": 446,
   "metadata": {
    "scrolled": true
   },
   "outputs": [
    {
     "data": {
      "text/plain": [
       "['\\\\\\\\10.10.47.163\\\\Data_archive\\\\qiushou\\\\results\\\\celltypes\\\\celltype_2020061_part5_day20200810_aim_test.pkl',\n",
       " '\\\\\\\\10.10.47.163\\\\Data_archive\\\\qiushou\\\\results\\\\celltypes\\\\celltype_2020061_part5_day20200811_aim_train.pkl',\n",
       " '\\\\\\\\10.10.47.163\\\\Data_archive\\\\qiushou\\\\results\\\\celltypes\\\\celltype_2020061_part5_day20200812_aim_train.pkl',\n",
       " '\\\\\\\\10.10.47.163\\\\Data_archive\\\\qiushou\\\\results\\\\celltypes\\\\celltype_2020061_part5_day20200814_aim_train.pkl',\n",
       " '\\\\\\\\10.10.47.163\\\\Data_archive\\\\qiushou\\\\results\\\\celltypes\\\\celltype_2020061_part5_day20200816_aim_test.pkl',\n",
       " '\\\\\\\\10.10.47.163\\\\Data_archive\\\\qiushou\\\\results\\\\celltypes\\\\celltype_2020061_part5_day20200818_aim_test.pkl',\n",
       " '\\\\\\\\10.10.47.163\\\\Data_archive\\\\qiushou\\\\results\\\\celltypes\\\\celltype_2020061_part5_day20200819_aim_test.pkl',\n",
       " '\\\\\\\\10.10.47.163\\\\Data_archive\\\\qiushou\\\\results\\\\celltypes\\\\celltype_2020061_part5_day20200820_aim_test.pkl',\n",
       " '\\\\\\\\10.10.47.163\\\\Data_archive\\\\qiushou\\\\results\\\\celltypes\\\\celltype_2020061_part5_day20200821_aim_test.pkl',\n",
       " '\\\\\\\\10.10.47.163\\\\Data_archive\\\\qiushou\\\\results\\\\celltypes\\\\celltype_2020061_part5_day20200823_aim_test.pkl',\n",
       " '\\\\\\\\10.10.47.163\\\\Data_archive\\\\qiushou\\\\results\\\\celltypes\\\\celltype_2020061_part5_day20200824_aim_test.pkl',\n",
       " '\\\\\\\\10.10.47.163\\\\Data_archive\\\\qiushou\\\\results\\\\celltypes\\\\celltype_2020061_part5_day20200825_aim_test.pkl',\n",
       " '\\\\\\\\10.10.47.163\\\\Data_archive\\\\qiushou\\\\results\\\\celltypes\\\\celltype_2020061_part5_day20200826_aim_test.pkl',\n",
       " '\\\\\\\\10.10.47.163\\\\Data_archive\\\\qiushou\\\\results\\\\celltypes\\\\celltype_2020061_part5_day20200828_aim_test.pkl',\n",
       " '\\\\\\\\10.10.47.163\\\\Data_archive\\\\qiushou\\\\results\\\\celltypes\\\\celltype_206534_part5_day20200810_aim_test.pkl',\n",
       " '\\\\\\\\10.10.47.163\\\\Data_archive\\\\qiushou\\\\results\\\\celltypes\\\\celltype_206534_part5_day20200812_aim_train.pkl',\n",
       " '\\\\\\\\10.10.47.163\\\\Data_archive\\\\qiushou\\\\results\\\\celltypes\\\\celltype_206534_part5_day20200814_aim_train.pkl',\n",
       " '\\\\\\\\10.10.47.163\\\\Data_archive\\\\qiushou\\\\results\\\\celltypes\\\\celltype_206534_part5_day20200818_aim_train.pkl',\n",
       " '\\\\\\\\10.10.47.163\\\\Data_archive\\\\qiushou\\\\results\\\\celltypes\\\\celltype_206534_part5_day20200821_aim_test.pkl',\n",
       " '\\\\\\\\10.10.47.163\\\\Data_archive\\\\qiushou\\\\results\\\\celltypes\\\\celltype_206534_part5_day20200824_aim_test.pkl',\n",
       " '\\\\\\\\10.10.47.163\\\\Data_archive\\\\qiushou\\\\results\\\\celltypes\\\\celltype_206548_part5_day20200810_aim_test.pkl',\n",
       " '\\\\\\\\10.10.47.163\\\\Data_archive\\\\qiushou\\\\results\\\\celltypes\\\\celltype_206548_part5_day20200811_aim_train.pkl',\n",
       " '\\\\\\\\10.10.47.163\\\\Data_archive\\\\qiushou\\\\results\\\\celltypes\\\\celltype_206548_part5_day20200812_aim_train.pkl',\n",
       " '\\\\\\\\10.10.47.163\\\\Data_archive\\\\qiushou\\\\results\\\\celltypes\\\\celltype_206548_part5_day20200814_aim_train.pkl',\n",
       " '\\\\\\\\10.10.47.163\\\\Data_archive\\\\qiushou\\\\results\\\\celltypes\\\\celltype_206548_part5_day20200816_aim_test.pkl',\n",
       " '\\\\\\\\10.10.47.163\\\\Data_archive\\\\qiushou\\\\results\\\\celltypes\\\\celltype_206548_part5_day20200818_aim_test.pkl',\n",
       " '\\\\\\\\10.10.47.163\\\\Data_archive\\\\qiushou\\\\results\\\\celltypes\\\\celltype_206548_part5_day20200819_aim_test.pkl',\n",
       " '\\\\\\\\10.10.47.163\\\\Data_archive\\\\qiushou\\\\results\\\\celltypes\\\\celltype_206548_part5_day20200821_aim_test.pkl',\n",
       " '\\\\\\\\10.10.47.163\\\\Data_archive\\\\qiushou\\\\results\\\\celltypes\\\\celltype_206548_part5_day20200823_aim_test.pkl',\n",
       " '\\\\\\\\10.10.47.163\\\\Data_archive\\\\qiushou\\\\results\\\\celltypes\\\\celltype_206548_part5_day20200824_aim_test.pkl',\n",
       " '\\\\\\\\10.10.47.163\\\\Data_archive\\\\qiushou\\\\results\\\\celltypes\\\\celltype_206548_part5_day20200825_aim_test.pkl',\n",
       " '\\\\\\\\10.10.47.163\\\\Data_archive\\\\qiushou\\\\results\\\\celltypes\\\\celltype_206548_part5_day20200826_aim_test.pkl',\n",
       " '\\\\\\\\10.10.47.163\\\\Data_archive\\\\qiushou\\\\results\\\\celltypes\\\\celltype_206548_part5_day20200828_aim_test.pkl',\n",
       " '\\\\\\\\10.10.47.163\\\\Data_archive\\\\qiushou\\\\results\\\\celltypes\\\\celltype_206550_part5_day20200810_aim_test.pkl',\n",
       " '\\\\\\\\10.10.47.163\\\\Data_archive\\\\qiushou\\\\results\\\\celltypes\\\\celltype_206550_part5_day20200811_aim_train.pkl',\n",
       " '\\\\\\\\10.10.47.163\\\\Data_archive\\\\qiushou\\\\results\\\\celltypes\\\\celltype_206550_part5_day20200812_aim_train.pkl',\n",
       " '\\\\\\\\10.10.47.163\\\\Data_archive\\\\qiushou\\\\results\\\\celltypes\\\\celltype_206550_part5_day20200813_aim_train.pkl',\n",
       " '\\\\\\\\10.10.47.163\\\\Data_archive\\\\qiushou\\\\results\\\\celltypes\\\\celltype_206550_part5_day20200816_aim_test.pkl',\n",
       " '\\\\\\\\10.10.47.163\\\\Data_archive\\\\qiushou\\\\results\\\\celltypes\\\\celltype_206550_part5_day20200819_aim_test.pkl',\n",
       " '\\\\\\\\10.10.47.163\\\\Data_archive\\\\qiushou\\\\results\\\\celltypes\\\\celltype_206550_part5_day20200820_aim_test.pkl',\n",
       " '\\\\\\\\10.10.47.163\\\\Data_archive\\\\qiushou\\\\results\\\\celltypes\\\\celltype_206550_part5_day20200821_aim_test.pkl',\n",
       " '\\\\\\\\10.10.47.163\\\\Data_archive\\\\qiushou\\\\results\\\\celltypes\\\\celltype_206550_part5_day20200823_aim_test.pkl',\n",
       " '\\\\\\\\10.10.47.163\\\\Data_archive\\\\qiushou\\\\results\\\\celltypes\\\\celltype_206550_part5_day20200824_aim_test.pkl',\n",
       " '\\\\\\\\10.10.47.163\\\\Data_archive\\\\qiushou\\\\results\\\\celltypes\\\\celltype_206550_part5_day20200825_aim_test.pkl',\n",
       " '\\\\\\\\10.10.47.163\\\\Data_archive\\\\qiushou\\\\results\\\\celltypes\\\\celltype_206550_part5_day20200826_aim_test.pkl',\n",
       " '\\\\\\\\10.10.47.163\\\\Data_archive\\\\qiushou\\\\results\\\\celltypes\\\\celltype_206550_part5_day20200828_aim_test.pkl',\n",
       " '\\\\\\\\10.10.47.163\\\\Data_archive\\\\qiushou\\\\results\\\\celltypes\\\\celltype_206551_part5_day20200810_aim_test.pkl',\n",
       " '\\\\\\\\10.10.47.163\\\\Data_archive\\\\qiushou\\\\results\\\\celltypes\\\\celltype_206551_part5_day20200812_aim_train.pkl',\n",
       " '\\\\\\\\10.10.47.163\\\\Data_archive\\\\qiushou\\\\results\\\\celltypes\\\\celltype_206551_part5_day20200814_aim_test.pkl',\n",
       " '\\\\\\\\10.10.47.163\\\\Data_archive\\\\qiushou\\\\results\\\\celltypes\\\\celltype_206551_part5_day20200818_aim_train.pkl',\n",
       " '\\\\\\\\10.10.47.163\\\\Data_archive\\\\qiushou\\\\results\\\\celltypes\\\\celltype_206551_part5_day20200821_aim_test.pkl',\n",
       " '\\\\\\\\10.10.47.163\\\\Data_archive\\\\qiushou\\\\results\\\\celltypes\\\\celltype_206551_part5_day20200824_aim_test.pkl',\n",
       " '\\\\\\\\10.10.47.163\\\\Data_archive\\\\qiushou\\\\results\\\\celltypes\\\\celltype_206551_part5_day20200825_aim_test.pkl',\n",
       " '\\\\\\\\10.10.47.163\\\\Data_archive\\\\qiushou\\\\results\\\\celltypes\\\\celltype_206551_part5_day20200831_aim_test.pkl',\n",
       " '\\\\\\\\10.10.47.163\\\\Data_archive\\\\qiushou\\\\results\\\\celltypes\\\\celltype_206551_part6_day20200901_aim_test.pkl',\n",
       " '\\\\\\\\10.10.47.163\\\\Data_archive\\\\qiushou\\\\results\\\\celltypes\\\\celltype_206551_part6_day20200902_aim_test.pkl',\n",
       " '\\\\\\\\10.10.47.163\\\\Data_archive\\\\qiushou\\\\results\\\\celltypes\\\\celltype_206551_part6_day20200904_aim_test.pkl',\n",
       " '\\\\\\\\10.10.47.163\\\\Data_archive\\\\qiushou\\\\results\\\\celltypes\\\\celltype_206551_part6_day20200905_aim_test.pkl',\n",
       " '\\\\\\\\10.10.47.163\\\\Data_archive\\\\qiushou\\\\results\\\\celltypes\\\\celltype_206551_part6_day20200906_aim_test.pkl',\n",
       " '\\\\\\\\10.10.47.163\\\\Data_archive\\\\qiushou\\\\results\\\\celltypes\\\\celltype_206551_part6_day20200908_aim_test.pkl',\n",
       " '\\\\\\\\10.10.47.163\\\\Data_archive\\\\qiushou\\\\results\\\\celltypes\\\\celltype_206552_part5_day20200810_aim_test.pkl',\n",
       " '\\\\\\\\10.10.47.163\\\\Data_archive\\\\qiushou\\\\results\\\\celltypes\\\\celltype_206552_part5_day20200811_aim_train.pkl',\n",
       " '\\\\\\\\10.10.47.163\\\\Data_archive\\\\qiushou\\\\results\\\\celltypes\\\\celltype_206552_part5_day20200812_aim_train.pkl',\n",
       " '\\\\\\\\10.10.47.163\\\\Data_archive\\\\qiushou\\\\results\\\\celltypes\\\\celltype_206552_part5_day20200814_aim_train.pkl',\n",
       " '\\\\\\\\10.10.47.163\\\\Data_archive\\\\qiushou\\\\results\\\\celltypes\\\\celltype_206552_part5_day20200816_aim_train.pkl',\n",
       " '\\\\\\\\10.10.47.163\\\\Data_archive\\\\qiushou\\\\results\\\\celltypes\\\\celltype_206552_part5_day20200818_aim_test.pkl',\n",
       " '\\\\\\\\10.10.47.163\\\\Data_archive\\\\qiushou\\\\results\\\\celltypes\\\\celltype_206552_part5_day20200819_aim_test.pkl',\n",
       " '\\\\\\\\10.10.47.163\\\\Data_archive\\\\qiushou\\\\results\\\\celltypes\\\\celltype_206552_part5_day20200820_aim_test.pkl',\n",
       " '\\\\\\\\10.10.47.163\\\\Data_archive\\\\qiushou\\\\results\\\\celltypes\\\\celltype_206552_part5_day20200821_aim_test.pkl',\n",
       " '\\\\\\\\10.10.47.163\\\\Data_archive\\\\qiushou\\\\results\\\\celltypes\\\\celltype_206552_part5_day20200823_aim_test.pkl',\n",
       " '\\\\\\\\10.10.47.163\\\\Data_archive\\\\qiushou\\\\results\\\\celltypes\\\\celltype_206552_part5_day20200824_aim_test.pkl',\n",
       " '\\\\\\\\10.10.47.163\\\\Data_archive\\\\qiushou\\\\results\\\\celltypes\\\\celltype_206552_part5_day20200825_aim_test.pkl',\n",
       " '\\\\\\\\10.10.47.163\\\\Data_archive\\\\qiushou\\\\results\\\\celltypes\\\\celltype_206552_part5_day20200826_aim_test.pkl',\n",
       " '\\\\\\\\10.10.47.163\\\\Data_archive\\\\qiushou\\\\results\\\\celltypes\\\\celltype_206552_part5_day20200828_aim_test.pkl',\n",
       " '\\\\\\\\10.10.47.163\\\\Data_archive\\\\qiushou\\\\results\\\\celltypes\\\\celltype_206552_part5_day20200831_aim_test.pkl',\n",
       " '\\\\\\\\10.10.47.163\\\\Data_archive\\\\qiushou\\\\results\\\\celltypes\\\\celltype_206552_part6_day20200901_aim_test.pkl',\n",
       " '\\\\\\\\10.10.47.163\\\\Data_archive\\\\qiushou\\\\results\\\\celltypes\\\\celltype_206552_part6_day20200902_aim_test.pkl',\n",
       " '\\\\\\\\10.10.47.163\\\\Data_archive\\\\qiushou\\\\results\\\\celltypes\\\\celltype_206552_part6_day20200904_aim_test.pkl',\n",
       " '\\\\\\\\10.10.47.163\\\\Data_archive\\\\qiushou\\\\results\\\\celltypes\\\\celltype_206552_part6_day20200905_aim_test.pkl',\n",
       " '\\\\\\\\10.10.47.163\\\\Data_archive\\\\qiushou\\\\results\\\\celltypes\\\\celltype_206552_part6_day20200906_aim_test.pkl',\n",
       " '\\\\\\\\10.10.47.163\\\\Data_archive\\\\qiushou\\\\results\\\\celltypes\\\\celltype_206552_part6_day20200908_aim_test.pkl',\n",
       " '\\\\\\\\10.10.47.163\\\\Data_archive\\\\qiushou\\\\results\\\\celltypes\\\\celltype_206553_part5_day20200812_aim_train.pkl',\n",
       " '\\\\\\\\10.10.47.163\\\\Data_archive\\\\qiushou\\\\results\\\\celltypes\\\\celltype_206553_part5_day20200814_aim_test.pkl',\n",
       " '\\\\\\\\10.10.47.163\\\\Data_archive\\\\qiushou\\\\results\\\\celltypes\\\\celltype_206553_part5_day20200816_aim_test.pkl',\n",
       " '\\\\\\\\10.10.47.163\\\\Data_archive\\\\qiushou\\\\results\\\\celltypes\\\\celltype_206553_part5_day20200818_aim_test.pkl',\n",
       " '\\\\\\\\10.10.47.163\\\\Data_archive\\\\qiushou\\\\results\\\\celltypes\\\\celltype_206553_part5_day20200819_aim_test.pkl',\n",
       " '\\\\\\\\10.10.47.163\\\\Data_archive\\\\qiushou\\\\results\\\\celltypes\\\\celltype_206553_part5_day20200820_aim_test.pkl',\n",
       " '\\\\\\\\10.10.47.163\\\\Data_archive\\\\qiushou\\\\results\\\\celltypes\\\\celltype_206553_part5_day20200823_aim_test.pkl',\n",
       " '\\\\\\\\10.10.47.163\\\\Data_archive\\\\qiushou\\\\results\\\\celltypes\\\\celltype_206553_part5_day20200824_aim_test.pkl',\n",
       " '\\\\\\\\10.10.47.163\\\\Data_archive\\\\qiushou\\\\results\\\\celltypes\\\\celltype_206553_part5_day20200825_aim_test.pkl',\n",
       " '\\\\\\\\10.10.47.163\\\\Data_archive\\\\qiushou\\\\results\\\\celltypes\\\\celltype_206553_part5_day20200826_aim_test.pkl',\n",
       " '\\\\\\\\10.10.47.163\\\\Data_archive\\\\qiushou\\\\results\\\\celltypes\\\\celltype_206553_part5_day20200828_aim_test.pkl',\n",
       " '\\\\\\\\10.10.47.163\\\\Data_archive\\\\qiushou\\\\results\\\\celltypes\\\\celltype_206553_part5_day20200831_aim_test.pkl',\n",
       " '\\\\\\\\10.10.47.163\\\\Data_archive\\\\qiushou\\\\results\\\\celltypes\\\\celltype_206553_part6_day20200901_aim_test.pkl',\n",
       " '\\\\\\\\10.10.47.163\\\\Data_archive\\\\qiushou\\\\results\\\\celltypes\\\\celltype_206553_part6_day20200902_aim_test.pkl',\n",
       " '\\\\\\\\10.10.47.163\\\\Data_archive\\\\qiushou\\\\results\\\\celltypes\\\\celltype_206553_part6_day20200904_aim_test.pkl',\n",
       " '\\\\\\\\10.10.47.163\\\\Data_archive\\\\qiushou\\\\results\\\\celltypes\\\\celltype_206553_part6_day20200905_aim_test.pkl',\n",
       " '\\\\\\\\10.10.47.163\\\\Data_archive\\\\qiushou\\\\results\\\\celltypes\\\\celltype_206553_part6_day20200906_aim_test.pkl',\n",
       " '\\\\\\\\10.10.47.163\\\\Data_archive\\\\qiushou\\\\results\\\\celltypes\\\\celltype_206553_part6_day20200908_aim_test.pkl',\n",
       " '\\\\\\\\10.10.47.163\\\\Data_archive\\\\qiushou\\\\results\\\\celltypes\\\\celltype_206553_part6_day20200909_aim_test.pkl']"
      ]
     },
     "execution_count": 446,
     "metadata": {},
     "output_type": "execute_result"
    }
   ],
   "source": [
    "celltypes = index_celltypes()\n",
    "celltypes = [i for i in celltypes if \"aim_test\"  in i or \"aim_train\" in i ]\n",
    "celltypes = [i for i in celltypes if \"20103\" not in i]\n",
    "# celltypes_2020061 = [i for i in celltypes if \"20200805\" in i or \"20200806\" in i or \"20200807\" in i];\n",
    "celltypes"
   ]
  },
  {
   "cell_type": "code",
   "execution_count": 447,
   "metadata": {},
   "outputs": [],
   "source": [
    "mouseids = [\"206551\",\"206552\",\"206553\"]\n",
    "# mouseids = [\"2020061\",\"206534\",\"206548\",\"206550\",\"206551\",\"206552\",\"206553\"]"
   ]
  },
  {
   "cell_type": "markdown",
   "metadata": {},
   "source": [
    "## index celltype files and categorize\n",
    "### according to aim,Total_Accuracy,Trial_Num"
   ]
  },
  {
   "cell_type": "markdown",
   "metadata": {},
   "source": [
    "#### Celltypes continuous"
   ]
  },
  {
   "cell_type": "code",
   "execution_count": 436,
   "metadata": {},
   "outputs": [],
   "source": [
    "def func(celltypefile):\n",
    "    stat_info = load_pkl(celltypefile)[\"stat_info\"]\n",
    "    return stat_info[\"Total_Accuracy\"],stat_info[\"aim\"],stat_info['Trial_Num']\n",
    "\n",
    "\n",
    "\n",
    "Celltypes = {}\n",
    "for mouseid in mouseids:\n",
    "    celltypefiles = [i for i in celltypes if mouseid in i]\n",
    "    Celltypes[mouseid]={}\n",
    "    Celltypes[mouseid][\"train\"]=[]\n",
    "    Celltypes[mouseid][\"40\"]=[]\n",
    "    Celltypes[mouseid][\"40-50\"]=[]\n",
    "    Celltypes[mouseid][\"50-60\"]=[]\n",
    "    Celltypes[mouseid][\"60-70\"]=[]\n",
    "    Celltypes[mouseid][\"70-80\"]=[]\n",
    "    Celltypes[mouseid][\"80\"] = []\n",
    "    for celltypefile in celltypefiles:\n",
    "        TA,aim,TN = func(celltypefile)\n",
    "        if TN>30:        \n",
    "            if aim==\"test\":            \n",
    "                if TA>=0.4 and TA<0.5:\n",
    "                    Celltypes[mouseid][\"40-50\"].append(celltypefile)\n",
    "                elif TA>=0.5 and TA<0.6:\n",
    "                    Celltypes[mouseid][\"50-60\"].append(celltypefile)\n",
    "                elif TA <0.4:\n",
    "                    Celltypes[mouseid][\"40\"].append(celltypefile)\n",
    "                elif TA<0.7 and TA>=0.6:\n",
    "                    Celltypes[mouseid][\"60-70\"].append(celltypefile)\n",
    "                elif TA<0.8 and TA>=0.7:\n",
    "                    Celltypes[mouseid][\"70-80\"].append(celltypefile)\n",
    "                else:\n",
    "                    Celltypes[mouseid][\"80\"].append(celltypefile)\n",
    "            else:\n",
    "                Celltypes[mouseid][\"train\"].append(celltypefile)"
   ]
  },
  {
   "cell_type": "markdown",
   "metadata": {},
   "source": []
  },
  {
   "cell_type": "markdown",
   "metadata": {},
   "source": [
    "#### Celltypes_discrete"
   ]
  },
  {
   "cell_type": "code",
   "execution_count": 448,
   "metadata": {},
   "outputs": [],
   "source": [
    "Celltypes_discrete = {}\n",
    "for mouseid in mouseids:\n",
    "    celltypefiles = [i for i in celltypes if mouseid in i]\n",
    "    Celltypes_discrete[mouseid]={}\n",
    "    Celltypes_discrete[mouseid][\"Training\"]=[]\n",
    "    Celltypes_discrete[mouseid][\"WellTrain\"]=[]\n",
    "    Celltypes_discrete[mouseid][\"others\"]=[]\n",
    "    for celltypefile in celltypefiles:\n",
    "        TA,aim,TN = func(celltypefile)\n",
    "        if TN>30:                    \n",
    "            if TA>=0.4 and TA<0.6:\n",
    "                Celltypes_discrete[mouseid][\"Training\"].append(celltypefile)\n",
    "            elif TA>=0.7:\n",
    "                Celltypes_discrete[mouseid][\"WellTrain\"].append(celltypefile)\n",
    "            else:\n",
    "                Celltypes_discrete[mouseid][\"others\"].append(celltypefile)\n"
   ]
  },
  {
   "cell_type": "markdown",
   "metadata": {},
   "source": [
    "## calculate the mean cell prop.\n",
    "### for each mice, there are fixed several stage\n",
    "if some mice have no data in some stage, we use np.nan\n",
    "if in one stage, one mouse get several sessions, we get the average"
   ]
  },
  {
   "cell_type": "markdown",
   "metadata": {},
   "source": [
    "#### Celltypes_prop continuous"
   ]
  },
  {
   "cell_type": "code",
   "execution_count": 437,
   "metadata": {},
   "outputs": [
    {
     "name": "stdout",
     "output_type": "stream",
     "text": [
      "train\n",
      "rdcells: try body_speed> 3cm/s\n",
      "rdcells: try body_speed> 3cm/s\n",
      "rdcells: try body_speed> 3cm/s\n",
      "40\n",
      "rdcells: try body_speed> 3cm/s\n",
      "40-50\n",
      "rdcells: try body_speed> 3cm/s\n",
      "rdcells: try body_speed> 3cm/s\n",
      "rdcells: try body_speed> 3cm/s\n",
      "50-60\n",
      "rdcells: try body_speed> 3cm/s\n",
      "rdcells: try body_speed> 3cm/s\n",
      "rdcells: try body_speed> 3cm/s\n",
      "rdcells: try body_speed> 3cm/s\n",
      "rdcells: try body_speed> 3cm/s\n",
      "rdcells: try body_speed> 3cm/s\n",
      "rdcells: try body_speed> 3cm/s\n",
      "60-70\n",
      "70-80\n",
      "80\n",
      "train\n",
      "rdcells: try body_speed> 3cm/s\n",
      "rdcells: try body_speed> 3cm/s\n",
      "rdcells: try body_speed> 3cm/s\n",
      "40\n",
      "40-50\n",
      "rdcells: try body_speed> 3cm/s\n",
      "50-60\n",
      "rdcells: try body_speed> 3cm/s\n",
      "rdcells: try body_speed> 3cm/s\n",
      "60-70\n",
      "70-80\n",
      "80\n",
      "train\n",
      "rdcells: try body_speed> 3cm/s\n",
      "rdcells: try body_speed> 3cm/s\n",
      "rdcells: try body_speed> 3cm/s\n",
      "40\n",
      "40-50\n",
      "rdcells: try body_speed> 3cm/s\n",
      "rdcells: try body_speed> 3cm/s\n",
      "rdcells: try body_speed> 3cm/s\n",
      "rdcells: try body_speed> 3cm/s\n",
      "50-60\n",
      "rdcells: try body_speed> 3cm/s\n",
      "rdcells: try body_speed> 3cm/s\n",
      "rdcells: try body_speed> 3cm/s\n",
      "rdcells: try body_speed> 3cm/s\n",
      "rdcells: try body_speed> 3cm/s\n",
      "rdcells: try body_speed> 3cm/s\n",
      "60-70\n",
      "70-80\n",
      "80\n",
      "train\n",
      "rdcells: try body_speed> 3cm/s\n",
      "rdcells: try body_speed> 3cm/s\n",
      "rdcells: try body_speed> 3cm/s\n",
      "40\n",
      "rdcells: try body_speed> 3cm/s\n",
      "40-50\n",
      "rdcells: try body_speed> 3cm/s\n",
      "rdcells: try body_speed> 3cm/s\n",
      "50-60\n",
      "rdcells: try body_speed> 3cm/s\n",
      "rdcells: try body_speed> 3cm/s\n",
      "rdcells: try body_speed> 3cm/s\n",
      "rdcells: try body_speed> 3cm/s\n",
      "rdcells: try body_speed> 3cm/s\n",
      "rdcells: try body_speed> 3cm/s\n",
      "60-70\n",
      "rdcells: try body_speed> 3cm/s\n",
      "70-80\n",
      "80\n",
      "train\n",
      "rdcells: try body_speed> 3cm/s\n",
      "rdcells: try body_speed> 3cm/s\n",
      "40\n",
      "40-50\n",
      "50-60\n",
      "rdcells: try body_speed> 3cm/s\n",
      "rdcells: try body_speed> 3cm/s\n",
      "60-70\n",
      "70-80\n",
      "rdcells: try body_speed> 3cm/s\n",
      "rdcells: try body_speed> 3cm/s\n",
      "rdcells: try body_speed> 3cm/s\n",
      "rdcells: try body_speed> 3cm/s\n",
      "80\n",
      "rdcells: try body_speed> 3cm/s\n",
      "rdcells: try body_speed> 3cm/s\n",
      "rdcells: try body_speed> 3cm/s\n",
      "rdcells: try body_speed> 3cm/s\n",
      "rdcells: try body_speed> 3cm/s\n",
      "rdcells: try body_speed> 3cm/s\n",
      "train\n",
      "rdcells: try body_speed> 3cm/s\n",
      "rdcells: try body_speed> 3cm/s\n",
      "rdcells: try body_speed> 3cm/s\n",
      "rdcells: try body_speed> 3cm/s\n",
      "40\n",
      "40-50\n",
      "rdcells: try body_speed> 3cm/s\n",
      "50-60\n",
      "rdcells: try body_speed> 3cm/s\n",
      "rdcells: try body_speed> 3cm/s\n",
      "rdcells: try body_speed> 3cm/s\n",
      "rdcells: try body_speed> 3cm/s\n",
      "60-70\n",
      "rdcells: try body_speed> 3cm/s\n",
      "70-80\n",
      "rdcells: try body_speed> 3cm/s\n",
      "rdcells: try body_speed> 3cm/s\n",
      "rdcells: try body_speed> 3cm/s\n",
      "rdcells: try body_speed> 3cm/s\n",
      "rdcells: try body_speed> 3cm/s\n",
      "rdcells: try body_speed> 3cm/s\n",
      "rdcells: try body_speed> 3cm/s\n",
      "rdcells: try body_speed> 3cm/s\n",
      "80\n",
      "rdcells: try body_speed> 3cm/s\n",
      "rdcells: try body_speed> 3cm/s\n",
      "rdcells: try body_speed> 3cm/s\n",
      "train\n",
      "rdcells: try body_speed> 3cm/s\n",
      "40\n",
      "40-50\n",
      "rdcells: try body_speed> 3cm/s\n",
      "rdcells: try body_speed> 3cm/s\n",
      "50-60\n",
      "rdcells: try body_speed> 3cm/s\n",
      "rdcells: try body_speed> 3cm/s\n",
      "rdcells: try body_speed> 3cm/s\n",
      "rdcells: try body_speed> 3cm/s\n",
      "rdcells: try body_speed> 3cm/s\n",
      "rdcells: try body_speed> 3cm/s\n",
      "rdcells: try body_speed> 3cm/s\n",
      "rdcells: try body_speed> 3cm/s\n",
      "60-70\n",
      "rdcells: try body_speed> 3cm/s\n",
      "rdcells: try body_speed> 3cm/s\n",
      "70-80\n",
      "rdcells: try body_speed> 3cm/s\n",
      "rdcells: try body_speed> 3cm/s\n",
      "rdcells: try body_speed> 3cm/s\n",
      "rdcells: try body_speed> 3cm/s\n",
      "rdcells: try body_speed> 3cm/s\n",
      "rdcells: try body_speed> 3cm/s\n",
      "80\n"
     ]
    }
   ],
   "source": [
    "Celltypes_prop = {}\n",
    "for mouseid in Celltypes.keys():\n",
    "    Celltypes_prop[mouseid]={}\n",
    "    for stage in Celltypes[mouseid].keys():\n",
    "        print(stage)\n",
    "        Celltypes_prop[mouseid][stage]=[]\n",
    "        if len(Celltypes[mouseid][stage])>0:\n",
    "            celltype_files = Celltypes[mouseid][stage]\n",
    "            wenn_lists=[]\n",
    "            for celltype_file in celltype_files:\n",
    "                contextcell_ids=[]\n",
    "                rdcell_ids=[]\n",
    "                pccell_ids=[]\n",
    "                \n",
    "                contextcell_id, rdcell_id,pccell_id,total_cell_num = specific_ids(celltype_file,contexts=[0,1])\n",
    "                \n",
    "                contextcell_ids=contextcell_ids+contextcell_id[\"ctx0cells\"]+contextcell_id[\"ctx1cells\"]\n",
    "                rdcell_ids = rdcell_ids + rdcell_id[\"context0_leftcells\"]+ rdcell_id[\"context0_rightcells\"]+ rdcell_id[\"context1_leftcells\"]+ rdcell_id[\"context1_rightcells\"]\n",
    "                pccell_ids = pccell_ids + pccell_id[\"context0_pccells\"] + pccell_id[\"context1_pccells\"]\n",
    "                \n",
    "                ctx_cellids = list(set(spread(contextcell_ids)))\n",
    "                rd_cellids = list(set(spread(rdcell_ids)))\n",
    "                ctx_rd_cellids = [i for i in ctx_cellids if i in rd_cellids]                \n",
    "                pc_cellids = list(set(spread(pccell_ids)))                \n",
    "                ctx_pc_cellids = [i for i in ctx_cellids if i in pc_cellids]\n",
    "                rd_pc_cellids = [i for i in rd_cellids if i in pc_cellids]\n",
    "                ctx_rd_pc_cellids = [i for i in ctx_rd_cellids if i in pc_cellids]\n",
    "                wenn_list = [len(ctx_cellids)/total_cell_num\n",
    "                             ,len(rd_cellids)/total_cell_num\n",
    "                             ,len(ctx_rd_cellids)/total_cell_num\n",
    "                             ,len(pc_cellids)/total_cell_num\n",
    "                             ,len(ctx_pc_cellids)/total_cell_num\n",
    "                             ,len(rd_pc_cellids)/total_cell_num\n",
    "                             ,len(ctx_rd_pc_cellids)/total_cell_num]\n",
    "                wenn_lists.append(wenn_list)\n",
    "#             print(np.mean(wenn_lists,axis=0))\n",
    "            Celltypes_prop[mouseid][stage].append([i for i in np.mean(wenn_lists,axis=0)])\n",
    "        else:\n",
    "            Celltypes_prop[mouseid][stage].append([np.nan,np.nan,np.nan,np.nan,np.nan,np.nan,np.nan])"
   ]
  },
  {
   "cell_type": "markdown",
   "metadata": {},
   "source": [
    "#### Celltypes_prop_discrete"
   ]
  },
  {
   "cell_type": "code",
   "execution_count": 449,
   "metadata": {
    "scrolled": true
   },
   "outputs": [
    {
     "name": "stdout",
     "output_type": "stream",
     "text": [
      "Training\n",
      "rdcells: try body_speed> 3cm/s\n",
      "rdcells: try body_speed> 3cm/s\n",
      "rdcells: try body_speed> 3cm/s\n",
      "WellTrain\n",
      "rdcells: try body_speed> 3cm/s\n",
      "rdcells: try body_speed> 3cm/s\n",
      "rdcells: try body_speed> 3cm/s\n",
      "rdcells: try body_speed> 3cm/s\n",
      "rdcells: try body_speed> 3cm/s\n",
      "rdcells: try body_speed> 3cm/s\n",
      "rdcells: try body_speed> 3cm/s\n",
      "rdcells: try body_speed> 3cm/s\n",
      "rdcells: try body_speed> 3cm/s\n",
      "rdcells: try body_speed> 3cm/s\n",
      "others\n",
      "rdcells: try body_speed> 3cm/s\n",
      "Training\n",
      "rdcells: try body_speed> 3cm/s\n",
      "rdcells: try body_speed> 3cm/s\n",
      "rdcells: try body_speed> 3cm/s\n",
      "rdcells: try body_speed> 3cm/s\n",
      "rdcells: try body_speed> 3cm/s\n",
      "rdcells: try body_speed> 3cm/s\n",
      "WellTrain\n",
      "rdcells: try body_speed> 3cm/s\n",
      "rdcells: try body_speed> 3cm/s\n",
      "rdcells: try body_speed> 3cm/s\n",
      "rdcells: try body_speed> 3cm/s\n",
      "rdcells: try body_speed> 3cm/s\n",
      "rdcells: try body_speed> 3cm/s\n",
      "rdcells: try body_speed> 3cm/s\n",
      "rdcells: try body_speed> 3cm/s\n",
      "rdcells: try body_speed> 3cm/s\n",
      "rdcells: try body_speed> 3cm/s\n",
      "rdcells: try body_speed> 3cm/s\n",
      "others\n",
      "rdcells: try body_speed> 3cm/s\n",
      "rdcells: try body_speed> 3cm/s\n",
      "rdcells: try body_speed> 3cm/s\n",
      "rdcells: try body_speed> 3cm/s\n",
      "Training\n",
      "rdcells: try body_speed> 3cm/s\n",
      "rdcells: try body_speed> 3cm/s\n",
      "rdcells: try body_speed> 3cm/s\n",
      "rdcells: try body_speed> 3cm/s\n",
      "rdcells: try body_speed> 3cm/s\n",
      "rdcells: try body_speed> 3cm/s\n",
      "rdcells: try body_speed> 3cm/s\n",
      "rdcells: try body_speed> 3cm/s\n",
      "rdcells: try body_speed> 3cm/s\n",
      "rdcells: try body_speed> 3cm/s\n",
      "WellTrain\n",
      "rdcells: try body_speed> 3cm/s\n",
      "rdcells: try body_speed> 3cm/s\n",
      "rdcells: try body_speed> 3cm/s\n",
      "rdcells: try body_speed> 3cm/s\n",
      "rdcells: try body_speed> 3cm/s\n",
      "rdcells: try body_speed> 3cm/s\n",
      "others\n",
      "rdcells: try body_speed> 3cm/s\n",
      "rdcells: try body_speed> 3cm/s\n",
      "rdcells: try body_speed> 3cm/s\n"
     ]
    }
   ],
   "source": [
    "Celltypes_prop_discrete = {}\n",
    "for mouseid in Celltypes_discrete.keys():\n",
    "    Celltypes_prop_discrete[mouseid]={}\n",
    "    for stage in Celltypes_discrete[mouseid].keys():\n",
    "        print(stage)\n",
    "        Celltypes_prop_discrete[mouseid][stage]=[]\n",
    "        if len(Celltypes_discrete[mouseid][stage])>0:\n",
    "            celltype_files = Celltypes_discrete[mouseid][stage]\n",
    "            wenn_lists=[]\n",
    "            for celltype_file in celltype_files:\n",
    "                contextcell_ids=[]\n",
    "                rdcell_ids=[]\n",
    "                pccell_ids=[]\n",
    "                \n",
    "                contextcell_id, rdcell_id,pccell_id,total_cell_num = specific_ids(celltype_file,contexts=[0,1])\n",
    "                \n",
    "                contextcell_ids=contextcell_ids+contextcell_id[\"ctx0cells\"]+contextcell_id[\"ctx1cells\"]\n",
    "                rdcell_ids = rdcell_ids + rdcell_id[\"context0_leftcells\"]+ rdcell_id[\"context0_rightcells\"]+ rdcell_id[\"context1_leftcells\"]+ rdcell_id[\"context1_rightcells\"]\n",
    "                pccell_ids = pccell_ids + pccell_id[\"context0_pccells\"] + pccell_id[\"context1_pccells\"]\n",
    "                \n",
    "                ctx_cellids = list(set(spread(contextcell_ids)))\n",
    "                rd_cellids = list(set(spread(rdcell_ids)))\n",
    "                ctx_rd_cellids = [i for i in ctx_cellids if i in rd_cellids]                \n",
    "                pc_cellids = list(set(spread(pccell_ids)))                \n",
    "                ctx_pc_cellids = [i for i in ctx_cellids if i in pc_cellids]\n",
    "                rd_pc_cellids = [i for i in rd_cellids if i in pc_cellids]\n",
    "                ctx_rd_pc_cellids = [i for i in ctx_rd_cellids if i in pc_cellids]\n",
    "                wenn_list = [len(ctx_cellids)/total_cell_num\n",
    "                             ,len(rd_cellids)/total_cell_num\n",
    "                             ,len(ctx_rd_cellids)/total_cell_num\n",
    "                             ,len(pc_cellids)/total_cell_num\n",
    "                             ,len(ctx_pc_cellids)/total_cell_num\n",
    "                             ,len(rd_pc_cellids)/total_cell_num\n",
    "                             ,len(ctx_rd_pc_cellids)/total_cell_num]\n",
    "                wenn_lists.append(wenn_list)\n",
    "#             print(np.mean(wenn_lists,axis=0))\n",
    "            Celltypes_prop_discrete[mouseid][stage].append([i for i in np.mean(wenn_lists,axis=0)])\n",
    "        else:\n",
    "            Celltypes_prop_discrete[mouseid][stage].append([np.nan,np.nan,np.nan,np.nan,np.nan,np.nan,np.nan])"
   ]
  },
  {
   "cell_type": "code",
   "execution_count": null,
   "metadata": {},
   "outputs": [],
   "source": []
  },
  {
   "cell_type": "markdown",
   "metadata": {},
   "source": [
    "### organize matrix: stages x celltypes.\n",
    "here 7 stages and 7 celltypes"
   ]
  },
  {
   "cell_type": "markdown",
   "metadata": {},
   "source": [
    "#### organized as discrete"
   ]
  },
  {
   "cell_type": "code",
   "execution_count": 450,
   "metadata": {},
   "outputs": [
    {
     "data": {
      "text/plain": [
       "{'206551': {'Training': [[0.26354679802955666,\n",
       "    0.28981937602627256,\n",
       "    0.09441707717569786,\n",
       "    0.1691297208538588,\n",
       "    0.0361247947454844,\n",
       "    0.03940886699507389,\n",
       "    0.009852216748768473]],\n",
       "  'WellTrain': [[0.5181665264928512,\n",
       "    0.527616244142737,\n",
       "    0.3159858224198005,\n",
       "    0.33055388681965636,\n",
       "    0.17062958068004325,\n",
       "    0.1731827466057912,\n",
       "    0.10348432055749128]],\n",
       "  'others': [[0.5541871921182266,\n",
       "    0.4014778325123153,\n",
       "    0.22413793103448276,\n",
       "    0.2536945812807882,\n",
       "    0.15024630541871922,\n",
       "    0.10098522167487685,\n",
       "    0.0665024630541872]]},\n",
       " '206552': {'Training': [[0.4022865392834433,\n",
       "    0.3992035942500339,\n",
       "    0.20191335439013458,\n",
       "    0.24188218615463197,\n",
       "    0.09137817806548455,\n",
       "    0.07323232323232323,\n",
       "    0.03454826906839291]],\n",
       "  'WellTrain': [[0.6037316025438739,\n",
       "    0.6713941510845536,\n",
       "    0.45906034735193196,\n",
       "    0.301576644576926,\n",
       "    0.17751885041499452,\n",
       "    0.19063616309887063,\n",
       "    0.1296432291478731]],\n",
       "  'others': [[0.3463974106388967,\n",
       "    0.47946961878850425,\n",
       "    0.1813960033774275,\n",
       "    0.2684312161866341,\n",
       "    0.08732448322231603,\n",
       "    0.10792131844763422,\n",
       "    0.03391891046689808]]},\n",
       " '206553': {'Training': [[0.6680824218282659,\n",
       "    0.6462214609187704,\n",
       "    0.4798252090902535,\n",
       "    0.35731195146862615,\n",
       "    0.2298369646079783,\n",
       "    0.2113099732468417,\n",
       "    0.15589310814363047]],\n",
       "  'WellTrain': [[0.7636559763385685,\n",
       "    0.8364615138862191,\n",
       "    0.6647045401096418,\n",
       "    0.4299890990628035,\n",
       "    0.32300173086917766,\n",
       "    0.3459977292101614,\n",
       "    0.2725943178325571]],\n",
       "  'others': [[0.6466721446179129,\n",
       "    0.6841961106546153,\n",
       "    0.49411120241029854,\n",
       "    0.37907422623938647,\n",
       "    0.2448644207066557,\n",
       "    0.24376883045740894,\n",
       "    0.17693782525335525]]}}"
      ]
     },
     "execution_count": 450,
     "metadata": {},
     "output_type": "execute_result"
    }
   ],
   "source": [
    "Celltypes_prop_discrete"
   ]
  },
  {
   "cell_type": "code",
   "execution_count": 451,
   "metadata": {},
   "outputs": [],
   "source": [
    "Stages_discrete_prop={}\n",
    "for stage in [\"Training\"]:\n",
    "    Stages_discrete_prop[\"Training\"]=[]\n",
    "    for mouseid in mouseids:\n",
    "        Stages_discrete_prop[\"Training\"].append(Celltypes_prop_discrete[mouseid][stage][0])\n",
    "for stage in [\"WellTrain\"]:\n",
    "    Stages_discrete_prop[\"WellTrain\"]=[]\n",
    "    for mouseid in mouseids:\n",
    "        Stages_discrete_prop[\"WellTrain\"].append(Celltypes_prop_discrete[mouseid][stage][0])"
   ]
  },
  {
   "cell_type": "code",
   "execution_count": 452,
   "metadata": {},
   "outputs": [],
   "source": [
    "aves = []\n",
    "stds = []\n",
    "sems=[]\n",
    "for stage in Stages_discrete_prop.keys():\n",
    "    ave = [i for i in np.nanmean(Stages_discrete_prop[stage],axis=0)]\n",
    "    std = [i for i in np.nanstd(Stages_discrete_prop[stage],axis=0,ddof=1)]\n",
    "    n = len(np.array(Stages_discrete_prop[stage])[:,0]) - np.isnan(Stages_discrete_prop[stage])[:,0].sum()\n",
    "    sem = std/np.sqrt(n)\n",
    "#     venn3(ave)\n",
    "    aves.append(ave)\n",
    "    stds.append(std)\n",
    "    sems.append(sem)\n",
    "#     plt.show()\n",
    "aves = np.array(aves)\n",
    "stds = np.array(stds)\n",
    "sems = np.array(sems)"
   ]
  },
  {
   "cell_type": "code",
   "execution_count": 453,
   "metadata": {},
   "outputs": [
    {
     "data": {
      "text/plain": [
       "(2, 3, 7)"
      ]
     },
     "execution_count": 453,
     "metadata": {},
     "output_type": "execute_result"
    }
   ],
   "source": [
    "Stages_discrete_prop_arrs = []\n",
    "for stage in Stages_discrete_prop.keys():\n",
    "    Stages_discrete_prop_arrs.append(Stages_discrete_prop[stage])\n",
    "Stages_discrete_prop_arrs = np.array(Stages_discrete_prop_arrs)\n",
    "np.shape(Stages_discrete_prop_arrs) # stage mouse types"
   ]
  },
  {
   "cell_type": "code",
   "execution_count": 454,
   "metadata": {},
   "outputs": [],
   "source": [
    "from mylab.ana.Mstat import *"
   ]
  },
  {
   "cell_type": "code",
   "execution_count": 455,
   "metadata": {},
   "outputs": [
    {
     "name": "stdout",
     "output_type": "stream",
     "text": [
      "--------------------------\n",
      "0.27523352407483426\n",
      "--------------------------\n",
      "0.12663045794761718\n",
      "--------------------------\n",
      "0.27523352407483426\n",
      "--------------------------\n",
      "0.27523352407483426\n",
      "--------------------------\n",
      "0.27523352407483426\n",
      "--------------------------\n",
      "0.27523352407483426\n",
      "--------------------------\n",
      "0.27523352407483426\n"
     ]
    }
   ],
   "source": [
    "for i in range(7): # 7 celltypes\n",
    "    print(\"--------------------------\")\n",
    "    cell_types = Stages_discrete_prop_arrs[:,:,i]    \n",
    "    print(Wilcoxon_ranksumstest(cell_types[0,:],cell_types[1,:])[1])"
   ]
  },
  {
   "cell_type": "code",
   "execution_count": null,
   "metadata": {},
   "outputs": [],
   "source": []
  },
  {
   "cell_type": "code",
   "execution_count": null,
   "metadata": {},
   "outputs": [],
   "source": []
  },
  {
   "cell_type": "code",
   "execution_count": 456,
   "metadata": {},
   "outputs": [
    {
     "data": {
      "text/plain": [
       "Text(0.5, 1.05, 'Part5-Cell proporotion along performance')"
      ]
     },
     "execution_count": 456,
     "metadata": {},
     "output_type": "execute_result"
    },
    {
     "data": {
      "image/png": "[encoded data removed]",
      "text/plain": [
       "<Figure size 936x288 with 1 Axes>"
      ]
     },
     "metadata": {
      "needs_background": "light"
     },
     "output_type": "display_data"
    }
   ],
   "source": [
    "colors = [\"red\",\"green\",\"blue\",\"orange\",\"pink\",\"cyan\",\"black\"]\n",
    "plt.figure(figsize=(13,4))\n",
    "handles=[]\n",
    "for i in range(7): # different celltypes\n",
    "    x = np.array([1,2])+2*i\n",
    "    y = aves[:,i]\n",
    "#     sns.regplot(x,y,color=colors[i])\n",
    "    y_err = stds[:,i]\n",
    "    h=plt.scatter(x,y,color=colors[i])    \n",
    "    plt.errorbar(x,y,yerr=y_err,color=colors[i],linestyle=\"-\")\n",
    "    handles.append(h)\n",
    "#     if i == 3:\n",
    "#         plt.plot(x,aves[2:,0]*aves[2:,1],\"--\",color=colors[i])\n",
    "#     if i == 4:\n",
    "#         plt.plot(x,aves[2:,0]*aves[2:,2],\"--\",color=colors[i])\n",
    "#     if i == 5:\n",
    "#         plt.plot(x,aves[2:,1]*aves[2:,2],\"--\",color=colors[i])\n",
    "#     if i == 6:\n",
    "#         plt.plot(x,aves[2:,0]*aves[2:,1]*aves[2:,2],\"--\",color=colors[i])\n",
    "plt.legend(handles=handles,labels=[\"CTXC\",\"RDC\",\"PC\",\"CTXC&RDC\",\"CTXC&PC\",\"RDC&PC\",\"CTXC&RDC&PC\"])\n",
    "plt.xticks(ticks=np.arange(1,15),labels=['Training', 'WellTrain']*7,rotation=0)\n",
    "plt.xlabel(\"Performance\")\n",
    "plt.ylabel(\"proportion(0-1)\")\n",
    "plt.ylim(0,1)\n",
    "plt.title(\"Part5-Cell proporotion along performance\",y=1.05)"
   ]
  },
  {
   "cell_type": "markdown",
   "metadata": {},
   "source": [
    "#### organized as continuous performance"
   ]
  },
  {
   "cell_type": "code",
   "execution_count": 438,
   "metadata": {},
   "outputs": [],
   "source": [
    "Stages_prop={}\n",
    "for stage in ['train', '40', '40-50', '50-60', '60-70', '70-80', '80']:\n",
    "    Stages_prop[stage]=[]\n",
    "    for mouseid in  mouseids:\n",
    "        Stages_prop[stage].append(Celltypes_prop[mouseid][stage][0])\n",
    "\n",
    "aves = []\n",
    "stds = []\n",
    "sems = []\n",
    "for stage in Stages_prop.keys():\n",
    "    ave = [i for i in np.nanmean(Stages_prop[stage],axis=0)]\n",
    "    std = [i for i in np.nanstd(Stages_prop[stage],axis=0,ddof=1)]\n",
    "    n = len(np.array(Stages_prop[stage])[:,0]) - np.isnan(Stages_prop[stage])[:,0].sum()\n",
    "    sem = std/np.sqrt(n)\n",
    "#     venn3(ave)\n",
    "    aves.append(ave)\n",
    "    stds.append(std)\n",
    "    sems.append(sem)\n",
    "#     plt.show()\n",
    "aves = np.array(aves)\n",
    "stds = np.array(stds)\n",
    "sems = np.array(sems)"
   ]
  },
  {
   "cell_type": "code",
   "execution_count": 439,
   "metadata": {},
   "outputs": [],
   "source": [
    "Stages_prop_arrs = []\n",
    "for stage in stages:\n",
    "    Stages_prop_arrs.append(Stages_prop[stage])\n",
    "\n",
    "Stages_prop_arrs = np.array(Stages_prop_arrs) # stages mice celltypes"
   ]
  },
  {
   "cell_type": "code",
   "execution_count": 441,
   "metadata": {
    "scrolled": true
   },
   "outputs": [
    {
     "data": {
      "text/plain": [
       "Text(0.5, 1.05, 'Part5-Cell proporotion along performance')"
      ]
     },
     "execution_count": 441,
     "metadata": {},
     "output_type": "execute_result"
    },
    {
     "data": {
      "image/png": "[encoded data removed]",
      "text/plain": [
       "<Figure size 936x288 with 1 Axes>"
      ]
     },
     "metadata": {
      "needs_background": "light"
     },
     "output_type": "display_data"
    }
   ],
   "source": [
    "colors = [\"red\",\"green\",\"blue\",\"orange\",\"pink\",\"cyan\",\"black\"]\n",
    "plt.figure(figsize=(13,4))\n",
    "handles=[]\n",
    "for i in range(7): # different celltypes\n",
    "    x = np.array([1,2,3,4,5])+5*i\n",
    "    y = aves[2:,i]\n",
    "    scatters = Stages_prop_arrs[2:,:,i]\n",
    "#     sns.regplot(x,y,color=colors[i])\n",
    "    y_err = sems[2:,i]\n",
    "#     h=plt.scatter(x,y,color=colors[i])  \n",
    "    \n",
    "\n",
    "#     for n in range(7): # three mice\n",
    "#         ys =scatters[:,n]\n",
    "#         plt.plot(x,ys,color=\"gray\",alpha=0.5)\n",
    "        \n",
    "    h=plt.errorbar(x,y,yerr=y_err,color=colors[i],linestyle=\"-\",marker=\"o\")\n",
    "    handles.append(h)\n",
    "    if i == 3:\n",
    "        plt.plot(x,aves[2:,0]*aves[2:,1],\"--\",color=colors[i])\n",
    "    if i == 4:\n",
    "        plt.plot(x,aves[2:,0]*aves[2:,2],\"--\",color=colors[i])\n",
    "    if i == 5:\n",
    "        plt.plot(x,aves[2:,1]*aves[2:,2],\"--\",color=colors[i])\n",
    "    if i == 6:\n",
    "        plt.plot(x,aves[2:,0]*aves[2:,1]*aves[2:,2],\"--\",color=colors[i])\n",
    "plt.legend(handles=handles,labels=[\"CTXC\",\"RDC\",\"PC\",\"CTXC&RDC\",\"CTXC&PC\",\"RDC&PC\",\"CTXC&RDC&PC\"])\n",
    "plt.xticks(ticks=np.arange(1,36),labels=['<50%', '50-60%', '60-70%', '70-80%', '>80%']*7,rotation=45)\n",
    "plt.xlabel(\"Performance\")\n",
    "plt.ylabel(\"proportion(0-1)\")\n",
    "plt.ylim(0,1)\n",
    "plt.title(\"Part5-Cell proporotion along performance\",y=1.05)\n"
   ]
  },
  {
   "cell_type": "code",
   "execution_count": 340,
   "metadata": {},
   "outputs": [
    {
     "data": {
      "text/plain": [
       "array([], shape=(0, 1), dtype=int64)"
      ]
     },
     "execution_count": 340,
     "metadata": {},
     "output_type": "execute_result"
    }
   ],
   "source": [
    "np.argwhere(scatters==np.nan)"
   ]
  },
  {
   "cell_type": "code",
   "execution_count": 367,
   "metadata": {},
   "outputs": [
    {
     "data": {
      "text/plain": [
       "array([[0.55321285, 0.31360947, 0.60280982, 0.58583691,        nan,\n",
       "        0.34795322, 0.59947428],\n",
       "       [0.5858202 , 0.46745562, 0.55807148, 0.48624593, 0.27216749,\n",
       "        0.40013134, 0.68523446],\n",
       "       [       nan,        nan,        nan, 0.48927039,        nan,\n",
       "        0.42690058, 0.72843057],\n",
       "       [       nan,        nan,        nan,        nan, 0.46539709,\n",
       "        0.60041435, 0.76365598],\n",
       "       [       nan,        nan,        nan,        nan, 0.55334615,\n",
       "        0.6125776 ,        nan]])"
      ]
     },
     "execution_count": 367,
     "metadata": {},
     "output_type": "execute_result"
    }
   ],
   "source": [
    "scatters"
   ]
  },
  {
   "cell_type": "code",
   "execution_count": 444,
   "metadata": {},
   "outputs": [
    {
     "data": {
      "text/plain": [
       "WilcoxonResult(statistic=2.0, pvalue=0.75)"
      ]
     },
     "execution_count": 444,
     "metadata": {},
     "output_type": "execute_result"
    }
   ],
   "source": [
    "Wilcoxon_signed_ranktest(np.array([1,2,3])-np.array([2,3,2]))"
   ]
  },
  {
   "cell_type": "code",
   "execution_count": 371,
   "metadata": {},
   "outputs": [
    {
     "data": {
      "text/plain": [
       "[<matplotlib.lines.Line2D at 0x201b3d6ab50>]"
      ]
     },
     "execution_count": 371,
     "metadata": {},
     "output_type": "execute_result"
    },
    {
     "data": {
      "image/png": "[encoded data removed]",
      "text/plain": [
       "<Figure size 432x288 with 1 Axes>"
      ]
     },
     "metadata": {
      "needs_background": "light"
     },
     "output_type": "display_data"
    }
   ],
   "source": [
    "plt.plot([1]*7,s,\".\")"
   ]
  },
  {
   "cell_type": "code",
   "execution_count": 363,
   "metadata": {},
   "outputs": [
    {
     "data": {
      "text/plain": [
       "array([[[0.40500463, 0.50295644, 0.25896509, 0.22436515, 0.08151066,\n",
       "         0.09152919, 0.04467408],\n",
       "        [0.48717949, 0.4418146 , 0.24260355, 0.26035503, 0.10453649,\n",
       "         0.11242604, 0.05325444],\n",
       "        [0.30093366, 0.33539288, 0.1338237 , 0.24073202, 0.06532894,\n",
       "         0.06419128, 0.02291789],\n",
       "        [0.26737621, 0.4567935 , 0.14121804, 0.27952204, 0.07337904,\n",
       "         0.12972031, 0.03613023],\n",
       "        [0.40024631, 0.31527094, 0.15024631, 0.19581281, 0.08990148,\n",
       "         0.06527094, 0.03817734],\n",
       "        [0.35598242, 0.41707712, 0.15381368, 0.27113629, 0.08975201,\n",
       "         0.09472433, 0.02665197],\n",
       "        [0.4831553 , 0.40755957, 0.24650781, 0.35661463, 0.16762531,\n",
       "         0.11503698, 0.06655711]],\n",
       "\n",
       "       [[0.49846154, 0.66153846, 0.35692308, 0.22461538, 0.11692308,\n",
       "         0.13846154, 0.07384615],\n",
       "        [       nan,        nan,        nan,        nan,        nan,\n",
       "                nan,        nan],\n",
       "        [       nan,        nan,        nan,        nan,        nan,\n",
       "                nan,        nan],\n",
       "        [0.68791946, 0.62416107, 0.48993289, 0.44295302, 0.29865772,\n",
       "         0.25838926, 0.2114094 ],\n",
       "        [       nan,        nan,        nan,        nan,        nan,\n",
       "                nan,        nan],\n",
       "        [       nan,        nan,        nan,        nan,        nan,\n",
       "                nan,        nan],\n",
       "        [       nan,        nan,        nan,        nan,        nan,\n",
       "                nan,        nan]],\n",
       "\n",
       "       [[0.55321285, 0.62650602, 0.40361446, 0.32128514, 0.18975904,\n",
       "         0.20180723, 0.14257028],\n",
       "        [0.31360947, 0.33727811, 0.12426036, 0.24852071, 0.08284024,\n",
       "         0.07100592, 0.01775148],\n",
       "        [0.60280982, 0.67750971, 0.44371543, 0.38434742, 0.21844475,\n",
       "         0.25107097, 0.15995646],\n",
       "        [0.58583691, 0.62660944, 0.42918455, 0.33261803, 0.19098712,\n",
       "         0.18454936, 0.12017167],\n",
       "        [       nan,        nan,        nan,        nan,        nan,\n",
       "                nan,        nan],\n",
       "        [0.34795322, 0.30409357, 0.14912281, 0.25438596, 0.07894737,\n",
       "         0.05555556, 0.02923977],\n",
       "        [0.59947428, 0.45898513, 0.33742925, 0.33221892, 0.18415403,\n",
       "         0.12379468, 0.0906468 ]],\n",
       "\n",
       "       [[0.5858202 , 0.61260691, 0.39962134, 0.29508937, 0.16712829,\n",
       "         0.16876208, 0.10325434],\n",
       "        [0.46745562, 0.38757396, 0.22485207, 0.28994083, 0.13017751,\n",
       "         0.10059172, 0.05621302],\n",
       "        [0.55807148, 0.57871994, 0.353615  , 0.30835393, 0.18074222,\n",
       "         0.16710211, 0.1038033 ],\n",
       "        [0.48624593, 0.47891043, 0.29354255, 0.35882277, 0.17606888,\n",
       "         0.15667636, 0.10260823],\n",
       "        [0.27216749, 0.32019704, 0.10344828, 0.18472906, 0.03940887,\n",
       "         0.04433498, 0.00985222],\n",
       "        [0.40013134, 0.44189965, 0.22080323, 0.23438722, 0.08858711,\n",
       "         0.07991682, 0.03715952],\n",
       "        [0.68523446, 0.69303054, 0.5154242 , 0.36358521, 0.2412577 ,\n",
       "         0.2331888 , 0.17220468]],\n",
       "\n",
       "       [[       nan,        nan,        nan,        nan,        nan,\n",
       "                nan,        nan],\n",
       "        [       nan,        nan,        nan,        nan,        nan,\n",
       "                nan,        nan],\n",
       "        [       nan,        nan,        nan,        nan,        nan,\n",
       "                nan,        nan],\n",
       "        [0.48927039, 0.63948498, 0.3304721 , 0.29184549, 0.13304721,\n",
       "         0.18454936, 0.0944206 ],\n",
       "        [       nan,        nan,        nan,        nan,        nan,\n",
       "                nan,        nan],\n",
       "        [0.42690058, 0.57309942, 0.28947368, 0.24853801, 0.10526316,\n",
       "         0.11695906, 0.05847953],\n",
       "        [0.72843057, 0.82251438, 0.6179129 , 0.39030403, 0.28348398,\n",
       "         0.30813476, 0.23212818]],\n",
       "\n",
       "       [[       nan,        nan,        nan,        nan,        nan,\n",
       "                nan,        nan],\n",
       "        [       nan,        nan,        nan,        nan,        nan,\n",
       "                nan,        nan],\n",
       "        [       nan,        nan,        nan,        nan,        nan,\n",
       "                nan,        nan],\n",
       "        [       nan,        nan,        nan,        nan,        nan,\n",
       "                nan,        nan],\n",
       "        [0.46539709, 0.40924246, 0.23869098, 0.29504085, 0.13976331,\n",
       "         0.11912772, 0.06968641],\n",
       "        [0.60041435, 0.65354145, 0.44907347, 0.30329024, 0.17436845,\n",
       "         0.18703925, 0.12544567],\n",
       "        [0.76365598, 0.83646151, 0.66470454, 0.4299891 , 0.32300173,\n",
       "         0.34599773, 0.27259432]],\n",
       "\n",
       "       [[       nan,        nan,        nan,        nan,        nan,\n",
       "                nan,        nan],\n",
       "        [       nan,        nan,        nan,        nan,        nan,\n",
       "                nan,        nan],\n",
       "        [       nan,        nan,        nan,        nan,        nan,\n",
       "                nan,        nan],\n",
       "        [       nan,        nan,        nan,        nan,        nan,\n",
       "                nan,        nan],\n",
       "        [0.55334615, 0.6065321 , 0.36751572, 0.35422924, 0.1912071 ,\n",
       "         0.20921943, 0.12601626],\n",
       "        [0.6125776 , 0.71900135, 0.48569201, 0.29700705, 0.18591993,\n",
       "         0.20022792, 0.14083671],\n",
       "        [       nan,        nan,        nan,        nan,        nan,\n",
       "                nan,        nan]]])"
      ]
     },
     "execution_count": 363,
     "metadata": {},
     "output_type": "execute_result"
    }
   ],
   "source": []
  },
  {
   "cell_type": "code",
   "execution_count": 347,
   "metadata": {},
   "outputs": [
    {
     "ename": "NameError",
     "evalue": "name 'nan' is not defined",
     "output_type": "error",
     "traceback": [
      "\u001b[1;31m---------------------------------------------------------------------------\u001b[0m",
      "\u001b[1;31mNameError\u001b[0m                                 Traceback (most recent call last)",
      "\u001b[1;32m<ipython-input-347-27bbeb81fdc9>\u001b[0m in \u001b[0;36m<module>\u001b[1;34m\u001b[0m\n\u001b[0;32m      1\u001b[0m \u001b[1;32mfor\u001b[0m \u001b[0mi\u001b[0m\u001b[1;33m,\u001b[0m\u001b[0ms\u001b[0m \u001b[1;32min\u001b[0m \u001b[0menumerate\u001b[0m\u001b[1;33m(\u001b[0m\u001b[0mscatters\u001b[0m\u001b[1;33m)\u001b[0m\u001b[1;33m:\u001b[0m\u001b[1;33m\u001b[0m\u001b[1;33m\u001b[0m\u001b[0m\n\u001b[1;32m----> 2\u001b[1;33m     \u001b[1;32mif\u001b[0m \u001b[0ms\u001b[0m\u001b[1;33m==\u001b[0m\u001b[0mnan\u001b[0m\u001b[1;33m:\u001b[0m\u001b[1;33m\u001b[0m\u001b[1;33m\u001b[0m\u001b[0m\n\u001b[0m\u001b[0;32m      3\u001b[0m         \u001b[0mprint\u001b[0m\u001b[1;33m(\u001b[0m\u001b[0mi\u001b[0m\u001b[1;33m)\u001b[0m\u001b[1;33m\u001b[0m\u001b[1;33m\u001b[0m\u001b[0m\n",
      "\u001b[1;31mNameError\u001b[0m: name 'nan' is not defined"
     ]
    }
   ],
   "source": [
    "for i,s in enumerate(scatters):\n",
    "    if s==nan:\n",
    "        print(i)"
   ]
  }
 ],
 "metadata": {
  "kernelspec": {
   "display_name": "Python 3",
   "language": "python",
   "name": "python3"
  },
  "language_info": {
   "codemirror_mode": {
    "name": "ipython",
    "version": 3
   },
   "file_extension": ".py",
   "mimetype": "text/x-python",
   "name": "python",
   "nbconvert_exporter": "python",
   "pygments_lexer": "ipython3",
   "version": "3.7.5"
  },
  "toc": {
   "base_numbering": 1,
   "nav_menu": {},
   "number_sections": true,
   "sideBar": true,
   "skip_h1_title": false,
   "title_cell": "Table of Contents",
   "title_sidebar": "Contents",
   "toc_cell": false,
   "toc_position": {},
   "toc_section_display": true,
   "toc_window_display": true
  }
 },
 "nbformat": 4,
 "nbformat_minor": 4
}
