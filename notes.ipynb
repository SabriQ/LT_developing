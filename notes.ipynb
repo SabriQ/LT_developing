{
 "cells": [
  {
   "cell_type": "markdown",
   "metadata": {},
   "source": [
    "# $$\\sum\\lambda_ilog_2\\frac{\\lambda_i}{\\lambda}p_i $$ \n",
    " \n",
    "\n",
    "# $$ CSI = \\frac{fr_A-fr_B}{fr_A+fr_B}$$\n",
    "\n",
    "# $$ RDSI = \\frac{fr_{left}-fr_{right}}{fr_{left}+fr_{right}}$$"
   ]
  },
  {
   "cell_type": "markdown",
   "metadata": {},
   "source": [
    "CTXC /RDC / PC 按照这种分类\n",
    "现在的分类是将所有context中的属于的都放进去了\n",
    "将仅 一直保持的细胞才作为对应的 细胞呢"
   ]
  }
 ],
 "metadata": {
  "kernelspec": {
   "display_name": "Python 3",
   "language": "python",
   "name": "python3"
  },
  "language_info": {
   "codemirror_mode": {
    "name": "ipython",
    "version": 3
   },
   "file_extension": ".py",
   "mimetype": "text/x-python",
   "name": "python",
   "nbconvert_exporter": "python",
   "pygments_lexer": "ipython3",
   "version": "3.8.3"
  },
  "toc": {
   "base_numbering": 1,
   "nav_menu": {},
   "number_sections": true,
   "sideBar": true,
   "skip_h1_title": false,
   "title_cell": "Table of Contents",
   "title_sidebar": "Contents",
   "toc_cell": false,
   "toc_position": {},
   "toc_section_display": true,
   "toc_window_display": false
  }
 },
 "nbformat": 4,
 "nbformat_minor": 4
}
