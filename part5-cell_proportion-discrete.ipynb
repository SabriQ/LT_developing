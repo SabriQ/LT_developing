{
 "cells": [
  {
   "cell_type": "code",
   "execution_count": 1,
   "metadata": {},
   "outputs": [],
   "source": [
    "import glob,sys,os,re\n",
    "import numpy as np\n",
    "import pandas as pd\n",
    "from mylab.Functions import *\n",
    "from core.context_exposure import *\n",
    "import matplotlib.pyplot as plt\n",
    "from matplotlib_venn import venn3,venn2"
   ]
  },
  {
   "cell_type": "code",
   "execution_count": 2,
   "metadata": {
    "scrolled": true
   },
   "outputs": [
    {
     "data": {
      "text/plain": [
       "['\\\\\\\\10.10.47.163\\\\Data_archive\\\\qiushou\\\\results\\\\celltypes\\\\celltype_2020061_part5_day20200810_aim_test.pkl',\n",
       " '\\\\\\\\10.10.47.163\\\\Data_archive\\\\qiushou\\\\results\\\\celltypes\\\\celltype_2020061_part5_day20200811_aim_train.pkl',\n",
       " '\\\\\\\\10.10.47.163\\\\Data_archive\\\\qiushou\\\\results\\\\celltypes\\\\celltype_2020061_part5_day20200812_aim_train.pkl',\n",
       " '\\\\\\\\10.10.47.163\\\\Data_archive\\\\qiushou\\\\results\\\\celltypes\\\\celltype_2020061_part5_day20200814_aim_train.pkl',\n",
       " '\\\\\\\\10.10.47.163\\\\Data_archive\\\\qiushou\\\\results\\\\celltypes\\\\celltype_2020061_part5_day20200816_aim_test.pkl',\n",
       " '\\\\\\\\10.10.47.163\\\\Data_archive\\\\qiushou\\\\results\\\\celltypes\\\\celltype_2020061_part5_day20200818_aim_test.pkl',\n",
       " '\\\\\\\\10.10.47.163\\\\Data_archive\\\\qiushou\\\\results\\\\celltypes\\\\celltype_2020061_part5_day20200819_aim_test.pkl',\n",
       " '\\\\\\\\10.10.47.163\\\\Data_archive\\\\qiushou\\\\results\\\\celltypes\\\\celltype_2020061_part5_day20200820_aim_test.pkl',\n",
       " '\\\\\\\\10.10.47.163\\\\Data_archive\\\\qiushou\\\\results\\\\celltypes\\\\celltype_2020061_part5_day20200821_aim_test.pkl',\n",
       " '\\\\\\\\10.10.47.163\\\\Data_archive\\\\qiushou\\\\results\\\\celltypes\\\\celltype_2020061_part5_day20200823_aim_test.pkl',\n",
       " '\\\\\\\\10.10.47.163\\\\Data_archive\\\\qiushou\\\\results\\\\celltypes\\\\celltype_2020061_part5_day20200824_aim_test.pkl',\n",
       " '\\\\\\\\10.10.47.163\\\\Data_archive\\\\qiushou\\\\results\\\\celltypes\\\\celltype_2020061_part5_day20200825_aim_test.pkl',\n",
       " '\\\\\\\\10.10.47.163\\\\Data_archive\\\\qiushou\\\\results\\\\celltypes\\\\celltype_2020061_part5_day20200826_aim_test.pkl',\n",
       " '\\\\\\\\10.10.47.163\\\\Data_archive\\\\qiushou\\\\results\\\\celltypes\\\\celltype_2020061_part5_day20200828_aim_test.pkl',\n",
       " '\\\\\\\\10.10.47.163\\\\Data_archive\\\\qiushou\\\\results\\\\celltypes\\\\celltype_206534_part5_day20200810_aim_test.pkl',\n",
       " '\\\\\\\\10.10.47.163\\\\Data_archive\\\\qiushou\\\\results\\\\celltypes\\\\celltype_206534_part5_day20200812_aim_train.pkl',\n",
       " '\\\\\\\\10.10.47.163\\\\Data_archive\\\\qiushou\\\\results\\\\celltypes\\\\celltype_206534_part5_day20200814_aim_train.pkl',\n",
       " '\\\\\\\\10.10.47.163\\\\Data_archive\\\\qiushou\\\\results\\\\celltypes\\\\celltype_206534_part5_day20200818_aim_train.pkl',\n",
       " '\\\\\\\\10.10.47.163\\\\Data_archive\\\\qiushou\\\\results\\\\celltypes\\\\celltype_206534_part5_day20200821_aim_test.pkl',\n",
       " '\\\\\\\\10.10.47.163\\\\Data_archive\\\\qiushou\\\\results\\\\celltypes\\\\celltype_206534_part5_day20200824_aim_test.pkl',\n",
       " '\\\\\\\\10.10.47.163\\\\Data_archive\\\\qiushou\\\\results\\\\celltypes\\\\celltype_206548_part5_day20200810_aim_test.pkl',\n",
       " '\\\\\\\\10.10.47.163\\\\Data_archive\\\\qiushou\\\\results\\\\celltypes\\\\celltype_206548_part5_day20200811_aim_train.pkl',\n",
       " '\\\\\\\\10.10.47.163\\\\Data_archive\\\\qiushou\\\\results\\\\celltypes\\\\celltype_206548_part5_day20200812_aim_train.pkl',\n",
       " '\\\\\\\\10.10.47.163\\\\Data_archive\\\\qiushou\\\\results\\\\celltypes\\\\celltype_206548_part5_day20200814_aim_train.pkl',\n",
       " '\\\\\\\\10.10.47.163\\\\Data_archive\\\\qiushou\\\\results\\\\celltypes\\\\celltype_206548_part5_day20200816_aim_test.pkl',\n",
       " '\\\\\\\\10.10.47.163\\\\Data_archive\\\\qiushou\\\\results\\\\celltypes\\\\celltype_206548_part5_day20200818_aim_test.pkl',\n",
       " '\\\\\\\\10.10.47.163\\\\Data_archive\\\\qiushou\\\\results\\\\celltypes\\\\celltype_206548_part5_day20200819_aim_test.pkl',\n",
       " '\\\\\\\\10.10.47.163\\\\Data_archive\\\\qiushou\\\\results\\\\celltypes\\\\celltype_206548_part5_day20200821_aim_test.pkl',\n",
       " '\\\\\\\\10.10.47.163\\\\Data_archive\\\\qiushou\\\\results\\\\celltypes\\\\celltype_206548_part5_day20200823_aim_test.pkl',\n",
       " '\\\\\\\\10.10.47.163\\\\Data_archive\\\\qiushou\\\\results\\\\celltypes\\\\celltype_206548_part5_day20200824_aim_test.pkl',\n",
       " '\\\\\\\\10.10.47.163\\\\Data_archive\\\\qiushou\\\\results\\\\celltypes\\\\celltype_206548_part5_day20200825_aim_test.pkl',\n",
       " '\\\\\\\\10.10.47.163\\\\Data_archive\\\\qiushou\\\\results\\\\celltypes\\\\celltype_206548_part5_day20200826_aim_test.pkl',\n",
       " '\\\\\\\\10.10.47.163\\\\Data_archive\\\\qiushou\\\\results\\\\celltypes\\\\celltype_206548_part5_day20200828_aim_test.pkl',\n",
       " '\\\\\\\\10.10.47.163\\\\Data_archive\\\\qiushou\\\\results\\\\celltypes\\\\celltype_206550_part5_day20200810_aim_test.pkl',\n",
       " '\\\\\\\\10.10.47.163\\\\Data_archive\\\\qiushou\\\\results\\\\celltypes\\\\celltype_206550_part5_day20200811_aim_train.pkl',\n",
       " '\\\\\\\\10.10.47.163\\\\Data_archive\\\\qiushou\\\\results\\\\celltypes\\\\celltype_206550_part5_day20200812_aim_train.pkl',\n",
       " '\\\\\\\\10.10.47.163\\\\Data_archive\\\\qiushou\\\\results\\\\celltypes\\\\celltype_206550_part5_day20200813_aim_train.pkl',\n",
       " '\\\\\\\\10.10.47.163\\\\Data_archive\\\\qiushou\\\\results\\\\celltypes\\\\celltype_206550_part5_day20200816_aim_test.pkl',\n",
       " '\\\\\\\\10.10.47.163\\\\Data_archive\\\\qiushou\\\\results\\\\celltypes\\\\celltype_206550_part5_day20200819_aim_test.pkl',\n",
       " '\\\\\\\\10.10.47.163\\\\Data_archive\\\\qiushou\\\\results\\\\celltypes\\\\celltype_206550_part5_day20200820_aim_test.pkl',\n",
       " '\\\\\\\\10.10.47.163\\\\Data_archive\\\\qiushou\\\\results\\\\celltypes\\\\celltype_206550_part5_day20200821_aim_test.pkl',\n",
       " '\\\\\\\\10.10.47.163\\\\Data_archive\\\\qiushou\\\\results\\\\celltypes\\\\celltype_206550_part5_day20200823_aim_test.pkl',\n",
       " '\\\\\\\\10.10.47.163\\\\Data_archive\\\\qiushou\\\\results\\\\celltypes\\\\celltype_206550_part5_day20200824_aim_test.pkl',\n",
       " '\\\\\\\\10.10.47.163\\\\Data_archive\\\\qiushou\\\\results\\\\celltypes\\\\celltype_206550_part5_day20200825_aim_test.pkl',\n",
       " '\\\\\\\\10.10.47.163\\\\Data_archive\\\\qiushou\\\\results\\\\celltypes\\\\celltype_206550_part5_day20200826_aim_test.pkl',\n",
       " '\\\\\\\\10.10.47.163\\\\Data_archive\\\\qiushou\\\\results\\\\celltypes\\\\celltype_206550_part5_day20200828_aim_test.pkl',\n",
       " '\\\\\\\\10.10.47.163\\\\Data_archive\\\\qiushou\\\\results\\\\celltypes\\\\celltype_206551_part5_day20200810_aim_test.pkl',\n",
       " '\\\\\\\\10.10.47.163\\\\Data_archive\\\\qiushou\\\\results\\\\celltypes\\\\celltype_206551_part5_day20200812_aim_train.pkl',\n",
       " '\\\\\\\\10.10.47.163\\\\Data_archive\\\\qiushou\\\\results\\\\celltypes\\\\celltype_206551_part5_day20200814_aim_test.pkl',\n",
       " '\\\\\\\\10.10.47.163\\\\Data_archive\\\\qiushou\\\\results\\\\celltypes\\\\celltype_206551_part5_day20200818_aim_train.pkl',\n",
       " '\\\\\\\\10.10.47.163\\\\Data_archive\\\\qiushou\\\\results\\\\celltypes\\\\celltype_206551_part5_day20200821_aim_test.pkl',\n",
       " '\\\\\\\\10.10.47.163\\\\Data_archive\\\\qiushou\\\\results\\\\celltypes\\\\celltype_206551_part5_day20200824_aim_test.pkl',\n",
       " '\\\\\\\\10.10.47.163\\\\Data_archive\\\\qiushou\\\\results\\\\celltypes\\\\celltype_206551_part5_day20200825_aim_test.pkl',\n",
       " '\\\\\\\\10.10.47.163\\\\Data_archive\\\\qiushou\\\\results\\\\celltypes\\\\celltype_206551_part5_day20200831_aim_test.pkl',\n",
       " '\\\\\\\\10.10.47.163\\\\Data_archive\\\\qiushou\\\\results\\\\celltypes\\\\celltype_206551_part6_day20200901_aim_test.pkl',\n",
       " '\\\\\\\\10.10.47.163\\\\Data_archive\\\\qiushou\\\\results\\\\celltypes\\\\celltype_206551_part6_day20200902_aim_test.pkl',\n",
       " '\\\\\\\\10.10.47.163\\\\Data_archive\\\\qiushou\\\\results\\\\celltypes\\\\celltype_206551_part6_day20200904_aim_test.pkl',\n",
       " '\\\\\\\\10.10.47.163\\\\Data_archive\\\\qiushou\\\\results\\\\celltypes\\\\celltype_206551_part6_day20200905_aim_test.pkl',\n",
       " '\\\\\\\\10.10.47.163\\\\Data_archive\\\\qiushou\\\\results\\\\celltypes\\\\celltype_206551_part6_day20200906_aim_test.pkl',\n",
       " '\\\\\\\\10.10.47.163\\\\Data_archive\\\\qiushou\\\\results\\\\celltypes\\\\celltype_206551_part6_day20200908_aim_test.pkl',\n",
       " '\\\\\\\\10.10.47.163\\\\Data_archive\\\\qiushou\\\\results\\\\celltypes\\\\celltype_206552_part5_day20200810_aim_test.pkl',\n",
       " '\\\\\\\\10.10.47.163\\\\Data_archive\\\\qiushou\\\\results\\\\celltypes\\\\celltype_206552_part5_day20200811_aim_train.pkl',\n",
       " '\\\\\\\\10.10.47.163\\\\Data_archive\\\\qiushou\\\\results\\\\celltypes\\\\celltype_206552_part5_day20200812_aim_train.pkl',\n",
       " '\\\\\\\\10.10.47.163\\\\Data_archive\\\\qiushou\\\\results\\\\celltypes\\\\celltype_206552_part5_day20200814_aim_train.pkl',\n",
       " '\\\\\\\\10.10.47.163\\\\Data_archive\\\\qiushou\\\\results\\\\celltypes\\\\celltype_206552_part5_day20200816_aim_train.pkl',\n",
       " '\\\\\\\\10.10.47.163\\\\Data_archive\\\\qiushou\\\\results\\\\celltypes\\\\celltype_206552_part5_day20200818_aim_test.pkl',\n",
       " '\\\\\\\\10.10.47.163\\\\Data_archive\\\\qiushou\\\\results\\\\celltypes\\\\celltype_206552_part5_day20200819_aim_test.pkl',\n",
       " '\\\\\\\\10.10.47.163\\\\Data_archive\\\\qiushou\\\\results\\\\celltypes\\\\celltype_206552_part5_day20200820_aim_test.pkl',\n",
       " '\\\\\\\\10.10.47.163\\\\Data_archive\\\\qiushou\\\\results\\\\celltypes\\\\celltype_206552_part5_day20200821_aim_test.pkl',\n",
       " '\\\\\\\\10.10.47.163\\\\Data_archive\\\\qiushou\\\\results\\\\celltypes\\\\celltype_206552_part5_day20200823_aim_test.pkl',\n",
       " '\\\\\\\\10.10.47.163\\\\Data_archive\\\\qiushou\\\\results\\\\celltypes\\\\celltype_206552_part5_day20200824_aim_test.pkl',\n",
       " '\\\\\\\\10.10.47.163\\\\Data_archive\\\\qiushou\\\\results\\\\celltypes\\\\celltype_206552_part5_day20200825_aim_test.pkl',\n",
       " '\\\\\\\\10.10.47.163\\\\Data_archive\\\\qiushou\\\\results\\\\celltypes\\\\celltype_206552_part5_day20200826_aim_test.pkl',\n",
       " '\\\\\\\\10.10.47.163\\\\Data_archive\\\\qiushou\\\\results\\\\celltypes\\\\celltype_206552_part5_day20200828_aim_test.pkl',\n",
       " '\\\\\\\\10.10.47.163\\\\Data_archive\\\\qiushou\\\\results\\\\celltypes\\\\celltype_206552_part5_day20200831_aim_test.pkl',\n",
       " '\\\\\\\\10.10.47.163\\\\Data_archive\\\\qiushou\\\\results\\\\celltypes\\\\celltype_206552_part6_day20200901_aim_test.pkl',\n",
       " '\\\\\\\\10.10.47.163\\\\Data_archive\\\\qiushou\\\\results\\\\celltypes\\\\celltype_206552_part6_day20200902_aim_test.pkl',\n",
       " '\\\\\\\\10.10.47.163\\\\Data_archive\\\\qiushou\\\\results\\\\celltypes\\\\celltype_206552_part6_day20200904_aim_test.pkl',\n",
       " '\\\\\\\\10.10.47.163\\\\Data_archive\\\\qiushou\\\\results\\\\celltypes\\\\celltype_206552_part6_day20200905_aim_test.pkl',\n",
       " '\\\\\\\\10.10.47.163\\\\Data_archive\\\\qiushou\\\\results\\\\celltypes\\\\celltype_206552_part6_day20200906_aim_test.pkl',\n",
       " '\\\\\\\\10.10.47.163\\\\Data_archive\\\\qiushou\\\\results\\\\celltypes\\\\celltype_206552_part6_day20200908_aim_test.pkl',\n",
       " '\\\\\\\\10.10.47.163\\\\Data_archive\\\\qiushou\\\\results\\\\celltypes\\\\celltype_206553_part5_day20200812_aim_train.pkl',\n",
       " '\\\\\\\\10.10.47.163\\\\Data_archive\\\\qiushou\\\\results\\\\celltypes\\\\celltype_206553_part5_day20200814_aim_test.pkl',\n",
       " '\\\\\\\\10.10.47.163\\\\Data_archive\\\\qiushou\\\\results\\\\celltypes\\\\celltype_206553_part5_day20200816_aim_test.pkl',\n",
       " '\\\\\\\\10.10.47.163\\\\Data_archive\\\\qiushou\\\\results\\\\celltypes\\\\celltype_206553_part5_day20200818_aim_test.pkl',\n",
       " '\\\\\\\\10.10.47.163\\\\Data_archive\\\\qiushou\\\\results\\\\celltypes\\\\celltype_206553_part5_day20200819_aim_test.pkl',\n",
       " '\\\\\\\\10.10.47.163\\\\Data_archive\\\\qiushou\\\\results\\\\celltypes\\\\celltype_206553_part5_day20200820_aim_test.pkl',\n",
       " '\\\\\\\\10.10.47.163\\\\Data_archive\\\\qiushou\\\\results\\\\celltypes\\\\celltype_206553_part5_day20200823_aim_test.pkl',\n",
       " '\\\\\\\\10.10.47.163\\\\Data_archive\\\\qiushou\\\\results\\\\celltypes\\\\celltype_206553_part5_day20200824_aim_test.pkl',\n",
       " '\\\\\\\\10.10.47.163\\\\Data_archive\\\\qiushou\\\\results\\\\celltypes\\\\celltype_206553_part5_day20200825_aim_test.pkl',\n",
       " '\\\\\\\\10.10.47.163\\\\Data_archive\\\\qiushou\\\\results\\\\celltypes\\\\celltype_206553_part5_day20200826_aim_test.pkl',\n",
       " '\\\\\\\\10.10.47.163\\\\Data_archive\\\\qiushou\\\\results\\\\celltypes\\\\celltype_206553_part5_day20200828_aim_test.pkl',\n",
       " '\\\\\\\\10.10.47.163\\\\Data_archive\\\\qiushou\\\\results\\\\celltypes\\\\celltype_206553_part5_day20200831_aim_test.pkl',\n",
       " '\\\\\\\\10.10.47.163\\\\Data_archive\\\\qiushou\\\\results\\\\celltypes\\\\celltype_206553_part6_day20200901_aim_test.pkl',\n",
       " '\\\\\\\\10.10.47.163\\\\Data_archive\\\\qiushou\\\\results\\\\celltypes\\\\celltype_206553_part6_day20200902_aim_test.pkl',\n",
       " '\\\\\\\\10.10.47.163\\\\Data_archive\\\\qiushou\\\\results\\\\celltypes\\\\celltype_206553_part6_day20200904_aim_test.pkl',\n",
       " '\\\\\\\\10.10.47.163\\\\Data_archive\\\\qiushou\\\\results\\\\celltypes\\\\celltype_206553_part6_day20200905_aim_test.pkl',\n",
       " '\\\\\\\\10.10.47.163\\\\Data_archive\\\\qiushou\\\\results\\\\celltypes\\\\celltype_206553_part6_day20200906_aim_test.pkl',\n",
       " '\\\\\\\\10.10.47.163\\\\Data_archive\\\\qiushou\\\\results\\\\celltypes\\\\celltype_206553_part6_day20200908_aim_test.pkl',\n",
       " '\\\\\\\\10.10.47.163\\\\Data_archive\\\\qiushou\\\\results\\\\celltypes\\\\celltype_206553_part6_day20200909_aim_test.pkl']"
      ]
     },
     "execution_count": 2,
     "metadata": {},
     "output_type": "execute_result"
    }
   ],
   "source": [
    "celltypes = index_celltypes()\n",
    "celltypes = [i for i in celltypes if \"aim_test\"  in i or \"aim_train\" in i ]\n",
    "celltypes = [i for i in celltypes if \"20103\" not in i]\n",
    "# celltypes_2020061 = [i for i in celltypes if \"20200805\" in i or \"20200806\" in i or \"20200807\" in i];\n",
    "celltypes"
   ]
  },
  {
   "cell_type": "code",
   "execution_count": 39,
   "metadata": {},
   "outputs": [],
   "source": [
    "# mouseids = [\"206550\",\"206551\",\"206552\",\"206553\"]\n",
    "mouseids = [\"2020061\",\"206534\",\"206548\",\"206550\",\"206551\",\"206552\",\"206553\"]"
   ]
  },
  {
   "cell_type": "markdown",
   "metadata": {},
   "source": [
    "## index celltype files and categorize\n",
    "### according to aim,Total_Accuracy,Trial_Num"
   ]
  },
  {
   "cell_type": "markdown",
   "metadata": {},
   "source": [
    "#### Celltypes continuous"
   ]
  },
  {
   "cell_type": "code",
   "execution_count": 40,
   "metadata": {},
   "outputs": [],
   "source": [
    "def func(celltypefile):\n",
    "    stat_info = load_pkl(celltypefile)[\"stat_info\"]\n",
    "    return stat_info[\"Total_Accuracy\"],stat_info[\"aim\"],stat_info['Trial_Num']\n",
    "\n",
    "\n",
    "\n",
    "Celltypes = {}\n",
    "for mouseid in mouseids:\n",
    "    celltypefiles = [i for i in celltypes if mouseid in i]\n",
    "    Celltypes[mouseid]={}\n",
    "    Celltypes[mouseid][\"train\"]=[]\n",
    "    Celltypes[mouseid][\"40\"]=[]\n",
    "    Celltypes[mouseid][\"60\"]=[]\n",
    "    Celltypes[mouseid][\"50-60\"]=[]\n",
    "    Celltypes[mouseid][\"60-70\"]=[]\n",
    "    Celltypes[mouseid][\"70-80\"]=[]\n",
    "    Celltypes[mouseid][\"80\"] = []\n",
    "    for celltypefile in celltypefiles:\n",
    "        TA,aim,TN = func(celltypefile)\n",
    "        if TN>30:        \n",
    "            if aim==\"test\":            \n",
    "                if TA>=0.4 and TA<0.6:\n",
    "                    Celltypes[mouseid][\"60\"].append(celltypefile)\n",
    "                elif TA <0.4:\n",
    "                    Celltypes[mouseid][\"40\"].append(celltypefile)\n",
    "                elif TA<0.7 and TA>=0.6:\n",
    "                    Celltypes[mouseid][\"60-70\"].append(celltypefile)\n",
    "                elif TA<0.8 and TA>=0.7:\n",
    "                    Celltypes[mouseid][\"70-80\"].append(celltypefile)\n",
    "                else:\n",
    "                    Celltypes[mouseid][\"80\"].append(celltypefile)\n",
    "            else:\n",
    "                Celltypes[mouseid][\"train\"].append(celltypefile)"
   ]
  },
  {
   "cell_type": "markdown",
   "metadata": {},
   "source": []
  },
  {
   "cell_type": "markdown",
   "metadata": {},
   "source": [
    "#### Celltypes_discrete"
   ]
  },
  {
   "cell_type": "code",
   "execution_count": 396,
   "metadata": {},
   "outputs": [],
   "source": [
    "Celltypes_discrete = {}\n",
    "for mouseid in mouseids:\n",
    "    celltypefiles = [i for i in celltypes if mouseid in i]\n",
    "    Celltypes_discrete[mouseid]={}\n",
    "    Celltypes_discrete[mouseid][\"Training\"]=[]\n",
    "    Celltypes_discrete[mouseid][\"WellTrain\"]=[]\n",
    "    Celltypes_discrete[mouseid][\"others\"]=[]\n",
    "    for celltypefile in celltypefiles:\n",
    "        TA,aim,TN = func(celltypefile)\n",
    "        if TN>30:                    \n",
    "            if TA>=0.4 and TA<0.6:\n",
    "                Celltypes_discrete[mouseid][\"Training\"].append(celltypefile)\n",
    "            elif TA>=0.6:\n",
    "                Celltypes_discrete[mouseid][\"WellTrain\"].append(celltypefile)\n",
    "            else:\n",
    "                Celltypes_discrete[mouseid][\"others\"].append(celltypefile)\n"
   ]
  },
  {
   "cell_type": "markdown",
   "metadata": {},
   "source": [
    "## calculate the mean cell prop.\n",
    "### for each mice, there are fixed several stage\n",
    "if some mice have no data in some stage, we use np.nan\n",
    "if in one stage, one mouse get several sessions, we get the average"
   ]
  },
  {
   "cell_type": "markdown",
   "metadata": {},
   "source": [
    "#### Celltypes_prop continuous"
   ]
  },
  {
   "cell_type": "code",
   "execution_count": 41,
   "metadata": {
    "scrolled": true
   },
   "outputs": [
    {
     "name": "stdout",
     "output_type": "stream",
     "text": [
      "train\n",
      "rdcells: try body_speed> 3cm/s\n",
      "rdcells: try body_speed> 3cm/s\n",
      "rdcells: try body_speed> 3cm/s\n",
      "40\n",
      "rdcells: try body_speed> 3cm/s\n",
      "60\n",
      "rdcells: try body_speed> 3cm/s\n",
      "rdcells: try body_speed> 3cm/s\n",
      "rdcells: try body_speed> 3cm/s\n",
      "rdcells: try body_speed> 3cm/s\n",
      "rdcells: try body_speed> 3cm/s\n",
      "rdcells: try body_speed> 3cm/s\n",
      "rdcells: try body_speed> 3cm/s\n",
      "rdcells: try body_speed> 3cm/s\n",
      "rdcells: try body_speed> 3cm/s\n",
      "rdcells: try body_speed> 3cm/s\n",
      "50-60\n",
      "60-70\n",
      "70-80\n",
      "80\n",
      "train\n",
      "rdcells: try body_speed> 3cm/s\n",
      "rdcells: try body_speed> 3cm/s\n",
      "rdcells: try body_speed> 3cm/s\n",
      "40\n",
      "60\n",
      "rdcells: try body_speed> 3cm/s\n",
      "rdcells: try body_speed> 3cm/s\n",
      "rdcells: try body_speed> 3cm/s\n",
      "50-60\n",
      "60-70\n",
      "70-80\n",
      "80\n",
      "train\n",
      "rdcells: try body_speed> 3cm/s\n",
      "rdcells: try body_speed> 3cm/s\n",
      "rdcells: try body_speed> 3cm/s\n",
      "40\n",
      "60\n",
      "rdcells: try body_speed> 3cm/s\n",
      "rdcells: try body_speed> 3cm/s\n",
      "rdcells: try body_speed> 3cm/s\n",
      "rdcells: try body_speed> 3cm/s\n",
      "rdcells: try body_speed> 3cm/s\n",
      "rdcells: try body_speed> 3cm/s\n",
      "rdcells: try body_speed> 3cm/s\n",
      "rdcells: try body_speed> 3cm/s\n",
      "rdcells: try body_speed> 3cm/s\n",
      "rdcells: try body_speed> 3cm/s\n",
      "50-60\n",
      "60-70\n",
      "70-80\n",
      "80\n",
      "train\n",
      "rdcells: try body_speed> 3cm/s\n",
      "rdcells: try body_speed> 3cm/s\n",
      "rdcells: try body_speed> 3cm/s\n",
      "40\n",
      "rdcells: try body_speed> 3cm/s\n",
      "60\n",
      "rdcells: try body_speed> 3cm/s\n",
      "rdcells: try body_speed> 3cm/s\n",
      "rdcells: try body_speed> 3cm/s\n",
      "rdcells: try body_speed> 3cm/s\n",
      "rdcells: try body_speed> 3cm/s\n",
      "rdcells: try body_speed> 3cm/s\n",
      "rdcells: try body_speed> 3cm/s\n",
      "rdcells: try body_speed> 3cm/s\n",
      "50-60\n",
      "60-70\n",
      "rdcells: try body_speed> 3cm/s\n",
      "70-80\n",
      "80\n",
      "train\n",
      "rdcells: try body_speed> 3cm/s\n",
      "rdcells: try body_speed> 3cm/s\n",
      "40\n",
      "60\n",
      "rdcells: try body_speed> 3cm/s\n",
      "rdcells: try body_speed> 3cm/s\n",
      "50-60\n",
      "60-70\n",
      "70-80\n",
      "rdcells: try body_speed> 3cm/s\n",
      "rdcells: try body_speed> 3cm/s\n",
      "rdcells: try body_speed> 3cm/s\n",
      "rdcells: try body_speed> 3cm/s\n",
      "80\n",
      "rdcells: try body_speed> 3cm/s\n",
      "rdcells: try body_speed> 3cm/s\n",
      "rdcells: try body_speed> 3cm/s\n",
      "rdcells: try body_speed> 3cm/s\n",
      "rdcells: try body_speed> 3cm/s\n",
      "rdcells: try body_speed> 3cm/s\n",
      "train\n",
      "rdcells: try body_speed> 3cm/s\n",
      "rdcells: try body_speed> 3cm/s\n",
      "rdcells: try body_speed> 3cm/s\n",
      "rdcells: try body_speed> 3cm/s\n",
      "40\n",
      "60\n",
      "rdcells: try body_speed> 3cm/s\n",
      "rdcells: try body_speed> 3cm/s\n",
      "rdcells: try body_speed> 3cm/s\n",
      "rdcells: try body_speed> 3cm/s\n",
      "rdcells: try body_speed> 3cm/s\n",
      "50-60\n",
      "60-70\n",
      "rdcells: try body_speed> 3cm/s\n",
      "70-80\n",
      "rdcells: try body_speed> 3cm/s\n",
      "rdcells: try body_speed> 3cm/s\n",
      "rdcells: try body_speed> 3cm/s\n",
      "rdcells: try body_speed> 3cm/s\n",
      "rdcells: try body_speed> 3cm/s\n",
      "rdcells: try body_speed> 3cm/s\n",
      "rdcells: try body_speed> 3cm/s\n",
      "rdcells: try body_speed> 3cm/s\n",
      "80\n",
      "rdcells: try body_speed> 3cm/s\n",
      "rdcells: try body_speed> 3cm/s\n",
      "rdcells: try body_speed> 3cm/s\n",
      "train\n",
      "rdcells: try body_speed> 3cm/s\n",
      "40\n",
      "60\n",
      "rdcells: try body_speed> 3cm/s\n",
      "rdcells: try body_speed> 3cm/s\n",
      "rdcells: try body_speed> 3cm/s\n",
      "rdcells: try body_speed> 3cm/s\n",
      "rdcells: try body_speed> 3cm/s\n",
      "rdcells: try body_speed> 3cm/s\n",
      "rdcells: try body_speed> 3cm/s\n",
      "rdcells: try body_speed> 3cm/s\n",
      "rdcells: try body_speed> 3cm/s\n",
      "rdcells: try body_speed> 3cm/s\n",
      "50-60\n",
      "60-70\n",
      "rdcells: try body_speed> 3cm/s\n",
      "rdcells: try body_speed> 3cm/s\n",
      "70-80\n",
      "rdcells: try body_speed> 3cm/s\n",
      "rdcells: try body_speed> 3cm/s\n",
      "rdcells: try body_speed> 3cm/s\n",
      "rdcells: try body_speed> 3cm/s\n",
      "rdcells: try body_speed> 3cm/s\n",
      "rdcells: try body_speed> 3cm/s\n",
      "80\n"
     ]
    }
   ],
   "source": [
    "Celltypes_prop = {}\n",
    "for mouseid in Celltypes.keys():\n",
    "    Celltypes_prop[mouseid]={}\n",
    "    for stage in Celltypes[mouseid].keys():\n",
    "        print(stage)\n",
    "        Celltypes_prop[mouseid][stage]=[]\n",
    "        if len(Celltypes[mouseid][stage])>0:\n",
    "            celltype_files = Celltypes[mouseid][stage]\n",
    "            wenn_lists=[]\n",
    "            for celltype_file in celltype_files:\n",
    "                contextcell_ids=[]\n",
    "                rdcell_ids=[]\n",
    "                pccell_ids=[]\n",
    "                \n",
    "                contextcell_id, rdcell_id,pccell_id,total_cell_num = specific_ids(celltype_file,contexts=[0,1])\n",
    "                \n",
    "                contextcell_ids=contextcell_ids+contextcell_id[\"ctx0cells\"]+contextcell_id[\"ctx1cells\"]\n",
    "                rdcell_ids = rdcell_ids + rdcell_id[\"context0_leftcells\"]+ rdcell_id[\"context0_rightcells\"]+ rdcell_id[\"context1_leftcells\"]+ rdcell_id[\"context1_rightcells\"]\n",
    "                pccell_ids = pccell_ids + pccell_id[\"context0_pccells\"] + pccell_id[\"context1_pccells\"]\n",
    "                \n",
    "                ctx_cellids = list(set(spread(contextcell_ids)))\n",
    "                rd_cellids = list(set(spread(rdcell_ids)))\n",
    "                ctx_rd_cellids = [i for i in ctx_cellids if i in rd_cellids]                \n",
    "                pc_cellids = list(set(spread(pccell_ids)))                \n",
    "                ctx_pc_cellids = [i for i in ctx_cellids if i in pc_cellids]\n",
    "                rd_pc_cellids = [i for i in rd_cellids if i in pc_cellids]\n",
    "                ctx_rd_pc_cellids = [i for i in ctx_rd_cellids if i in pc_cellids]\n",
    "                wenn_list = [len(ctx_cellids)/total_cell_num\n",
    "                             ,len(rd_cellids)/total_cell_num\n",
    "                             ,len(ctx_rd_cellids)/total_cell_num\n",
    "                             ,len(pc_cellids)/total_cell_num\n",
    "                             ,len(ctx_pc_cellids)/total_cell_num\n",
    "                             ,len(rd_pc_cellids)/total_cell_num\n",
    "                             ,len(ctx_rd_pc_cellids)/total_cell_num]\n",
    "                wenn_lists.append(wenn_list)\n",
    "#             print(np.mean(wenn_lists,axis=0))\n",
    "            Celltypes_prop[mouseid][stage].append([i for i in np.mean(wenn_lists,axis=0)])\n",
    "        else:\n",
    "            Celltypes_prop[mouseid][stage].append([np.nan,np.nan,np.nan,np.nan,np.nan,np.nan,np.nan])"
   ]
  },
  {
   "cell_type": "markdown",
   "metadata": {},
   "source": [
    "#### Celltypes_prop_discrete"
   ]
  },
  {
   "cell_type": "code",
   "execution_count": 406,
   "metadata": {},
   "outputs": [
    {
     "name": "stdout",
     "output_type": "stream",
     "text": [
      "Training\n",
      "rdcells: try body_speed> 3cm/s\n",
      "rdcells: try body_speed> 3cm/s\n",
      "rdcells: try body_speed> 3cm/s\n",
      "rdcells: try body_speed> 3cm/s\n",
      "rdcells: try body_speed> 3cm/s\n",
      "rdcells: try body_speed> 3cm/s\n",
      "rdcells: try body_speed> 3cm/s\n",
      "rdcells: try body_speed> 3cm/s\n",
      "rdcells: try body_speed> 3cm/s\n",
      "WellTrain\n",
      "rdcells: try body_speed> 3cm/s\n",
      "others\n",
      "rdcells: try body_speed> 3cm/s\n",
      "rdcells: try body_speed> 3cm/s\n",
      "rdcells: try body_speed> 3cm/s\n",
      "Training\n",
      "rdcells: try body_speed> 3cm/s\n",
      "rdcells: try body_speed> 3cm/s\n",
      "rdcells: try body_speed> 3cm/s\n",
      "WellTrain\n",
      "rdcells: try body_speed> 3cm/s\n",
      "rdcells: try body_speed> 3cm/s\n",
      "rdcells: try body_speed> 3cm/s\n",
      "rdcells: try body_speed> 3cm/s\n",
      "rdcells: try body_speed> 3cm/s\n",
      "rdcells: try body_speed> 3cm/s\n",
      "rdcells: try body_speed> 3cm/s\n",
      "rdcells: try body_speed> 3cm/s\n",
      "rdcells: try body_speed> 3cm/s\n",
      "rdcells: try body_speed> 3cm/s\n",
      "others\n",
      "rdcells: try body_speed> 3cm/s\n",
      "Training\n",
      "rdcells: try body_speed> 3cm/s\n",
      "rdcells: try body_speed> 3cm/s\n",
      "rdcells: try body_speed> 3cm/s\n",
      "rdcells: try body_speed> 3cm/s\n",
      "rdcells: try body_speed> 3cm/s\n",
      "rdcells: try body_speed> 3cm/s\n",
      "WellTrain\n",
      "rdcells: try body_speed> 3cm/s\n",
      "rdcells: try body_speed> 3cm/s\n",
      "rdcells: try body_speed> 3cm/s\n",
      "rdcells: try body_speed> 3cm/s\n",
      "rdcells: try body_speed> 3cm/s\n",
      "rdcells: try body_speed> 3cm/s\n",
      "rdcells: try body_speed> 3cm/s\n",
      "rdcells: try body_speed> 3cm/s\n",
      "rdcells: try body_speed> 3cm/s\n",
      "rdcells: try body_speed> 3cm/s\n",
      "rdcells: try body_speed> 3cm/s\n",
      "rdcells: try body_speed> 3cm/s\n",
      "others\n",
      "rdcells: try body_speed> 3cm/s\n",
      "rdcells: try body_speed> 3cm/s\n",
      "rdcells: try body_speed> 3cm/s\n",
      "Training\n",
      "rdcells: try body_speed> 3cm/s\n",
      "rdcells: try body_speed> 3cm/s\n",
      "rdcells: try body_speed> 3cm/s\n",
      "rdcells: try body_speed> 3cm/s\n",
      "rdcells: try body_speed> 3cm/s\n",
      "rdcells: try body_speed> 3cm/s\n",
      "rdcells: try body_speed> 3cm/s\n",
      "rdcells: try body_speed> 3cm/s\n",
      "rdcells: try body_speed> 3cm/s\n",
      "rdcells: try body_speed> 3cm/s\n",
      "WellTrain\n",
      "rdcells: try body_speed> 3cm/s\n",
      "rdcells: try body_speed> 3cm/s\n",
      "rdcells: try body_speed> 3cm/s\n",
      "rdcells: try body_speed> 3cm/s\n",
      "rdcells: try body_speed> 3cm/s\n",
      "rdcells: try body_speed> 3cm/s\n",
      "rdcells: try body_speed> 3cm/s\n",
      "rdcells: try body_speed> 3cm/s\n",
      "others\n",
      "rdcells: try body_speed> 3cm/s\n"
     ]
    }
   ],
   "source": [
    "Celltypes_prop_discrete = {}\n",
    "for mouseid in Celltypes_discrete.keys():\n",
    "    Celltypes_prop_discrete[mouseid]={}\n",
    "    for stage in Celltypes_discrete[mouseid].keys():\n",
    "        print(stage)\n",
    "        Celltypes_prop_discrete[mouseid][stage]=[]\n",
    "        if len(Celltypes_discrete[mouseid][stage])>0:\n",
    "            celltype_files = Celltypes_discrete[mouseid][stage]\n",
    "            wenn_lists=[]\n",
    "            for celltype_file in celltype_files:\n",
    "                contextcell_ids=[]\n",
    "                rdcell_ids=[]\n",
    "                pccell_ids=[]\n",
    "                \n",
    "                contextcell_id, rdcell_id,pccell_id,total_cell_num = specific_ids(celltype_file,contexts=[0,1])\n",
    "                \n",
    "                contextcell_ids=contextcell_ids+contextcell_id[\"ctx0cells\"]+contextcell_id[\"ctx1cells\"]\n",
    "                rdcell_ids = rdcell_ids + rdcell_id[\"context0_leftcells\"]+ rdcell_id[\"context0_rightcells\"]+ rdcell_id[\"context1_leftcells\"]+ rdcell_id[\"context1_rightcells\"]\n",
    "                pccell_ids = pccell_ids + pccell_id[\"context0_pccells\"] + pccell_id[\"context1_pccells\"]\n",
    "                \n",
    "                ctx_cellids = list(set(spread(contextcell_ids)))\n",
    "                rd_cellids = list(set(spread(rdcell_ids)))\n",
    "                ctx_rd_cellids = [i for i in ctx_cellids if i in rd_cellids]                \n",
    "                pc_cellids = list(set(spread(pccell_ids)))                \n",
    "                ctx_pc_cellids = [i for i in ctx_cellids if i in pc_cellids]\n",
    "                rd_pc_cellids = [i for i in rd_cellids if i in pc_cellids]\n",
    "                ctx_rd_pc_cellids = [i for i in ctx_rd_cellids if i in pc_cellids]\n",
    "                wenn_list = [len(ctx_cellids)/total_cell_num\n",
    "                             ,len(rd_cellids)/total_cell_num\n",
    "                             ,len(ctx_rd_cellids)/total_cell_num\n",
    "                             ,len(pc_cellids)/total_cell_num\n",
    "                             ,len(ctx_pc_cellids)/total_cell_num\n",
    "                             ,len(rd_pc_cellids)/total_cell_num\n",
    "                             ,len(ctx_rd_pc_cellids)/total_cell_num]\n",
    "                wenn_lists.append(wenn_list)\n",
    "#             print(np.mean(wenn_lists,axis=0))\n",
    "            Celltypes_prop_discrete[mouseid][stage].append([i for i in np.mean(wenn_lists,axis=0)])\n",
    "        else:\n",
    "            Celltypes_prop_discrete[mouseid][stage].append([np.nan,np.nan,np.nan,np.nan,np.nan,np.nan,np.nan])"
   ]
  },
  {
   "cell_type": "code",
   "execution_count": null,
   "metadata": {},
   "outputs": [],
   "source": []
  },
  {
   "cell_type": "markdown",
   "metadata": {},
   "source": [
    "### organize matrix: stages x celltypes.\n",
    "here 7 stages and 7 celltypes"
   ]
  },
  {
   "cell_type": "markdown",
   "metadata": {},
   "source": [
    "#### organized as discrete"
   ]
  },
  {
   "cell_type": "code",
   "execution_count": 407,
   "metadata": {},
   "outputs": [
    {
     "data": {
      "text/plain": [
       "{'206550': {'Training': [[0.49583777400120976,\n",
       "    0.5114529225195469,\n",
       "    0.31348234774510086,\n",
       "    0.34031198292223147,\n",
       "    0.17078888664855196,\n",
       "    0.15881428566856454,\n",
       "    0.10035589352638637]],\n",
       "  'WellTrain': [[0.4892703862660944,\n",
       "    0.6394849785407726,\n",
       "    0.33047210300429186,\n",
       "    0.2918454935622318,\n",
       "    0.13304721030042918,\n",
       "    0.18454935622317598,\n",
       "    0.0944206008583691]],\n",
       "  'others': [[0.37221918176493746,\n",
       "    0.5060489097560273,\n",
       "    0.23729008842929977,\n",
       "    0.34562798244856024,\n",
       "    0.14002746013000356,\n",
       "    0.17579283924302214,\n",
       "    0.09086326583518162]]},\n",
       " '206551': {'Training': [[0.26354679802955666,\n",
       "    0.28981937602627256,\n",
       "    0.09441707717569786,\n",
       "    0.1691297208538588,\n",
       "    0.0361247947454844,\n",
       "    0.03940886699507389,\n",
       "    0.009852216748768473]],\n",
       "  'WellTrain': [[0.5181665264928512,\n",
       "    0.527616244142737,\n",
       "    0.3159858224198005,\n",
       "    0.33055388681965636,\n",
       "    0.17062958068004325,\n",
       "    0.1731827466057912,\n",
       "    0.10348432055749128]],\n",
       "  'others': [[0.5541871921182266,\n",
       "    0.4014778325123153,\n",
       "    0.22413793103448276,\n",
       "    0.2536945812807882,\n",
       "    0.15024630541871922,\n",
       "    0.10098522167487685,\n",
       "    0.0665024630541872]]},\n",
       " '206552': {'Training': [[0.4022865392834433,\n",
       "    0.3992035942500339,\n",
       "    0.20191335439013458,\n",
       "    0.24188218615463197,\n",
       "    0.09137817806548455,\n",
       "    0.07323232323232323,\n",
       "    0.03454826906839291]],\n",
       "  'WellTrain': [[0.5889956843981612,\n",
       "    0.6632029230945639,\n",
       "    0.44492812542348154,\n",
       "    0.2971567585035077,\n",
       "    0.17149754270497305,\n",
       "    0.18449640486792188,\n",
       "    0.12371292106586225]],\n",
       "  'others': [[0.31956301925342173,\n",
       "    0.4482596866497796,\n",
       "    0.14537010976639458,\n",
       "    0.27506228435021,\n",
       "    0.08134492499817576,\n",
       "    0.10490873648768384,\n",
       "    0.025732036567949878]]},\n",
       " '206553': {'Training': [[0.6680824218282659,\n",
       "    0.6462214609187704,\n",
       "    0.4798252090902535,\n",
       "    0.35731195146862615,\n",
       "    0.2298369646079783,\n",
       "    0.2113099732468417,\n",
       "    0.15589310814363047]],\n",
       "  'WellTrain': [[0.7548496239959148,\n",
       "    0.8329747303201697,\n",
       "    0.6530066302260276,\n",
       "    0.42006783087064414,\n",
       "    0.3131222924000344,\n",
       "    0.33653198630778547,\n",
       "    0.26247778438920827]],\n",
       "  'others': [[0.48315529991783074,\n",
       "    0.4075595727198028,\n",
       "    0.2465078060805259,\n",
       "    0.35661462612982747,\n",
       "    0.1676253081347576,\n",
       "    0.11503697617091208,\n",
       "    0.06655710764174198]]}}"
      ]
     },
     "execution_count": 407,
     "metadata": {},
     "output_type": "execute_result"
    }
   ],
   "source": [
    "Celltypes_prop_discrete"
   ]
  },
  {
   "cell_type": "code",
   "execution_count": 409,
   "metadata": {},
   "outputs": [],
   "source": [
    "Stages_discrete_prop={}\n",
    "for stage in [\"Training\"]:\n",
    "    Stages_discrete_prop[\"Training\"]=[]\n",
    "    for mouseid in mouseids:\n",
    "        Stages_discrete_prop[\"Training\"].append(Celltypes_prop_discrete[mouseid][stage][0])\n",
    "for stage in [\"WellTrain\"]:\n",
    "    Stages_discrete_prop[\"WellTrain\"]=[]\n",
    "    for mouseid in mouseids:\n",
    "        Stages_discrete_prop[\"WellTrain\"].append(Celltypes_prop_discrete[mouseid][stage][0])"
   ]
  },
  {
   "cell_type": "code",
   "execution_count": 410,
   "metadata": {},
   "outputs": [],
   "source": [
    "aves = []\n",
    "stds = []\n",
    "sems=[]\n",
    "for stage in Stages_discrete_prop.keys():\n",
    "    ave = [i for i in np.nanmean(Stages_discrete_prop[stage],axis=0)]\n",
    "    std = [i for i in np.nanstd(Stages_discrete_prop[stage],axis=0,ddof=1)]\n",
    "    n = len(np.array(Stages_discrete_prop[stage])[:,0]) - np.isnan(Stages_discrete_prop[stage])[:,0].sum()\n",
    "    sem = std/np.sqrt(n)\n",
    "#     venn3(ave)\n",
    "    aves.append(ave)\n",
    "    stds.append(std)\n",
    "    sems.append(sem)\n",
    "#     plt.show()\n",
    "aves = np.array(aves)\n",
    "stds = np.array(stds)\n",
    "sems = np.array(sems)"
   ]
  },
  {
   "cell_type": "code",
   "execution_count": 411,
   "metadata": {},
   "outputs": [
    {
     "data": {
      "text/plain": [
       "(2, 3, 7)"
      ]
     },
     "execution_count": 411,
     "metadata": {},
     "output_type": "execute_result"
    }
   ],
   "source": [
    "Stages_discrete_prop_arrs = []\n",
    "for stage in Stages_discrete_prop.keys():\n",
    "    Stages_discrete_prop_arrs.append(Stages_discrete_prop[stage])\n",
    "Stages_discrete_prop_arrs = np.array(Stages_discrete_prop_arrs)\n",
    "np.shape(Stages_discrete_prop_arrs) # stage mouse types"
   ]
  },
  {
   "cell_type": "code",
   "execution_count": 412,
   "metadata": {},
   "outputs": [],
   "source": [
    "from mylab.ana.Mstat import *"
   ]
  },
  {
   "cell_type": "code",
   "execution_count": 413,
   "metadata": {},
   "outputs": [
    {
     "name": "stdout",
     "output_type": "stream",
     "text": [
      "--------------------------\n",
      "0.27523352407483426\n",
      "--------------------------\n",
      "0.12663045794761718\n",
      "--------------------------\n",
      "0.27523352407483426\n",
      "--------------------------\n",
      "0.27523352407483426\n",
      "--------------------------\n",
      "0.27523352407483426\n",
      "--------------------------\n",
      "0.27523352407483426\n",
      "--------------------------\n",
      "0.27523352407483426\n"
     ]
    }
   ],
   "source": [
    "for i in range(7): # 7 celltypes\n",
    "    print(\"--------------------------\")\n",
    "    cell_types = Stages_discrete_prop_arrs[:,:,i]    \n",
    "    print(Wilcoxon_ranksumstest(cell_types[0,:],cell_types[1,:])[1])"
   ]
  },
  {
   "cell_type": "code",
   "execution_count": 54,
   "metadata": {},
   "outputs": [
    {
     "data": {
      "text/plain": [
       "array([0.04467408, 0.05325444, 0.02291789, 0.03613023, 0.03817734,\n",
       "       0.02665197, 0.06655711])"
      ]
     },
     "execution_count": 54,
     "metadata": {},
     "output_type": "execute_result"
    }
   ],
   "source": [
    "cell_types[0,:]"
   ]
  },
  {
   "cell_type": "code",
   "execution_count": null,
   "metadata": {},
   "outputs": [],
   "source": []
  },
  {
   "cell_type": "code",
   "execution_count": 414,
   "metadata": {},
   "outputs": [
    {
     "data": {
      "text/plain": [
       "Text(0.5, 1.05, 'Part5-Cell proporotion along performance')"
      ]
     },
     "execution_count": 414,
     "metadata": {},
     "output_type": "execute_result"
    },
    {
     "data": {
      "image/png": "[encoded data removed]",
      "text/plain": [
       "<Figure size 936x288 with 1 Axes>"
      ]
     },
     "metadata": {
      "needs_background": "light"
     },
     "output_type": "display_data"
    }
   ],
   "source": [
    "colors = [\"red\",\"green\",\"blue\",\"orange\",\"pink\",\"cyan\",\"black\"]\n",
    "plt.figure(figsize=(13,4))\n",
    "handles=[]\n",
    "for i in range(7): # different celltypes\n",
    "    x = np.array([1,2])+2*i\n",
    "    y = aves[:,i]\n",
    "#     sns.regplot(x,y,color=colors[i])\n",
    "    y_err = stds[:,i]\n",
    "    h=plt.scatter(x,y,color=colors[i])    \n",
    "    plt.errorbar(x,y,yerr=y_err,color=colors[i],linestyle=\"-\")\n",
    "    handles.append(h)\n",
    "#     if i == 3:\n",
    "#         plt.plot(x,aves[2:,0]*aves[2:,1],\"--\",color=colors[i])\n",
    "#     if i == 4:\n",
    "#         plt.plot(x,aves[2:,0]*aves[2:,2],\"--\",color=colors[i])\n",
    "#     if i == 5:\n",
    "#         plt.plot(x,aves[2:,1]*aves[2:,2],\"--\",color=colors[i])\n",
    "#     if i == 6:\n",
    "#         plt.plot(x,aves[2:,0]*aves[2:,1]*aves[2:,2],\"--\",color=colors[i])\n",
    "plt.legend(handles=handles,labels=[\"CTXC\",\"RDC\",\"PC\",\"CTXC&RDC\",\"CTXC&PC\",\"RDC&PC\",\"CTXC&RDC&PC\"])\n",
    "plt.xticks(ticks=np.arange(1,15),labels=['Training', 'WellTrain']*7,rotation=0)\n",
    "plt.xlabel(\"Performance\")\n",
    "plt.ylabel(\"proportion(0-1)\")\n",
    "plt.ylim(0,1)\n",
    "plt.title(\"Part5-Cell proporotion along performance\",y=1.05)"
   ]
  },
  {
   "cell_type": "markdown",
   "metadata": {},
   "source": [
    "#### organized as continuous performance"
   ]
  },
  {
   "cell_type": "code",
   "execution_count": 42,
   "metadata": {},
   "outputs": [],
   "source": [
    "Stages_prop={}\n",
    "stages = ['train', '40', '60', '60-70', '70-80', '80']\n",
    "for stage in stages:\n",
    "    Stages_prop[stage]=[]\n",
    "    for mouseid in  mouseids:\n",
    "        Stages_prop[stage].append(Celltypes_prop[mouseid][stage][0])\n",
    "\n",
    "aves = []\n",
    "stds = []\n",
    "sems = []\n",
    "for stage in Stages_prop.keys():\n",
    "    ave = [i for i in np.nanmean(Stages_prop[stage],axis=0)]\n",
    "    std = [i for i in np.nanstd(Stages_prop[stage],axis=0,ddof=1)]\n",
    "    n = len(np.array(Stages_prop[stage])[:,0]) - np.isnan(Stages_prop[stage])[:,0].sum()\n",
    "    sem = std/np.sqrt(n)\n",
    "#     venn3(ave)\n",
    "    aves.append(ave)\n",
    "    stds.append(std)\n",
    "    sems.append(sem)\n",
    "#     plt.show()\n",
    "aves = np.array(aves)\n",
    "stds = np.array(stds)\n",
    "sems = np.array(sems)"
   ]
  },
  {
   "cell_type": "code",
   "execution_count": 43,
   "metadata": {},
   "outputs": [],
   "source": [
    "Stages_prop_arrs = []\n",
    "for stage in stages:\n",
    "    Stages_prop_arrs.append(Stages_prop[stage])\n",
    "\n",
    "Stages_prop_arrs = np.array(Stages_prop_arrs) # stages mice celltypes"
   ]
  },
  {
   "cell_type": "code",
   "execution_count": 45,
   "metadata": {},
   "outputs": [
    {
     "data": {
      "text/plain": [
       "(6, 7, 7)"
      ]
     },
     "execution_count": 45,
     "metadata": {},
     "output_type": "execute_result"
    }
   ],
   "source": [
    "np.shape(Stages_prop_arrs)"
   ]
  },
  {
   "cell_type": "code",
   "execution_count": 46,
   "metadata": {
    "scrolled": true
   },
   "outputs": [
    {
     "data": {
      "text/plain": [
       "Text(0.5, 1.05, 'Part5-Cell proporotion along performance')"
      ]
     },
     "execution_count": 46,
     "metadata": {},
     "output_type": "execute_result"
    },
    {
     "data": {
      "image/png": "[encoded data removed]",
      "text/plain": [
       "<Figure size 936x288 with 1 Axes>"
      ]
     },
     "metadata": {
      "needs_background": "light"
     },
     "output_type": "display_data"
    }
   ],
   "source": [
    "colors = [\"red\",\"green\",\"blue\",\"orange\",\"pink\",\"cyan\",\"black\"]\n",
    "plt.figure(figsize=(13,4))\n",
    "handles=[]\n",
    "for i in range(7): # different celltypes\n",
    "    x = np.array([1,2,3,4])+4*i\n",
    "    y = aves[2:,i]\n",
    "    scatters = Stages_prop_arrs[1:,:,i]\n",
    "#     sns.regplot(x,y,color=colors[i])\n",
    "    y_err = sems[2:,i]\n",
    "#     h=plt.scatter(x,y,color=colors[i])  \n",
    "    \n",
    "\n",
    "    for n in range(7): # four mice\n",
    "        ys =scatters[1:,n]\n",
    "        plt.plot(x,ys,color=\"gray\",alpha=0.5)\n",
    "        \n",
    "    h=plt.errorbar(x,y,yerr=y_err,color=colors[i],linestyle=\"-\",marker=\"o\")\n",
    "    handles.append(h)\n",
    "    if i == 3:\n",
    "        plt.plot(x,aves[2:,0]*aves[2:,1],\"--\",color=colors[i])\n",
    "    if i == 4:\n",
    "        plt.plot(x,aves[2:,0]*aves[2:,2],\"--\",color=colors[i])\n",
    "    if i == 5:\n",
    "        plt.plot(x,aves[2:,1]*aves[2:,2],\"--\",color=colors[i])\n",
    "    if i == 6:\n",
    "        plt.plot(x,aves[2:,0]*aves[2:,1]*aves[2:,2],\"--\",color=colors[i])\n",
    "plt.legend(handles=handles,labels=[\"CTXC\",\"RDC\",\"PC\",\"CTXC&RDC\",\"CTXC&PC\",\"RDC&PC\",\"CTXC&RDC&PC\"])\n",
    "plt.xticks(ticks=np.arange(1,29),labels=['<60%', '60-70%', '70-80%', '>80%']*7,rotation=45)\n",
    "plt.xlabel(\"Performance\")\n",
    "plt.ylabel(\"proportion(0-1)\")\n",
    "plt.ylim(0,1)\n",
    "plt.title(\"Part5-Cell proporotion along performance\",y=1.05)\n"
   ]
  },
  {
   "cell_type": "code",
   "execution_count": 57,
   "metadata": {},
   "outputs": [
    {
     "name": "stdout",
     "output_type": "stream",
     "text": [
      "--------------------------\n",
      "0 1 0.001745118699528905\n",
      "0 2 0.11022304635486535\n",
      "0 3 0.004040984683985582\n",
      "1 2 0.00880861651937405\n",
      "1 3 0.48220269762779056\n",
      "2 3 0.0350056820770933\n",
      "--------------------------\n",
      "0 1 0.001745118699528905\n",
      "0 2 0.22479909925003916\n",
      "0 3 0.001745118699528905\n",
      "1 2 0.002675786206591521\n",
      "1 3 0.406233805110795\n",
      "2 3 0.00880861651937405\n",
      "--------------------------\n",
      "0 1 0.001745118699528905\n",
      "0 2 0.14171996321059\n",
      "0 3 0.001745118699528905\n",
      "1 2 0.0060112108889040635\n",
      "1 3 0.48220269762779056\n",
      "2 3 0.025347318677468252\n",
      "--------------------------\n",
      "0 1 0.012716250355070739\n",
      "0 2 0.33790401910300505\n",
      "0 3 0.012716250355070739\n",
      "1 2 0.018086461315687384\n",
      "1 3 0.406233805110795\n",
      "2 3 0.04764542558436181\n",
      "--------------------------\n",
      "0 1 0.002675786206591521\n",
      "0 2 0.11022304635486535\n",
      "0 3 0.004040984683985582\n",
      "1 2 0.00880861651937405\n",
      "1 3 0.48220269762779056\n",
      "2 3 0.04764542558436181\n",
      "--------------------------\n",
      "0 1 0.001745118699528905\n",
      "0 2 0.33790401910300505\n",
      "0 3 0.002675786206591521\n",
      "1 2 0.00880861651937405\n",
      "1 3 0.406233805110795\n",
      "2 3 0.018086461315687384\n",
      "--------------------------\n",
      "0 1 0.001745118699528905\n",
      "0 2 0.22479909925003916\n",
      "0 3 0.002675786206591521\n",
      "1 2 0.00880861651937405\n",
      "1 3 0.406233805110795\n",
      "2 3 0.0350056820770933\n"
     ]
    }
   ],
   "source": [
    "from mylab.ana.Mstat import *\n",
    "for i in range(7):\n",
    "    print(\"--------------------------\")\n",
    "    cell_types = Stages_prop_arrs[:,:,i]\n",
    "    for a,b in itertools.combinations([0,1,2,3],2):\n",
    "        print(a,b,Wilcoxon_ranksumstest(cell_types[a],cell_types[b])[1])\n"
   ]
  }
 ],
 "metadata": {
  "kernelspec": {
   "display_name": "Python 3",
   "language": "python",
   "name": "python3"
  },
  "language_info": {
   "codemirror_mode": {
    "name": "ipython",
    "version": 3
   },
   "file_extension": ".py",
   "mimetype": "text/x-python",
   "name": "python",
   "nbconvert_exporter": "python",
   "pygments_lexer": "ipython3",
   "version": "3.8.3"
  },
  "toc": {
   "base_numbering": 1,
   "nav_menu": {},
   "number_sections": true,
   "sideBar": true,
   "skip_h1_title": false,
   "title_cell": "Table of Contents",
   "title_sidebar": "Contents",
   "toc_cell": false,
   "toc_position": {},
   "toc_section_display": true,
   "toc_window_display": true
  }
 },
 "nbformat": 4,
 "nbformat_minor": 4
}
