{
 "cells": [
  {
   "cell_type": "code",
   "execution_count": 1,
   "metadata": {},
   "outputs": [],
   "source": [
    "import glob,sys,os,re\n",
    "from mylab.ana.miniscope.context_exposure.Canamini import *\n",
    "from mylab.ana.miniscope.context_exposure.ana_funtions import *\n",
    "import pandas as pd\n",
    "import seaborn as sns\n",
    "import matplotlib.pyplot as plt\n",
    "from core.Cdatabase import *"
   ]
  },
  {
   "cell_type": "markdown",
   "metadata": {},
   "source": [
    "### indexes all the celltype_files"
   ]
  },
  {
   "cell_type": "code",
   "execution_count": 2,
   "metadata": {},
   "outputs": [],
   "source": [
    "db = database()"
   ]
  },
  {
   "cell_type": "code",
   "execution_count": 3,
   "metadata": {},
   "outputs": [],
   "source": [
    "context_map = db.add_order2part1()"
   ]
  },
  {
   "cell_type": "code",
   "execution_count": 4,
   "metadata": {},
   "outputs": [
    {
     "data": {
      "text/html": [
       "<div>\n",
       "<style scoped>\n",
       "    .dataframe tbody tr th:only-of-type {\n",
       "        vertical-align: middle;\n",
       "    }\n",
       "\n",
       "    .dataframe tbody tr th {\n",
       "        vertical-align: top;\n",
       "    }\n",
       "\n",
       "    .dataframe thead th {\n",
       "        text-align: right;\n",
       "    }\n",
       "</style>\n",
       "<table border=\"1\" class=\"dataframe\">\n",
       "  <thead>\n",
       "    <tr style=\"text-align: right;\">\n",
       "      <th></th>\n",
       "      <th>Unnamed: 0</th>\n",
       "      <th>mouse_id</th>\n",
       "      <th>part</th>\n",
       "      <th>aim</th>\n",
       "      <th>index</th>\n",
       "      <th>ctx_0</th>\n",
       "      <th>ctx_1</th>\n",
       "      <th>ctx_2</th>\n",
       "      <th>rule_0</th>\n",
       "      <th>rule_1</th>\n",
       "      <th>rule_2</th>\n",
       "      <th>part_order</th>\n",
       "      <th>part_total_number</th>\n",
       "    </tr>\n",
       "  </thead>\n",
       "  <tbody>\n",
       "    <tr>\n",
       "      <th>0</th>\n",
       "      <td>93</td>\n",
       "      <td>206534</td>\n",
       "      <td>1</td>\n",
       "      <td>ce</td>\n",
       "      <td>20200721-213035</td>\n",
       "      <td>A</td>\n",
       "      <td>B</td>\n",
       "      <td>C</td>\n",
       "      <td>left</td>\n",
       "      <td>left</td>\n",
       "      <td>left</td>\n",
       "      <td>1</td>\n",
       "      <td>4</td>\n",
       "    </tr>\n",
       "    <tr>\n",
       "      <th>0</th>\n",
       "      <td>0</td>\n",
       "      <td>201033</td>\n",
       "      <td>1</td>\n",
       "      <td>ce</td>\n",
       "      <td>20200721-201748</td>\n",
       "      <td>A</td>\n",
       "      <td>B</td>\n",
       "      <td>C</td>\n",
       "      <td>left</td>\n",
       "      <td>left</td>\n",
       "      <td>left</td>\n",
       "      <td>1</td>\n",
       "      <td>4</td>\n",
       "    </tr>\n",
       "    <tr>\n",
       "      <th>0</th>\n",
       "      <td>43</td>\n",
       "      <td>201034</td>\n",
       "      <td>1</td>\n",
       "      <td>ce</td>\n",
       "      <td>20200721-191521</td>\n",
       "      <td>A</td>\n",
       "      <td>B</td>\n",
       "      <td>C</td>\n",
       "      <td>left</td>\n",
       "      <td>left</td>\n",
       "      <td>left</td>\n",
       "      <td>1</td>\n",
       "      <td>4</td>\n",
       "    </tr>\n",
       "    <tr>\n",
       "      <th>0</th>\n",
       "      <td>116</td>\n",
       "      <td>206548</td>\n",
       "      <td>1</td>\n",
       "      <td>ce</td>\n",
       "      <td>20200721-155255</td>\n",
       "      <td>A</td>\n",
       "      <td>B</td>\n",
       "      <td>C</td>\n",
       "      <td>left</td>\n",
       "      <td>left</td>\n",
       "      <td>left</td>\n",
       "      <td>1</td>\n",
       "      <td>4</td>\n",
       "    </tr>\n",
       "    <tr>\n",
       "      <th>0</th>\n",
       "      <td>146</td>\n",
       "      <td>206550</td>\n",
       "      <td>1</td>\n",
       "      <td>ce</td>\n",
       "      <td>20200721-170601</td>\n",
       "      <td>A</td>\n",
       "      <td>B</td>\n",
       "      <td>C</td>\n",
       "      <td>left</td>\n",
       "      <td>left</td>\n",
       "      <td>left</td>\n",
       "      <td>1</td>\n",
       "      <td>4</td>\n",
       "    </tr>\n",
       "    <tr>\n",
       "      <th>0</th>\n",
       "      <td>176</td>\n",
       "      <td>206551</td>\n",
       "      <td>1</td>\n",
       "      <td>ce</td>\n",
       "      <td>20200721-150926</td>\n",
       "      <td>A</td>\n",
       "      <td>B</td>\n",
       "      <td>C</td>\n",
       "      <td>left</td>\n",
       "      <td>left</td>\n",
       "      <td>left</td>\n",
       "      <td>1</td>\n",
       "      <td>4</td>\n",
       "    </tr>\n",
       "    <tr>\n",
       "      <th>0</th>\n",
       "      <td>210</td>\n",
       "      <td>206552</td>\n",
       "      <td>1</td>\n",
       "      <td>ce</td>\n",
       "      <td>20200721-162523</td>\n",
       "      <td>A</td>\n",
       "      <td>B</td>\n",
       "      <td>C</td>\n",
       "      <td>left</td>\n",
       "      <td>left</td>\n",
       "      <td>left</td>\n",
       "      <td>1</td>\n",
       "      <td>4</td>\n",
       "    </tr>\n",
       "    <tr>\n",
       "      <th>0</th>\n",
       "      <td>249</td>\n",
       "      <td>206553</td>\n",
       "      <td>1</td>\n",
       "      <td>ce</td>\n",
       "      <td>20200721-142122</td>\n",
       "      <td>A</td>\n",
       "      <td>B</td>\n",
       "      <td>C</td>\n",
       "      <td>left</td>\n",
       "      <td>left</td>\n",
       "      <td>left</td>\n",
       "      <td>1</td>\n",
       "      <td>4</td>\n",
       "    </tr>\n",
       "    <tr>\n",
       "      <th>0</th>\n",
       "      <td>62</td>\n",
       "      <td>2020061</td>\n",
       "      <td>1</td>\n",
       "      <td>ce</td>\n",
       "      <td>20200721-183836</td>\n",
       "      <td>A</td>\n",
       "      <td>B</td>\n",
       "      <td>C</td>\n",
       "      <td>left</td>\n",
       "      <td>left</td>\n",
       "      <td>left</td>\n",
       "      <td>1</td>\n",
       "      <td>4</td>\n",
       "    </tr>\n",
       "  </tbody>\n",
       "</table>\n",
       "</div>"
      ],
      "text/plain": [
       "   Unnamed: 0  mouse_id  part aim            index ctx_0 ctx_1 ctx_2 rule_0  \\\n",
       "0          93    206534     1  ce  20200721-213035     A     B     C  left    \n",
       "0           0    201033     1  ce  20200721-201748     A     B     C  left    \n",
       "0          43    201034     1  ce  20200721-191521     A     B     C  left    \n",
       "0         116    206548     1  ce  20200721-155255     A     B     C  left    \n",
       "0         146    206550     1  ce  20200721-170601     A     B     C  left    \n",
       "0         176    206551     1  ce  20200721-150926     A     B     C  left    \n",
       "0         210    206552     1  ce  20200721-162523     A     B     C  left    \n",
       "0         249    206553     1  ce  20200721-142122     A     B     C  left    \n",
       "0          62   2020061     1  ce  20200721-183836     A     B     C  left    \n",
       "\n",
       "  rule_1 rule_2  part_order  part_total_number  \n",
       "0   left   left           1                  4  \n",
       "0   left   left           1                  4  \n",
       "0   left   left           1                  4  \n",
       "0   left   left           1                  4  \n",
       "0   left   left           1                  4  \n",
       "0   left   left           1                  4  \n",
       "0   left   left           1                  4  \n",
       "0   left   left           1                  4  \n",
       "0   left   left           1                  4  "
      ]
     },
     "execution_count": 4,
     "metadata": {},
     "output_type": "execute_result"
    }
   ],
   "source": [
    "context_map[context_map[\"part_order\"]==1]"
   ]
  },
  {
   "cell_type": "code",
   "execution_count": 8,
   "metadata": {
    "scrolled": true
   },
   "outputs": [],
   "source": [
    "celltypefiles = []\n",
    "for index,row in context_map[context_map[\"part_order\"]==1].iterrows():\n",
    "    mouseid = row[\"mouse_id\"]\n",
    "    part = row[\"part\"]\n",
    "    day = re.findall(\"(\\d{8})-\",row[\"index\"])[0]\n",
    "    aim = row[\"aim\"]\n",
    "    celltypefile = db.index_celltypes(mouseid,part,day,aim)\n",
    "    if \"20103\" not in celltypefile[0]:\n",
    "        celltypefiles.append(celltypefile[0])"
   ]
  },
  {
   "cell_type": "code",
   "execution_count": 9,
   "metadata": {},
   "outputs": [
    {
     "data": {
      "text/plain": [
       "['\\\\\\\\10.10.47.163\\\\Data_archive\\\\qiushou\\\\results\\\\celltypes\\\\celltype_206534_part1_day20200721_aim_ce.pkl',\n",
       " '\\\\\\\\10.10.47.163\\\\Data_archive\\\\qiushou\\\\results\\\\celltypes\\\\celltype_206548_part1_day20200721_aim_ce.pkl',\n",
       " '\\\\\\\\10.10.47.163\\\\Data_archive\\\\qiushou\\\\results\\\\celltypes\\\\celltype_206550_part1_day20200721_aim_ce.pkl',\n",
       " '\\\\\\\\10.10.47.163\\\\Data_archive\\\\qiushou\\\\results\\\\celltypes\\\\celltype_206551_part1_day20200721_aim_ce.pkl',\n",
       " '\\\\\\\\10.10.47.163\\\\Data_archive\\\\qiushou\\\\results\\\\celltypes\\\\celltype_206552_part1_day20200721_aim_ce.pkl',\n",
       " '\\\\\\\\10.10.47.163\\\\Data_archive\\\\qiushou\\\\results\\\\celltypes\\\\celltype_206553_part1_day20200721_aim_ce.pkl',\n",
       " '\\\\\\\\10.10.47.163\\\\Data_archive\\\\qiushou\\\\results\\\\celltypes\\\\celltype_2020061_part1_day20200721_aim_ce.pkl']"
      ]
     },
     "execution_count": 9,
     "metadata": {},
     "output_type": "execute_result"
    }
   ],
   "source": [
    "celltypefiles"
   ]
  },
  {
   "cell_type": "markdown",
   "metadata": {},
   "source": [
    "### define cell types"
   ]
  },
  {
   "cell_type": "code",
   "execution_count": 12,
   "metadata": {},
   "outputs": [
    {
     "name": "stdout",
     "output_type": "stream",
     "text": [
      "rdcells: try body_speed> 3cm/s\n"
     ]
    },
    {
     "ename": "SystemExit",
     "evalue": "",
     "output_type": "error",
     "traceback": [
      "An exception has occurred, use %tb to see the full traceback.\n",
      "\u001b[1;31mSystemExit\u001b[0m\n"
     ]
    },
    {
     "name": "stderr",
     "output_type": "stream",
     "text": [
      "C:\\Users\\qiushou\\.conda\\envs\\mylab\\lib\\site-packages\\IPython\\core\\interactiveshell.py:3351: UserWarning: To exit: use 'exit', 'quit', or Ctrl-D.\n",
      "  warn(\"To exit: use 'exit', 'quit', or Ctrl-D.\", stacklevel=1)\n"
     ]
    }
   ],
   "source": [
    "celltypes = {}\n",
    "for celltypefile in celltypefiles:\n",
    "    ct = celltype(celltypefile)\n",
    "    contexts=[0,1]\n",
    "    contextcell_ids, rdcell_ids,pccell_ids,total_cell_num = ct.specific_ids(contexts=contexts)\n",
    "    csi = ct.csi(contexts=contexts)\n",
    "    for context in contexts        \n",
    "        rdsi = ct.rdsi(context=0)\n",
    "        si = ct.si(context=0)\n",
    "        maxFr_placebin = ct.MaxFr_placebin(context=0)\n"
   ]
  },
  {
   "cell_type": "code",
   "execution_count": 14,
   "metadata": {},
   "outputs": [
    {
     "data": {
      "text/plain": [
       "('206534', '1', '20200721', 'ce')"
      ]
     },
     "execution_count": 14,
     "metadata": {},
     "output_type": "execute_result"
    }
   ],
   "source": [
    "ct.mouseid_part_day_aim()"
   ]
  },
  {
   "cell_type": "markdown",
   "metadata": {},
   "source": [
    "### cellid,csi,rdsi,si,MaxFr_placebin"
   ]
  },
  {
   "cell_type": "markdown",
   "metadata": {},
   "source": [
    "### density/count distributino along  MaxFr_placebin "
   ]
  },
  {
   "cell_type": "markdown",
   "metadata": {},
   "source": [
    "### density/count distribution along indexes"
   ]
  },
  {
   "cell_type": "markdown",
   "metadata": {},
   "source": [
    "### indexes distribution along MaxFr_palcebin"
   ]
  },
  {
   "cell_type": "code",
   "execution_count": null,
   "metadata": {},
   "outputs": [],
   "source": []
  }
 ],
 "metadata": {
  "kernelspec": {
   "display_name": "Python 3",
   "language": "python",
   "name": "python3"
  },
  "language_info": {
   "codemirror_mode": {
    "name": "ipython",
    "version": 3
   },
   "file_extension": ".py",
   "mimetype": "text/x-python",
   "name": "python",
   "nbconvert_exporter": "python",
   "pygments_lexer": "ipython3",
   "version": "3.8.3"
  },
  "toc": {
   "base_numbering": 1,
   "nav_menu": {},
   "number_sections": true,
   "sideBar": true,
   "skip_h1_title": false,
   "title_cell": "Table of Contents",
   "title_sidebar": "Contents",
   "toc_cell": false,
   "toc_position": {},
   "toc_section_display": true,
   "toc_window_display": true
  }
 },
 "nbformat": 4,
 "nbformat_minor": 4
}
